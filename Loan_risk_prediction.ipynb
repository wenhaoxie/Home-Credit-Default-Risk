{
 "cells": [
  {
   "cell_type": "code",
   "execution_count": 2,
   "metadata": {
    "collapsed": true
   },
   "outputs": [],
   "source": [
    "import warnings\n",
    "warnings.filterwarnings(\"ignore\")\n",
    "import pandas as pd \n",
    "import numpy as np \n",
    "import matplotlib\n",
    "%matplotlib inline\n",
    "import matplotlib.pyplot as plt  \n",
    "import seaborn as sns \n",
    "color = sns.color_palette()\n"
   ]
  },
  {
   "cell_type": "code",
   "execution_count": 2,
   "metadata": {
    "collapsed": true
   },
   "outputs": [],
   "source": [
    "application_train = pd.read_csv('application_train.csv')\n",
    "POS_CASH_balance = pd.read_csv('POS_CASH_balance.csv')\n",
    "bureau_balance = pd.read_csv('bureau_balance.csv')\n",
    "previous_application = pd.read_csv('previous_application.csv')\n",
    "installments_payments = pd.read_csv('installments_payments.csv')\n",
    "credit_card_balance = pd.read_csv('credit_card_balance.csv')\n",
    "bureau = pd.read_csv('bureau.csv')\n",
    "application_test = pd.read_csv('application_test.csv')"
   ]
  },
  {
   "cell_type": "code",
   "execution_count": 3,
   "metadata": {
    "collapsed": true
   },
   "outputs": [],
   "source": [
    "\n",
    "bureau['DAYS_CREDIT_ENDDATE'][bureau['DAYS_CREDIT_ENDDATE'] < -40000] = np.nan\n",
    "bureau['DAYS_CREDIT_UPDATE'][bureau['DAYS_CREDIT_UPDATE'] < -40000] = np.nan\n",
    "bureau['DAYS_ENDDATE_FACT'][bureau['DAYS_ENDDATE_FACT'] < -40000] = np.nan\n",
    "credit_card_balance['AMT_DRAWINGS_ATM_CURRENT'][credit_card_balance['AMT_DRAWINGS_ATM_CURRENT'] < 0] = np.nan\n",
    "credit_card_balance['AMT_DRAWINGS_CURRENT'][credit_card_balance['AMT_DRAWINGS_CURRENT'] < 0] = np.nan\n",
    "POS_CASH_balance['pos_cash_paid_late'] = (POS_CASH_balance['SK_DPD'] > 0).astype(int)\n",
    "POS_CASH_balance['pos_cash_paid_late_with_tolerance'] = (POS_CASH_balance['SK_DPD_DEF'] > 0).astype(int)\n",
    "installments_payments['instalment_paid_late_in_days'] = installments_payments['DAYS_ENTRY_PAYMENT'] - installments_payments['DAYS_INSTALMENT'] \n",
    "installments_payments['instalment_paid_late'] = (installments_payments['instalment_paid_late_in_days'] > 0).astype(int)\n",
    "installments_payments['instalment_paid_over_amount'] = installments_payments['AMT_PAYMENT'] - installments_payments['AMT_INSTALMENT']\n",
    "installments_payments['instalment_paid_over'] = (installments_payments['instalment_paid_over_amount'] > 0).astype(int)"
   ]
  },
  {
   "cell_type": "code",
   "execution_count": 4,
   "metadata": {
    "collapsed": true
   },
   "outputs": [],
   "source": [
    "all_data = application_train.append(application_test, ignore_index=True)\n",
    "\n",
    "\n",
    "mask = all_data.DAYS_EMPLOYED >0\n",
    "column_name = \"DAYS_EMPLOYED\"\n",
    "all_data.loc[mask, column_name] = None\n",
    "all_data['DAYS_EMPLOYED'] = all_data['DAYS_EMPLOYED'].abs()\n",
    "all_data['DAYS_LAST_PHONE_CHANGE'].replace(0, np.nan, inplace=True)\n",
    "all_data['CODE_GENDER'].replace('XNA', np.nan, inplace=True)\n",
    "all_data['NAME_FAMILY_STATUS'].replace('Unknown', np.nan, inplace=True)\n",
    "all_data['ORGANIZATION_TYPE'].replace('XNA', np.nan, inplace=True)\n",
    "all_data['DAYS_LAST_PHONE_CHANGE'] = all_data['DAYS_LAST_PHONE_CHANGE'].abs()\n",
    "all_data['DAYS_ID_PUBLISH'] = all_data['DAYS_ID_PUBLISH'].abs()\n",
    "all_data['DAYS_REGISTRATION'] = all_data['DAYS_REGISTRATION'].abs()\n",
    "all_data['DAYS_BIRTH'] = all_data['DAYS_BIRTH'].abs()\n"
   ]
  },
  {
   "cell_type": "code",
   "execution_count": 5,
   "metadata": {
    "collapsed": true
   },
   "outputs": [],
   "source": [
    "all_data['NEW_CREDIT_TO_ANNUITY_RATIO'] = all_data['AMT_CREDIT'] / all_data['AMT_ANNUITY']\n",
    "all_data['NEW_CREDIT_TO_GOODS_RATIO'] = all_data['AMT_CREDIT'] / all_data['AMT_GOODS_PRICE']\n",
    "all_data['NEW_INC_PER_CHLD'] = all_data['AMT_INCOME_TOTAL'] / (1 + all_data['CNT_CHILDREN'])\n",
    "all_data['NEW_INC_PER__FAM_MEMBERS'] = all_data['AMT_INCOME_TOTAL'] / (1 + all_data['CNT_FAM_MEMBERS'])\n",
    "all_data['NEW_EMPLOY_TO_BIRTH_RATIO'] = all_data['DAYS_EMPLOYED'] / all_data['DAYS_BIRTH']\n",
    "all_data['NEW_ANNUITY_TO_INCOME_RATIO'] = all_data['AMT_ANNUITY'] / (1 + all_data['AMT_INCOME_TOTAL'])\n",
    "all_data['New_children_ratio'] = all_data['CNT_CHILDREN'] / all_data['CNT_FAM_MEMBERS'] \n",
    "all_data['days_employed_percentage'] = all_data['DAYS_EMPLOYED'] / all_data['DAYS_BIRTH']\n",
    "all_data['NEW_EXT_SOURCES_add'] =  all_data['EXT_SOURCE_1'] *2+ all_data['EXT_SOURCE_2'] *3+ all_data['EXT_SOURCE_3'] *4\n",
    "all_data['NEW_SCORES_STD'] = all_data[['EXT_SOURCE_1', 'EXT_SOURCE_2', 'EXT_SOURCE_3']].std(axis=1)\n",
    "all_data['NEW_SCORES_STD'] = all_data['NEW_SCORES_STD'].fillna(all_data['NEW_SCORES_STD'].mean())\n",
    "all_data['NEW_CAR_TO_BIRTH_RATIO'] = all_data['OWN_CAR_AGE'] / all_data['DAYS_BIRTH']\n",
    "all_data['NEW_CAR_TO_EMPLOY_RATIO'] = all_data['OWN_CAR_AGE'] / all_data['DAYS_EMPLOYED']\n",
    "all_data['NEW_PHONE_TO_BIRTH_RATIO'] = all_data['DAYS_LAST_PHONE_CHANGE'] / all_data['DAYS_BIRTH']\n",
    "all_data['NEW_PHONE_TO_EMPLOY_RATIO'] = all_data['DAYS_LAST_PHONE_CHANGE'] / all_data['DAYS_EMPLOYED']\n",
    "all_data['NEW_CREDIT_TO_INCOME_RATIO'] = all_data['AMT_CREDIT'] / all_data['AMT_INCOME_TOTAL']\n",
    "docs = [_f for _f in all_data.columns if 'FLAG_DOC' in _f]\n",
    "live = [_f for _f in all_data.columns if ('FLAG_' in _f) & ('FLAG_DOC' not in _f) & ('_FLAG_' not in _f)]\n",
    "all_data['NEW_DOC_IND_KURT'] = all_data[docs].kurtosis(axis=1)\n",
    "all_data['NEW_LIVE_IND_SUM'] = all_data[live].sum(axis=1)\n",
    "inc_by_org = all_data[['AMT_INCOME_TOTAL', 'ORGANIZATION_TYPE']].groupby('ORGANIZATION_TYPE').median()['AMT_INCOME_TOTAL']\n",
    "all_data['NEW_INC_BY_ORG'] = all_data['ORGANIZATION_TYPE'].map(inc_by_org)\n",
    "\n",
    "all_data['NEW_FLAG_DOC_SUM'] = all_data[['FLAG_DOCUMENT_2','FLAG_DOCUMENT_3','FLAG_DOCUMENT_4',\n",
    "    'FLAG_DOCUMENT_5','FLAG_DOCUMENT_6','FLAG_DOCUMENT_7',\n",
    "    'FLAG_DOCUMENT_8','FLAG_DOCUMENT_9','FLAG_DOCUMENT_10', \n",
    "    'FLAG_DOCUMENT_11','FLAG_DOCUMENT_12','FLAG_DOCUMENT_13',\n",
    "    'FLAG_DOCUMENT_14','FLAG_DOCUMENT_15','FLAG_DOCUMENT_16',\n",
    "    'FLAG_DOCUMENT_17','FLAG_DOCUMENT_18','FLAG_DOCUMENT_19',\n",
    "    'FLAG_DOCUMENT_20','FLAG_DOCUMENT_21']].sum(axis=1)\n",
    "all_data['NEW_FLAG_CONTACT_SUM'] = all_data[['FLAG_PHONE', 'FLAG_EMAIL', 'FLAG_CONT_MOBILE','FLAG_WORK_PHONE','FLAG_EMP_PHONE','FLAG_MOBIL']].sum(axis=1)\n",
    "for function_name in ['min', 'max', 'sum', 'mean', 'nanmedian']:\n",
    "    all_data['external_sources_{}'.format(function_name)] = eval('np.{}'.format(function_name))(\n",
    "        all_data[['EXT_SOURCE_1', 'EXT_SOURCE_2', 'EXT_SOURCE_3']], axis=1)"
   ]
  },
  {
   "cell_type": "code",
   "execution_count": 6,
   "metadata": {
    "collapsed": true
   },
   "outputs": [],
   "source": [
    "del docs\n",
    "del live\n",
    "del inc_by_org"
   ]
  },
  {
   "cell_type": "code",
   "execution_count": 7,
   "metadata": {
    "collapsed": true
   },
   "outputs": [],
   "source": [
    "all_data['new_cnt_non_child'] = all_data['CNT_FAM_MEMBERS'] - all_data['CNT_CHILDREN']\n",
    "all_data['new_child_to_non_child_ratio'] = all_data['CNT_CHILDREN'] / all_data['new_cnt_non_child']\n",
    "all_data['new_income_per_non_child'] = all_data['AMT_INCOME_TOTAL'] / all_data['new_cnt_non_child']\n",
    "all_data['new_credit_per_person'] = all_data['AMT_CREDIT'] / all_data['CNT_FAM_MEMBERS']\n",
    "all_data['new_credit_per_child'] = all_data['AMT_CREDIT'] / (1 + all_data['CNT_CHILDREN'])\n",
    "all_data['new_credit_per_non_child'] = all_data['AMT_CREDIT'] / all_data['new_cnt_non_child']"
   ]
  },
  {
   "cell_type": "code",
   "execution_count": 8,
   "metadata": {
    "collapsed": true
   },
   "outputs": [],
   "source": [
    "# kaihua new feature\n",
    "grp = bureau[['SK_ID_CURR', 'DAYS_CREDIT']].groupby(by = ['SK_ID_CURR'])['DAYS_CREDIT'].count().reset_index().rename(index=str, columns={'DAYS_CREDIT': 'BUREAU_LOAN_COUNT'})\n",
    "all_data = all_data.merge(grp, on = ['SK_ID_CURR'], how = 'left')\n",
    "bureau['CREDIT_ACTIVE_BINARY'] = bureau['CREDIT_ACTIVE']\n",
    "def f(x):                 # Create a new dummy column for whether CREDIT is ACTIVE OR CLOED \n",
    "    if x == 'Closed':\n",
    "        y = 0\n",
    "    else:\n",
    "        y = 1    \n",
    "    return y\n",
    "\n",
    "bureau['CREDIT_ACTIVE_BINARY'] = bureau.apply(lambda x: f(x.CREDIT_ACTIVE), axis = 1)\n",
    "bureau['CREDIT_ACTIVE_BINARY'].head(5)\n",
    "grp = bureau[['SK_ID_CURR', 'CREDIT_ACTIVE_BINARY']].groupby(by = ['SK_ID_CURR'])['CREDIT_ACTIVE_BINARY'].sum().reset_index().rename(index=str, columns={'DAYS_CREDIT': 'BUREAU_active_COUNT'})\n",
    "all_data = all_data.merge(grp, on = ['SK_ID_CURR'], how = 'left')\n",
    "grp = bureau.groupby(by = ['SK_ID_CURR'])['CREDIT_ACTIVE_BINARY'].mean().reset_index().rename(index=str, columns={'CREDIT_ACTIVE_BINARY': 'B_ACTIVE_LOANS_PERCENTAGE'})\n",
    "all_data = all_data.merge(grp, on = ['SK_ID_CURR'], how = 'left')\n"
   ]
  },
  {
   "cell_type": "code",
   "execution_count": 9,
   "metadata": {
    "collapsed": true
   },
   "outputs": [],
   "source": [
    "del bureau['CREDIT_ACTIVE_BINARY']"
   ]
  },
  {
   "cell_type": "code",
   "execution_count": 10,
   "metadata": {},
   "outputs": [
    {
     "data": {
      "text/html": [
       "<div>\n",
       "<style scoped>\n",
       "    .dataframe tbody tr th:only-of-type {\n",
       "        vertical-align: middle;\n",
       "    }\n",
       "\n",
       "    .dataframe tbody tr th {\n",
       "        vertical-align: top;\n",
       "    }\n",
       "\n",
       "    .dataframe thead th {\n",
       "        text-align: right;\n",
       "    }\n",
       "</style>\n",
       "<table border=\"1\" class=\"dataframe\">\n",
       "  <thead>\n",
       "    <tr style=\"text-align: right;\">\n",
       "      <th></th>\n",
       "      <th>SK_ID_CURR</th>\n",
       "      <th>SK_ID_BUREAU</th>\n",
       "      <th>DAYS_CREDIT</th>\n",
       "    </tr>\n",
       "  </thead>\n",
       "  <tbody>\n",
       "    <tr>\n",
       "      <th>0</th>\n",
       "      <td>100001</td>\n",
       "      <td>5896635</td>\n",
       "      <td>-49</td>\n",
       "    </tr>\n",
       "    <tr>\n",
       "      <th>1</th>\n",
       "      <td>100001</td>\n",
       "      <td>5896636</td>\n",
       "      <td>-320</td>\n",
       "    </tr>\n",
       "    <tr>\n",
       "      <th>2</th>\n",
       "      <td>100001</td>\n",
       "      <td>5896634</td>\n",
       "      <td>-559</td>\n",
       "    </tr>\n",
       "    <tr>\n",
       "      <th>3</th>\n",
       "      <td>100001</td>\n",
       "      <td>5896630</td>\n",
       "      <td>-857</td>\n",
       "    </tr>\n",
       "    <tr>\n",
       "      <th>4</th>\n",
       "      <td>100001</td>\n",
       "      <td>5896632</td>\n",
       "      <td>-879</td>\n",
       "    </tr>\n",
       "  </tbody>\n",
       "</table>\n",
       "</div>"
      ],
      "text/plain": [
       "   SK_ID_CURR  SK_ID_BUREAU  DAYS_CREDIT\n",
       "0      100001       5896635          -49\n",
       "1      100001       5896636         -320\n",
       "2      100001       5896634         -559\n",
       "3      100001       5896630         -857\n",
       "4      100001       5896632         -879"
      ]
     },
     "execution_count": 10,
     "metadata": {},
     "output_type": "execute_result"
    }
   ],
   "source": [
    "# Groupby each Customer and Sort values of DAYS_CREDIT in ascending order\n",
    "grp =bureau[['SK_ID_CURR', 'SK_ID_BUREAU', 'DAYS_CREDIT']].groupby(by = ['SK_ID_CURR'])\n",
    "grp1 = grp.apply(lambda x: x.sort_values(['DAYS_CREDIT'], ascending = False)).reset_index(drop = True)#rename(index = str, columns = {'DAYS_CREDIT': 'DAYS_CREDIT_DIFF'})\n",
    "grp1.head(5)"
   ]
  },
  {
   "cell_type": "code",
   "execution_count": 11,
   "metadata": {},
   "outputs": [
    {
     "data": {
      "text/html": [
       "<div>\n",
       "<style scoped>\n",
       "    .dataframe tbody tr th:only-of-type {\n",
       "        vertical-align: middle;\n",
       "    }\n",
       "\n",
       "    .dataframe tbody tr th {\n",
       "        vertical-align: top;\n",
       "    }\n",
       "\n",
       "    .dataframe thead th {\n",
       "        text-align: right;\n",
       "    }\n",
       "</style>\n",
       "<table border=\"1\" class=\"dataframe\">\n",
       "  <thead>\n",
       "    <tr style=\"text-align: right;\">\n",
       "      <th></th>\n",
       "      <th>SK_ID_CURR</th>\n",
       "      <th>SK_ID_BUREAU</th>\n",
       "      <th>DAYS_CREDIT</th>\n",
       "      <th>DAYS_CREDIT_POSITIVE</th>\n",
       "      <th>DAYS_DIFF</th>\n",
       "    </tr>\n",
       "  </thead>\n",
       "  <tbody>\n",
       "    <tr>\n",
       "      <th>0</th>\n",
       "      <td>100001</td>\n",
       "      <td>5896635</td>\n",
       "      <td>-49</td>\n",
       "      <td>49</td>\n",
       "      <td>0</td>\n",
       "    </tr>\n",
       "    <tr>\n",
       "      <th>1</th>\n",
       "      <td>100001</td>\n",
       "      <td>5896636</td>\n",
       "      <td>-320</td>\n",
       "      <td>320</td>\n",
       "      <td>271</td>\n",
       "    </tr>\n",
       "    <tr>\n",
       "      <th>2</th>\n",
       "      <td>100001</td>\n",
       "      <td>5896634</td>\n",
       "      <td>-559</td>\n",
       "      <td>559</td>\n",
       "      <td>239</td>\n",
       "    </tr>\n",
       "    <tr>\n",
       "      <th>3</th>\n",
       "      <td>100001</td>\n",
       "      <td>5896630</td>\n",
       "      <td>-857</td>\n",
       "      <td>857</td>\n",
       "      <td>298</td>\n",
       "    </tr>\n",
       "    <tr>\n",
       "      <th>4</th>\n",
       "      <td>100001</td>\n",
       "      <td>5896632</td>\n",
       "      <td>-879</td>\n",
       "      <td>879</td>\n",
       "      <td>22</td>\n",
       "    </tr>\n",
       "  </tbody>\n",
       "</table>\n",
       "</div>"
      ],
      "text/plain": [
       "   SK_ID_CURR  SK_ID_BUREAU  DAYS_CREDIT  DAYS_CREDIT_POSITIVE  DAYS_DIFF\n",
       "0      100001       5896635          -49                    49          0\n",
       "1      100001       5896636         -320                   320        271\n",
       "2      100001       5896634         -559                   559        239\n",
       "3      100001       5896630         -857                   857        298\n",
       "4      100001       5896632         -879                   879         22"
      ]
     },
     "execution_count": 11,
     "metadata": {},
     "output_type": "execute_result"
    }
   ],
   "source": [
    "# Calculate Difference between the number of Days \n",
    "grp1['DAYS_CREDIT_POSITIVE'] = -1*grp1['DAYS_CREDIT']\n",
    "grp1['DAYS_DIFF'] = grp1.groupby(by = ['SK_ID_CURR'])['DAYS_CREDIT_POSITIVE'].diff()\n",
    "grp1['DAYS_DIFF'] = grp1['DAYS_DIFF'].fillna(0).astype('uint32')\n",
    "grp1.head(5)"
   ]
  },
  {
   "cell_type": "code",
   "execution_count": 12,
   "metadata": {},
   "outputs": [
    {
     "data": {
      "text/plain": [
       "(1716428, 18)"
      ]
     },
     "execution_count": 12,
     "metadata": {},
     "output_type": "execute_result"
    }
   ],
   "source": [
    "import gc\n",
    "del grp1['DAYS_CREDIT_POSITIVE'], grp1['DAYS_CREDIT'], grp1['SK_ID_CURR']\n",
    "gc.collect()\n",
    "\n",
    "bureau = bureau.merge(grp1, on = ['SK_ID_BUREAU'], how = 'left')\n",
    "bureau.shape"
   ]
  },
  {
   "cell_type": "code",
   "execution_count": 13,
   "metadata": {},
   "outputs": [
    {
     "data": {
      "text/plain": [
       "71"
      ]
     },
     "execution_count": 13,
     "metadata": {},
     "output_type": "execute_result"
    }
   ],
   "source": [
    "bureau['AMT_CREDIT_SUM_DEBT'] = bureau['AMT_CREDIT_SUM_DEBT'].fillna(0)\n",
    "bureau['AMT_CREDIT_SUM'] = bureau['AMT_CREDIT_SUM'].fillna(0)\n",
    "\n",
    "grp1 = bureau[['SK_ID_CURR', 'AMT_CREDIT_SUM_DEBT']].groupby(by = ['SK_ID_CURR'])['AMT_CREDIT_SUM_DEBT'].sum().reset_index().rename( index = str, columns = { 'AMT_CREDIT_SUM_DEBT': 'TOTAL_CUSTOMER_DEBT'})\n",
    "grp2 = bureau[['SK_ID_CURR', 'AMT_CREDIT_SUM']].groupby(by = ['SK_ID_CURR'])['AMT_CREDIT_SUM'].sum().reset_index().rename( index = str, columns = { 'AMT_CREDIT_SUM': 'TOTAL_CUSTOMER_CREDIT'})\n",
    "\n",
    "all_data = all_data.merge(grp1, on = ['SK_ID_CURR'], how = 'left')\n",
    "all_data = all_data.merge(grp2, on = ['SK_ID_CURR'], how = 'left')\n",
    "all_data['B_DEBT_CREDIT_RATIO'] = all_data['TOTAL_CUSTOMER_DEBT']/all_data['TOTAL_CUSTOMER_CREDIT']\n",
    "del all_data['TOTAL_CUSTOMER_DEBT'], all_data['TOTAL_CUSTOMER_CREDIT']\n",
    "gc.collect()\n"
   ]
  },
  {
   "cell_type": "code",
   "execution_count": 14,
   "metadata": {},
   "outputs": [
    {
     "data": {
      "text/plain": [
       "(356255, 158)"
      ]
     },
     "execution_count": 14,
     "metadata": {},
     "output_type": "execute_result"
    }
   ],
   "source": [
    "bureau['AMT_CREDIT_SUM_DEBT'] = bureau['AMT_CREDIT_SUM_DEBT'].fillna(0)\n",
    "bureau['AMT_CREDIT_SUM_OVERDUE'] = bureau['AMT_CREDIT_SUM_OVERDUE'].fillna(0)\n",
    "\n",
    "grp1 = bureau[['SK_ID_CURR', 'AMT_CREDIT_SUM_DEBT']].groupby(by = ['SK_ID_CURR'])['AMT_CREDIT_SUM_DEBT'].sum().reset_index().rename( index = str, columns = { 'AMT_CREDIT_SUM_DEBT': 'TOTAL_CUSTOMER_DEBT'})\n",
    "grp2 = bureau[['SK_ID_CURR', 'AMT_CREDIT_SUM_OVERDUE']].groupby(by = ['SK_ID_CURR'])['AMT_CREDIT_SUM_OVERDUE'].sum().reset_index().rename( index = str, columns = { 'AMT_CREDIT_SUM_OVERDUE': 'TOTAL_CUSTOMER_OVERDUE'})\n",
    "\n",
    "all_data = all_data.merge(grp1, on = ['SK_ID_CURR'], how = 'left')\n",
    "all_data = all_data.merge(grp2, on = ['SK_ID_CURR'], how = 'left')\n",
    "del grp1, grp2\n",
    "gc.collect()\n",
    "\n",
    "all_data['B_OVERDUE_DEBT_RATIO'] = all_data['TOTAL_CUSTOMER_OVERDUE']/all_data['TOTAL_CUSTOMER_DEBT']\n",
    "\n",
    "del all_data['TOTAL_CUSTOMER_OVERDUE'], all_data['TOTAL_CUSTOMER_DEBT']\n",
    "gc.collect()\n",
    "all_data.shape"
   ]
  },
  {
   "cell_type": "code",
   "execution_count": 15,
   "metadata": {},
   "outputs": [
    {
     "data": {
      "text/plain": [
       "36"
      ]
     },
     "execution_count": 15,
     "metadata": {},
     "output_type": "execute_result"
    }
   ],
   "source": [
    "# No of Loans per customer \n",
    "grp = credit_card_balance.groupby(by = ['SK_ID_CURR'])['SK_ID_PREV'].nunique().reset_index().rename(index = str, columns = {'SK_ID_PREV': 'C_NO_LOANS'})\n",
    "all_data = all_data.merge(grp, on = ['SK_ID_CURR'], how = 'left')\n",
    "del grp \n",
    "gc.collect()"
   ]
  },
  {
   "cell_type": "code",
   "execution_count": 16,
   "metadata": {},
   "outputs": [
    {
     "data": {
      "text/plain": [
       "21"
      ]
     },
     "execution_count": 16,
     "metadata": {},
     "output_type": "execute_result"
    }
   ],
   "source": [
    "grp = credit_card_balance.groupby(by = ['SK_ID_CURR', 'SK_ID_PREV'])['CNT_INSTALMENT_MATURE_CUM'].max().reset_index().rename(index = str, columns = {'CNT_INSTALMENT_MATURE_CUM': 'NO_INSTALMENTS'})\n",
    "grp1 = grp.groupby(by = ['SK_ID_CURR'])['NO_INSTALMENTS'].sum().reset_index().rename(index = str, columns = {'NO_INSTALMENTS': 'C_TOTAL_INSTALMENTS'})\n",
    "all_data = all_data.merge(grp1, on = ['SK_ID_CURR'], how = 'left')\n",
    "del grp, grp1\n",
    "gc.collect()"
   ]
  },
  {
   "cell_type": "code",
   "execution_count": 17,
   "metadata": {},
   "outputs": [
    {
     "data": {
      "text/plain": [
       "0"
      ]
     },
     "execution_count": 17,
     "metadata": {},
     "output_type": "execute_result"
    }
   ],
   "source": [
    "all_data['C_NO_LOANS'].fillna(0).isnull().sum()"
   ]
  },
  {
   "cell_type": "code",
   "execution_count": 18,
   "metadata": {},
   "outputs": [
    {
     "data": {
      "text/plain": [
       "(356255, 159)"
      ]
     },
     "execution_count": 18,
     "metadata": {},
     "output_type": "execute_result"
    }
   ],
   "source": [
    "# Average Number of installments paid per loan \n",
    "\n",
    "all_data['INSTALLMENTS_PER_LOAN'] = (all_data['C_TOTAL_INSTALMENTS'].fillna(0)/(1+all_data['C_NO_LOANS'].fillna(0))).astype('uint32')\n",
    "del all_data['C_TOTAL_INSTALMENTS']\n",
    "del all_data['C_NO_LOANS']\n",
    "gc.collect()\n",
    "\n",
    "all_data.shape"
   ]
  },
  {
   "cell_type": "code",
   "execution_count": 19,
   "metadata": {},
   "outputs": [
    {
     "data": {
      "text/plain": [
       "(356255, 160)"
      ]
     },
     "execution_count": 19,
     "metadata": {},
     "output_type": "execute_result"
    }
   ],
   "source": [
    "def f(DPD):\n",
    "    x = DPD.tolist()\n",
    "    c = 0\n",
    "    for i,j in enumerate(x):\n",
    "        if j != 0:\n",
    "            c += 1\n",
    "    return c \n",
    "\n",
    "grp = credit_card_balance.groupby(by = ['SK_ID_CURR', 'SK_ID_PREV']).apply(lambda x: f(x.SK_DPD)).reset_index().rename(index = str, columns = {0: 'NO_DPD'})\n",
    "grp1 = grp.groupby(by = ['SK_ID_CURR'])['NO_DPD'].mean().reset_index().rename(index = str, columns = {'NO_DPD' : 'DPD_COUNT'})\n",
    "\n",
    "all_data = all_data.merge(grp1, on = ['SK_ID_CURR'], how = 'left')\n",
    "del grp1\n",
    "del grp \n",
    "gc.collect()\n",
    "\n",
    "all_data.shape"
   ]
  },
  {
   "cell_type": "code",
   "execution_count": 20,
   "metadata": {},
   "outputs": [
    {
     "data": {
      "text/plain": [
       "(356255, 161)"
      ]
     },
     "execution_count": 20,
     "metadata": {},
     "output_type": "execute_result"
    }
   ],
   "source": [
    "grp = credit_card_balance.groupby(by= ['SK_ID_CURR'])['SK_DPD'].mean().reset_index().rename(index = str, columns = {'SK_DPD': 'AVG_DPD'})\n",
    "all_data = all_data.merge(grp, on = ['SK_ID_CURR'], how = 'left')\n",
    "del grp \n",
    "gc.collect()\n",
    "\n",
    "all_data.shape"
   ]
  },
  {
   "cell_type": "code",
   "execution_count": 21,
   "metadata": {},
   "outputs": [
    {
     "data": {
      "text/plain": [
       "(356255, 162)"
      ]
     },
     "execution_count": 21,
     "metadata": {},
     "output_type": "execute_result"
    }
   ],
   "source": [
    "def f(min_pay, total_pay):\n",
    "    \n",
    "    M = min_pay.tolist()\n",
    "    T = total_pay.tolist()\n",
    "    P = len(M)\n",
    "    c = 0 \n",
    "    # Find the count of transactions when Payment made is less than Minimum Payment \n",
    "    for i in range(len(M)):\n",
    "        if T[i] < M[i]:\n",
    "            c += 1  \n",
    "    return (100*c)/P\n",
    "\n",
    "grp = credit_card_balance.groupby(by = ['SK_ID_CURR']).apply(lambda x: f(x.AMT_INST_MIN_REGULARITY, x.AMT_PAYMENT_CURRENT)).reset_index().rename(index = str, columns = { 0 : 'PERCENTAGE_MISSED_PAYMENTS'})\n",
    "all_data = all_data.merge(grp, on = ['SK_ID_CURR'], how = 'left')\n",
    "del grp \n",
    "gc.collect()\n",
    "\n",
    "all_data.shape"
   ]
  },
  {
   "cell_type": "code",
   "execution_count": 22,
   "metadata": {},
   "outputs": [
    {
     "data": {
      "text/plain": [
       "(356255, 163)"
      ]
     },
     "execution_count": 22,
     "metadata": {},
     "output_type": "execute_result"
    }
   ],
   "source": [
    "grp = credit_card_balance.groupby(by = ['SK_ID_CURR'])['AMT_DRAWINGS_ATM_CURRENT'].sum().reset_index().rename(index = str, columns = {'AMT_DRAWINGS_ATM_CURRENT' : 'DRAWINGS_ATM'})\n",
    "all_data = all_data.merge(grp, on = ['SK_ID_CURR'], how = 'left')\n",
    "del grp\n",
    "gc.collect()\n",
    "\n",
    "grp = credit_card_balance.groupby(by = ['SK_ID_CURR'])['AMT_DRAWINGS_CURRENT'].sum().reset_index().rename(index = str, columns = {'AMT_DRAWINGS_CURRENT' : 'DRAWINGS_TOTAL'})\n",
    "all_data = all_data.merge(grp, on = ['SK_ID_CURR'], how = 'left')\n",
    "del grp\n",
    "gc.collect()\n",
    "\n",
    "all_data['CASH_CARD_RATIO1'] = (all_data['DRAWINGS_ATM']/all_data['DRAWINGS_TOTAL'])*100\n",
    "del all_data['DRAWINGS_ATM']\n",
    "del all_data['DRAWINGS_TOTAL']\n",
    "gc.collect()\n",
    "all_data.shape"
   ]
  },
  {
   "cell_type": "code",
   "execution_count": 23,
   "metadata": {},
   "outputs": [
    {
     "data": {
      "text/plain": [
       "(356255, 164)"
      ]
     },
     "execution_count": 23,
     "metadata": {},
     "output_type": "execute_result"
    }
   ],
   "source": [
    "grp = credit_card_balance.groupby(by = ['SK_ID_CURR'])['AMT_DRAWINGS_CURRENT'].sum().reset_index().rename(index = str, columns = {'AMT_DRAWINGS_CURRENT' : 'TOTAL_DRAWINGS'})\n",
    "all_data = all_data.merge(grp, on = ['SK_ID_CURR'], how = 'left')\n",
    "del grp\n",
    "gc.collect()\n",
    "\n",
    "grp = credit_card_balance.groupby(by = ['SK_ID_CURR'])['CNT_DRAWINGS_CURRENT'].sum().reset_index().rename(index = str, columns = {'CNT_DRAWINGS_CURRENT' : 'NO_DRAWINGS'})\n",
    "all_data = all_data.merge(grp, on = ['SK_ID_CURR'], how = 'left')\n",
    "del grp\n",
    "gc.collect()\n",
    "\n",
    "all_data['DRAWINGS_RATIO1'] = (all_data['TOTAL_DRAWINGS']/all_data['NO_DRAWINGS'])*100\n",
    "del all_data['TOTAL_DRAWINGS']\n",
    "del all_data['NO_DRAWINGS']\n",
    "gc.collect()\n",
    "\n",
    "all_data.shape"
   ]
  },
  {
   "cell_type": "code",
   "execution_count": 31,
   "metadata": {
    "collapsed": true
   },
   "outputs": [],
   "source": [
    "del application_test"
   ]
  },
  {
   "cell_type": "code",
   "execution_count": 25,
   "metadata": {
    "collapsed": true
   },
   "outputs": [],
   "source": [
    "from tqdm import tqdm_notebook as tqdm"
   ]
  },
  {
   "cell_type": "code",
   "execution_count": 26,
   "metadata": {
    "collapsed": true
   },
   "outputs": [],
   "source": [
    "AGGREGATION_RECIPIES = [\n",
    "    (['CODE_GENDER', 'NAME_EDUCATION_TYPE'], [('AMT_ANNUITY', 'max'),\n",
    "                                              ('AMT_CREDIT', 'max'),\n",
    "                                              ('EXT_SOURCE_1', 'mean'),\n",
    "                                              ('EXT_SOURCE_2', 'mean'),\n",
    "                                              ('OWN_CAR_AGE', 'max'),\n",
    "                                              ('OWN_CAR_AGE', 'sum')]),\n",
    "    (['CODE_GENDER', 'ORGANIZATION_TYPE'], [('AMT_ANNUITY', 'mean'),\n",
    "                                            ('AMT_INCOME_TOTAL', 'mean'),\n",
    "                                            ('DAYS_REGISTRATION', 'mean'),\n",
    "                                            ('EXT_SOURCE_1', 'mean')]),\n",
    "    (['CODE_GENDER', 'REG_CITY_NOT_WORK_CITY'], [('AMT_ANNUITY', 'mean'),\n",
    "                                                 ('CNT_CHILDREN', 'mean'),\n",
    "                                                 ('DAYS_ID_PUBLISH', 'mean')]),\n",
    "    (['CODE_GENDER', 'NAME_EDUCATION_TYPE', 'OCCUPATION_TYPE', 'REG_CITY_NOT_WORK_CITY'], [('EXT_SOURCE_1', 'mean'),\n",
    "                                                                                           ('EXT_SOURCE_2', 'mean')]),\n",
    "    (['NAME_EDUCATION_TYPE', 'OCCUPATION_TYPE'], [('AMT_CREDIT', 'mean'),\n",
    "                                                  ('AMT_REQ_CREDIT_BUREAU_YEAR', 'mean'),\n",
    "                                                  ('APARTMENTS_AVG', 'mean'),\n",
    "                                                  ('BASEMENTAREA_AVG', 'mean'),\n",
    "                                                  ('EXT_SOURCE_1', 'mean'),\n",
    "                                                  ('EXT_SOURCE_2', 'mean'),\n",
    "                                                  ('EXT_SOURCE_3', 'mean'),\n",
    "                                                  ('NONLIVINGAREA_AVG', 'mean'),\n",
    "                                                  ('OWN_CAR_AGE', 'mean'),\n",
    "                                                  ('YEARS_BUILD_AVG', 'mean')]),\n",
    "    (['NAME_EDUCATION_TYPE', 'OCCUPATION_TYPE', 'REG_CITY_NOT_WORK_CITY'], [('ELEVATORS_AVG', 'mean'),\n",
    "                                                                            ('EXT_SOURCE_1', 'mean')]),\n",
    "    (['OCCUPATION_TYPE'], [('AMT_ANNUITY', 'mean'),\n",
    "                           ('CNT_CHILDREN', 'mean'),\n",
    "                           ('CNT_FAM_MEMBERS', 'mean'),\n",
    "                           ('DAYS_BIRTH', 'mean'),\n",
    "                           ('DAYS_EMPLOYED', 'mean'),\n",
    "                           ('DAYS_ID_PUBLISH', 'mean'),\n",
    "                           ('DAYS_REGISTRATION', 'mean'),\n",
    "                           ('EXT_SOURCE_1', 'mean'),\n",
    "                           ('EXT_SOURCE_2', 'mean'),\n",
    "                           ('EXT_SOURCE_3', 'mean')]),\n",
    "]"
   ]
  },
  {
   "cell_type": "code",
   "execution_count": 27,
   "metadata": {},
   "outputs": [
    {
     "data": {
      "application/vnd.jupyter.widget-view+json": {
       "model_id": "bfcfdc3d9d344912a86ccdaf8a8eb932"
      }
     },
     "metadata": {},
     "output_type": "display_data"
    },
    {
     "data": {
      "application/vnd.jupyter.widget-view+json": {
       "model_id": "cfcccd10a8114c38844a68a28b4e3a95"
      }
     },
     "metadata": {},
     "output_type": "display_data"
    },
    {
     "data": {
      "application/vnd.jupyter.widget-view+json": {
       "model_id": "0f9ca6218a3542d8b83d05d63dd9945f"
      }
     },
     "metadata": {},
     "output_type": "display_data"
    },
    {
     "data": {
      "application/vnd.jupyter.widget-view+json": {
       "model_id": "d5edf15f97ac4eaca0b3a157307ec57f"
      }
     },
     "metadata": {},
     "output_type": "display_data"
    },
    {
     "data": {
      "application/vnd.jupyter.widget-view+json": {
       "model_id": "b61b4ddbb99c4a2887c91426d5f84404"
      }
     },
     "metadata": {},
     "output_type": "display_data"
    },
    {
     "data": {
      "application/vnd.jupyter.widget-view+json": {
       "model_id": "bcae38bec7f64e6d9dda5171db2c05c5"
      }
     },
     "metadata": {},
     "output_type": "display_data"
    },
    {
     "data": {
      "application/vnd.jupyter.widget-view+json": {
       "model_id": "0e2488c7b58f4f148d0377b60ba3dc0f"
      }
     },
     "metadata": {},
     "output_type": "display_data"
    },
    {
     "data": {
      "application/vnd.jupyter.widget-view+json": {
       "model_id": "59478ddf882a49a0a232c2244509efae"
      }
     },
     "metadata": {},
     "output_type": "display_data"
    },
    {
     "name": "stdout",
     "output_type": "stream",
     "text": [
      "\n"
     ]
    }
   ],
   "source": [
    "groupby_aggregate_names = []\n",
    "for groupby_cols, specs in tqdm(AGGREGATION_RECIPIES):\n",
    "    group_object = all_data.groupby(groupby_cols)\n",
    "    for select, agg in tqdm(specs):\n",
    "        groupby_aggregate_name = '{}_{}_{}'.format('_'.join(groupby_cols), agg, select)\n",
    "        all_data = all_data.merge(group_object[select]\n",
    "                              .agg(agg)\n",
    "                              .reset_index()\n",
    "                              .rename(index=str,\n",
    "                                      columns={select: groupby_aggregate_name})\n",
    "                              [groupby_cols + [groupby_aggregate_name]],\n",
    "                              on=groupby_cols,\n",
    "                              how='left')\n",
    "        groupby_aggregate_names.append(groupby_aggregate_name)"
   ]
  },
  {
   "cell_type": "code",
   "execution_count": 28,
   "metadata": {},
   "outputs": [
    {
     "data": {
      "application/vnd.jupyter.widget-view+json": {
       "model_id": "58f752bb27204be9ac32f926150e0d05"
      }
     },
     "metadata": {},
     "output_type": "display_data"
    },
    {
     "data": {
      "application/vnd.jupyter.widget-view+json": {
       "model_id": "188868528a5848d3b3013c6450d89d8d"
      }
     },
     "metadata": {},
     "output_type": "display_data"
    },
    {
     "data": {
      "application/vnd.jupyter.widget-view+json": {
       "model_id": "06a64898917048009926c4172e8120a5"
      }
     },
     "metadata": {},
     "output_type": "display_data"
    },
    {
     "data": {
      "application/vnd.jupyter.widget-view+json": {
       "model_id": "20d2a1c50b794907aafaca197a6b8436"
      }
     },
     "metadata": {},
     "output_type": "display_data"
    },
    {
     "data": {
      "application/vnd.jupyter.widget-view+json": {
       "model_id": "685439c5b0d84577a1f72cae457ce121"
      }
     },
     "metadata": {},
     "output_type": "display_data"
    },
    {
     "data": {
      "application/vnd.jupyter.widget-view+json": {
       "model_id": "65d91915c9114b0781fb83e1377a4aa6"
      }
     },
     "metadata": {},
     "output_type": "display_data"
    },
    {
     "data": {
      "application/vnd.jupyter.widget-view+json": {
       "model_id": "3e46828e63f34be4809606125df88c51"
      }
     },
     "metadata": {},
     "output_type": "display_data"
    },
    {
     "data": {
      "application/vnd.jupyter.widget-view+json": {
       "model_id": "e21da32b6c58433ebdf2444824e83d71"
      }
     },
     "metadata": {},
     "output_type": "display_data"
    },
    {
     "name": "stdout",
     "output_type": "stream",
     "text": [
      "\n"
     ]
    }
   ],
   "source": [
    "diff_feature_names = []\n",
    "for groupby_cols, specs in tqdm(AGGREGATION_RECIPIES):\n",
    "    for select, agg in tqdm(specs):\n",
    "        if agg in ['mean','median','max','min']:\n",
    "            groupby_aggregate_name = '{}_{}_{}'.format('_'.join(groupby_cols), agg, select)\n",
    "            diff_name = '{}_diff'.format(groupby_aggregate_name)\n",
    "            abs_diff_name = '{}_abs_diff'.format(groupby_aggregate_name)\n",
    "\n",
    "            all_data[diff_name] = all_data[select] - all_data[groupby_aggregate_name] \n",
    "            all_data[abs_diff_name] = np.abs(all_data[select] - all_data[groupby_aggregate_name]) \n",
    "\n",
    "            diff_feature_names.append(diff_name)\n",
    "            diff_feature_names.append(abs_diff_name)"
   ]
  },
  {
   "cell_type": "code",
   "execution_count": 29,
   "metadata": {
    "collapsed": true
   },
   "outputs": [],
   "source": [
    "all_data['retirement_age'] = (all_data['DAYS_BIRTH'] >20000).astype(int)\n",
    "all_data['long_employment'] = (all_data['DAYS_EMPLOYED']>2000).astype(int)"
   ]
  },
  {
   "cell_type": "code",
   "execution_count": 30,
   "metadata": {},
   "outputs": [
    {
     "data": {
      "text/plain": [
       "(356255, 275)"
      ]
     },
     "execution_count": 30,
     "metadata": {},
     "output_type": "execute_result"
    }
   ],
   "source": [
    "all_data.shape"
   ]
  },
  {
   "cell_type": "code",
   "execution_count": null,
   "metadata": {
    "collapsed": true
   },
   "outputs": [],
   "source": []
  },
  {
   "cell_type": "code",
   "execution_count": 30,
   "metadata": {},
   "outputs": [
    {
     "data": {
      "text/plain": [
       "array(['SK_ID_PREV', 'SK_ID_CURR', 'NAME_CONTRACT_TYPE', 'AMT_ANNUITY',\n",
       "       'AMT_APPLICATION', 'AMT_CREDIT', 'AMT_DOWN_PAYMENT',\n",
       "       'AMT_GOODS_PRICE', 'WEEKDAY_APPR_PROCESS_START',\n",
       "       'HOUR_APPR_PROCESS_START', 'FLAG_LAST_APPL_PER_CONTRACT',\n",
       "       'NFLAG_LAST_APPL_IN_DAY', 'RATE_DOWN_PAYMENT',\n",
       "       'RATE_INTEREST_PRIMARY', 'RATE_INTEREST_PRIVILEGED',\n",
       "       'NAME_CASH_LOAN_PURPOSE', 'NAME_CONTRACT_STATUS', 'DAYS_DECISION',\n",
       "       'NAME_PAYMENT_TYPE', 'CODE_REJECT_REASON', 'NAME_TYPE_SUITE',\n",
       "       'NAME_CLIENT_TYPE', 'NAME_GOODS_CATEGORY', 'NAME_PORTFOLIO',\n",
       "       'NAME_PRODUCT_TYPE', 'CHANNEL_TYPE', 'SELLERPLACE_AREA',\n",
       "       'NAME_SELLER_INDUSTRY', 'CNT_PAYMENT', 'NAME_YIELD_GROUP',\n",
       "       'PRODUCT_COMBINATION', 'DAYS_FIRST_DRAWING', 'DAYS_FIRST_DUE',\n",
       "       'DAYS_LAST_DUE_1ST_VERSION', 'DAYS_LAST_DUE', 'DAYS_TERMINATION',\n",
       "       'NFLAG_INSURED_ON_APPROVAL'], dtype=object)"
      ]
     },
     "execution_count": 30,
     "metadata": {},
     "output_type": "execute_result"
    }
   ],
   "source": [
    "previous_application.columns.values\n"
   ]
  },
  {
   "cell_type": "code",
   "execution_count": 31,
   "metadata": {},
   "outputs": [
    {
     "data": {
      "text/plain": [
       "array(['SK_ID_PREV', 'SK_ID_CURR', 'AMT_ANNUITY', 'AMT_APPLICATION',\n",
       "       'AMT_CREDIT', 'AMT_DOWN_PAYMENT', 'AMT_GOODS_PRICE',\n",
       "       'HOUR_APPR_PROCESS_START', 'NFLAG_LAST_APPL_IN_DAY',\n",
       "       'RATE_DOWN_PAYMENT', 'RATE_INTEREST_PRIMARY',\n",
       "       'RATE_INTEREST_PRIVILEGED', 'DAYS_DECISION', 'SELLERPLACE_AREA',\n",
       "       'CNT_PAYMENT', 'DAYS_FIRST_DRAWING', 'DAYS_FIRST_DUE',\n",
       "       'DAYS_LAST_DUE_1ST_VERSION', 'DAYS_LAST_DUE', 'DAYS_TERMINATION',\n",
       "       'NFLAG_INSURED_ON_APPROVAL'], dtype=object)"
      ]
     },
     "execution_count": 31,
     "metadata": {},
     "output_type": "execute_result"
    }
   ],
   "source": [
    "previous_application.select_dtypes(exclude=['object']).columns.values"
   ]
  },
  {
   "cell_type": "code",
   "execution_count": 32,
   "metadata": {
    "collapsed": true
   },
   "outputs": [],
   "source": [
    "AGGREGATION_RECIPIES = [\n",
    "    (['WEEKDAY_APPR_PROCESS_START'], [('AMT_ANNUITY', 'mean'),\n",
    "                           ('AMT_APPLICATION', 'mean'),\n",
    "                           ('AMT_CREDIT', 'mean'),\n",
    "                           ('AMT_DOWN_PAYMENT', 'mean'),\n",
    "                               ('DAYS_LAST_DUE_1ST_VERSION', 'mean'),  \n",
    "                            ('DAYS_TERMINATION', 'mean'),\n",
    "                           ('AMT_GOODS_PRICE', 'mean'),\n",
    "                           ('CNT_PAYMENT', 'mean'),\n",
    "                            ('DAYS_DECISION', 'mean'),\n",
    "                           ('HOUR_APPR_PROCESS_START', 'mean'),\n",
    "                           ('RATE_DOWN_PAYMENT', 'mean')]),(['NAME_GOODS_CATEGORY'], [('AMT_ANNUITY', 'mean'),\n",
    "                           ('AMT_APPLICATION', 'mean'),\n",
    "                           ('AMT_CREDIT', 'mean'),\n",
    "                           ('AMT_DOWN_PAYMENT', 'mean'),\n",
    "                               ('DAYS_LAST_DUE_1ST_VERSION', 'mean'),  \n",
    "                            ('DAYS_TERMINATION', 'mean'),\n",
    "                           ('AMT_GOODS_PRICE', 'mean'),\n",
    "                           ('CNT_PAYMENT', 'mean'),\n",
    "                            ('DAYS_DECISION', 'mean'),\n",
    "                           ('HOUR_APPR_PROCESS_START', 'mean'),\n",
    "                           ('RATE_DOWN_PAYMENT', 'mean')]),\n",
    "    \n",
    "    (['CODE_REJECT_REASON'], [('AMT_ANNUITY', 'mean'),\n",
    "                           ('AMT_APPLICATION', 'mean'),\n",
    "                           ('AMT_CREDIT', 'mean'),\n",
    "                           ('AMT_DOWN_PAYMENT', 'mean'),\n",
    "                               ('DAYS_LAST_DUE_1ST_VERSION', 'mean'),  \n",
    "                            ('DAYS_TERMINATION', 'mean'),\n",
    "                           ('AMT_GOODS_PRICE', 'mean'),\n",
    "                           ('CNT_PAYMENT', 'mean'),\n",
    "                            ('DAYS_DECISION', 'mean'),\n",
    "                           ('HOUR_APPR_PROCESS_START', 'mean'),\n",
    "                           ('RATE_DOWN_PAYMENT', 'mean')]),(['NAME_GOODS_CATEGORY'], [('AMT_ANNUITY', 'mean'),\n",
    "                           ('AMT_APPLICATION', 'mean'),\n",
    "                           ('AMT_CREDIT', 'mean'),\n",
    "                           ('AMT_DOWN_PAYMENT', 'mean'),\n",
    "                               ('DAYS_LAST_DUE_1ST_VERSION', 'mean'),  \n",
    "                            ('DAYS_TERMINATION', 'mean'),\n",
    "                           ('AMT_GOODS_PRICE', 'mean'),\n",
    "                           ('CNT_PAYMENT', 'mean'),\n",
    "                            ('DAYS_DECISION', 'mean'),\n",
    "                           ('HOUR_APPR_PROCESS_START', 'mean'),\n",
    "                           ('RATE_DOWN_PAYMENT', 'mean')]),\n",
    "    \n",
    "    (['NFLAG_INSURED_ON_APPROVAL'], [('AMT_ANNUITY', 'mean'),\n",
    "                           ('AMT_APPLICATION', 'mean'),\n",
    "                           ('AMT_CREDIT', 'mean'),\n",
    "                           ('AMT_DOWN_PAYMENT', 'mean'),\n",
    "                               ('DAYS_LAST_DUE_1ST_VERSION', 'mean'),  \n",
    "                            ('DAYS_TERMINATION', 'mean'),\n",
    "                           ('AMT_GOODS_PRICE', 'mean'),\n",
    "                           ('CNT_PAYMENT', 'mean'),\n",
    "                            ('DAYS_DECISION', 'mean'),\n",
    "                           ('HOUR_APPR_PROCESS_START', 'mean'),\n",
    "                           ('RATE_DOWN_PAYMENT', 'mean')]),\n",
    "        (['NAME_TYPE_SUITE'], [('AMT_ANNUITY', 'mean'),\n",
    "                           ('AMT_APPLICATION', 'mean'),\n",
    "                           ('AMT_CREDIT', 'mean'),\n",
    "                           ('AMT_DOWN_PAYMENT', 'mean'),\n",
    "                           ('AMT_GOODS_PRICE', 'mean'),\n",
    "                           ('CNT_PAYMENT', 'mean'),\n",
    "                            ('DAYS_DECISION', 'mean'),\n",
    "                               ('DAYS_LAST_DUE_1ST_VERSION', 'mean'),  \n",
    "                            ('DAYS_TERMINATION', 'mean'),\n",
    "                           ('HOUR_APPR_PROCESS_START', 'mean'),\n",
    "                           ('RATE_DOWN_PAYMENT', 'mean')]),        \n",
    "    (['NAME_PRODUCT_TYPE'], [('AMT_ANNUITY', 'mean'),\n",
    "                           ('AMT_APPLICATION', 'mean'),\n",
    "                           ('AMT_CREDIT', 'mean'),\n",
    "                           ('AMT_DOWN_PAYMENT', 'mean'),\n",
    "                           ('AMT_GOODS_PRICE', 'mean'),\n",
    "                           ('CNT_PAYMENT', 'mean'),\n",
    "                            ('DAYS_DECISION', 'mean'),\n",
    "                             ('DAYS_LAST_DUE_1ST_VERSION', 'mean'),  \n",
    "                            ('DAYS_TERMINATION', 'mean'),\n",
    "                           ('HOUR_APPR_PROCESS_START', 'mean'),\n",
    "                           ('RATE_DOWN_PAYMENT', 'mean')]),        \n",
    "    (['CHANNEL_TYPE'], [('AMT_ANNUITY', 'mean'),\n",
    "                           ('AMT_APPLICATION', 'mean'),\n",
    "                           ('AMT_CREDIT', 'mean'),\n",
    "                           ('AMT_DOWN_PAYMENT', 'mean'),\n",
    "                           ('AMT_GOODS_PRICE', 'mean'),\n",
    "                        ('DAYS_LAST_DUE_1ST_VERSION', 'mean'),  \n",
    "                            ('DAYS_TERMINATION', 'mean'),\n",
    "                           ('CNT_PAYMENT', 'mean'),\n",
    "                            ('DAYS_DECISION', 'mean'),\n",
    "                           ('HOUR_APPR_PROCESS_START', 'mean'),\n",
    "                           ('RATE_DOWN_PAYMENT', 'mean')]),        \n",
    "    (['FLAG_LAST_APPL_PER_CONTRACT'], [('AMT_ANNUITY', 'mean'),\n",
    "                           ('AMT_APPLICATION', 'mean'),\n",
    "                           ('AMT_CREDIT', 'mean'),\n",
    "                           ('AMT_DOWN_PAYMENT', 'mean'),\n",
    "                           ('AMT_GOODS_PRICE', 'mean'),\n",
    "                           ('CNT_PAYMENT', 'mean'),\n",
    "                            ('DAYS_LAST_DUE_1ST_VERSION', 'mean'),  \n",
    "                            ('DAYS_TERMINATION', 'mean'),\n",
    "                            ('DAYS_DECISION', 'mean'),\n",
    "                           ('HOUR_APPR_PROCESS_START', 'mean'),\n",
    "                           ('RATE_DOWN_PAYMENT', 'mean')]),\n",
    "        (['NAME_CASH_LOAN_PURPOSE'], [('AMT_ANNUITY', 'mean'),\n",
    "                           ('AMT_APPLICATION', 'mean'),\n",
    "                           ('AMT_CREDIT', 'mean'),\n",
    "                           ('AMT_DOWN_PAYMENT', 'mean'),\n",
    "                           ('AMT_GOODS_PRICE', 'mean'),\n",
    "                           ('CNT_PAYMENT', 'mean'),\n",
    "                            ('DAYS_DECISION', 'mean'),\n",
    "                                      ('DAYS_LAST_DUE_1ST_VERSION', 'mean'),  \n",
    "                            ('DAYS_TERMINATION', 'mean'),\n",
    "                           ('HOUR_APPR_PROCESS_START', 'mean'),\n",
    "                           ('RATE_DOWN_PAYMENT', 'mean')]),\n",
    "     (['NAME_CLIENT_TYPE'], [('AMT_ANNUITY', 'mean'),\n",
    "                           ('AMT_APPLICATION', 'mean'),\n",
    "                           ('AMT_CREDIT', 'mean'),\n",
    "                           ('AMT_DOWN_PAYMENT', 'mean'),\n",
    "                               ('DAYS_LAST_DUE_1ST_VERSION', 'mean'),  \n",
    "                            ('DAYS_TERMINATION', 'mean'),\n",
    "                           ('AMT_GOODS_PRICE', 'mean'),\n",
    "                           ('CNT_PAYMENT', 'mean'),\n",
    "                            ('DAYS_DECISION', 'mean'),\n",
    "                           ('HOUR_APPR_PROCESS_START', 'mean'),\n",
    "                           ('RATE_DOWN_PAYMENT', 'mean')]),\n",
    "        (['NAME_YIELD_GROUP'], [('AMT_ANNUITY', 'mean'),\n",
    "                           ('AMT_APPLICATION', 'mean'),\n",
    "                           ('AMT_CREDIT', 'mean'),\n",
    "                           ('AMT_DOWN_PAYMENT', 'mean'),\n",
    "                                ('DAYS_LAST_DUE_1ST_VERSION', 'mean'),  \n",
    "                            ('DAYS_TERMINATION', 'mean'),\n",
    "                           ('AMT_GOODS_PRICE', 'mean'),\n",
    "                           ('CNT_PAYMENT', 'mean'),\n",
    "                            ('DAYS_DECISION', 'mean'),\n",
    "                           ('HOUR_APPR_PROCESS_START', 'mean'),\n",
    "                           ('RATE_DOWN_PAYMENT', 'mean')]),        \n",
    "    (['PRODUCT_COMBINATION'], [('AMT_ANNUITY', 'mean'),\n",
    "                           ('AMT_APPLICATION', 'mean'),\n",
    "                           ('AMT_CREDIT', 'mean'),\n",
    "                           ('AMT_DOWN_PAYMENT', 'mean'),\n",
    "                               ('DAYS_LAST_DUE_1ST_VERSION', 'mean'),  \n",
    "                            ('DAYS_TERMINATION', 'mean'),\n",
    "                           ('AMT_GOODS_PRICE', 'mean'),\n",
    "                           ('CNT_PAYMENT', 'mean'),\n",
    "                            ('DAYS_DECISION', 'mean'),\n",
    "                           ('HOUR_APPR_PROCESS_START', 'mean'),\n",
    "                           ('RATE_DOWN_PAYMENT', 'mean')]),\n",
    "\n",
    "]"
   ]
  },
  {
   "cell_type": "code",
   "execution_count": 33,
   "metadata": {},
   "outputs": [
    {
     "data": {
      "application/vnd.jupyter.widget-view+json": {
       "model_id": "d856d0baa0dd4288b6b3f65560bf80c0"
      }
     },
     "metadata": {},
     "output_type": "display_data"
    },
    {
     "data": {
      "application/vnd.jupyter.widget-view+json": {
       "model_id": "6120bddfbf49420999491ef76be15135"
      }
     },
     "metadata": {},
     "output_type": "display_data"
    },
    {
     "data": {
      "application/vnd.jupyter.widget-view+json": {
       "model_id": "c1257b9e384f45528291ca4c202c2b17"
      }
     },
     "metadata": {},
     "output_type": "display_data"
    },
    {
     "data": {
      "application/vnd.jupyter.widget-view+json": {
       "model_id": "4f16aadf27d343ada6fcd2100c84a486"
      }
     },
     "metadata": {},
     "output_type": "display_data"
    },
    {
     "data": {
      "application/vnd.jupyter.widget-view+json": {
       "model_id": "42f3b4a2f4bf45eba5cf8ebf13810e4e"
      }
     },
     "metadata": {},
     "output_type": "display_data"
    },
    {
     "data": {
      "application/vnd.jupyter.widget-view+json": {
       "model_id": "8851056a897e408eb197e70460119f13"
      }
     },
     "metadata": {},
     "output_type": "display_data"
    },
    {
     "data": {
      "application/vnd.jupyter.widget-view+json": {
       "model_id": "149ac9ba17c84f37b635f8114d2348d2"
      }
     },
     "metadata": {},
     "output_type": "display_data"
    },
    {
     "data": {
      "application/vnd.jupyter.widget-view+json": {
       "model_id": "e9ae61799c3740788ed84a1fdc8b51aa"
      }
     },
     "metadata": {},
     "output_type": "display_data"
    },
    {
     "data": {
      "application/vnd.jupyter.widget-view+json": {
       "model_id": "37378c9bd7244246826de68521771a9e"
      }
     },
     "metadata": {},
     "output_type": "display_data"
    },
    {
     "data": {
      "application/vnd.jupyter.widget-view+json": {
       "model_id": "17b027f6baf14ada871b3e7bb587864a"
      }
     },
     "metadata": {},
     "output_type": "display_data"
    },
    {
     "data": {
      "application/vnd.jupyter.widget-view+json": {
       "model_id": "d29bcf5d78a14e529fae41bd904e22eb"
      }
     },
     "metadata": {},
     "output_type": "display_data"
    },
    {
     "data": {
      "application/vnd.jupyter.widget-view+json": {
       "model_id": "12eed7d2eb3040358a32157b338ff128"
      }
     },
     "metadata": {},
     "output_type": "display_data"
    },
    {
     "data": {
      "application/vnd.jupyter.widget-view+json": {
       "model_id": "a072738c0e82494292530d0a4f52b097"
      }
     },
     "metadata": {},
     "output_type": "display_data"
    },
    {
     "data": {
      "application/vnd.jupyter.widget-view+json": {
       "model_id": "e1ce91286c3d4ee58971cecb08bd864f"
      }
     },
     "metadata": {},
     "output_type": "display_data"
    },
    {
     "name": "stdout",
     "output_type": "stream",
     "text": [
      "\n"
     ]
    }
   ],
   "source": [
    "groupby_aggregate_names = []\n",
    "for groupby_cols, specs in tqdm(AGGREGATION_RECIPIES):\n",
    "    group_object = previous_application.groupby(groupby_cols)\n",
    "    for select, agg in tqdm(specs):\n",
    "        groupby_aggregate_name = '{}_{}_{}'.format('_'.join(groupby_cols), agg, select)\n",
    "        previous_application = previous_application.merge(group_object[select]\n",
    "                              .agg(agg)\n",
    "                              .reset_index()\n",
    "                              .rename(index=str,\n",
    "                                      columns={select: groupby_aggregate_name})\n",
    "                              [groupby_cols + [groupby_aggregate_name]],\n",
    "                              on=groupby_cols,\n",
    "                              how='left')\n",
    "        groupby_aggregate_names.append(groupby_aggregate_name)"
   ]
  },
  {
   "cell_type": "code",
   "execution_count": 34,
   "metadata": {
    "collapsed": true
   },
   "outputs": [],
   "source": [
    "previous_application['AMT_CREDIT_to_AMT_ANNUITY_ratio']=previous_application['AMT_CREDIT'] / previous_application['AMT_ANNUITY']\n",
    "previous_application['AMT_CREDIT_to_AMT_GOODS_PRICE_ratio']=previous_application['AMT_CREDIT'] / previous_application['AMT_GOODS_PRICE']\n",
    "previous_application['DAYS_FIRST_DRAWING'].replace(365243, np.nan, inplace= True)\n",
    "previous_application['DAYS_FIRST_DUE'].replace(365243, np.nan, inplace= True)\n",
    "previous_application['DAYS_LAST_DUE_1ST_VERSION'].replace(365243, np.nan, inplace= True)\n",
    "previous_application['DAYS_LAST_DUE'].replace(365243, np.nan, inplace= True)\n",
    "previous_application['DAYS_TERMINATION'].replace(365243, np.nan, inplace= True)\n",
    "previous_application['APP_CREDIT_PERC'] = previous_application['AMT_APPLICATION'] / previous_application['AMT_CREDIT']\n",
    "#previous_application = pd.get_dummies(previous_application)"
   ]
  },
  {
   "cell_type": "code",
   "execution_count": 35,
   "metadata": {},
   "outputs": [
    {
     "data": {
      "application/vnd.jupyter.widget-view+json": {
       "model_id": "f890fe64951149eb92d0d67753c7a7b6"
      }
     },
     "metadata": {},
     "output_type": "display_data"
    },
    {
     "data": {
      "application/vnd.jupyter.widget-view+json": {
       "model_id": "1ef9e25b24474362b25b3faddf5a82d8"
      }
     },
     "metadata": {},
     "output_type": "display_data"
    },
    {
     "name": "stdout",
     "output_type": "stream",
     "text": [
      "\n"
     ]
    }
   ],
   "source": [
    "previous_application_agg_RECIPIES = []\n",
    "for agg in [ 'mean','min', 'max', 'sum', 'var']:\n",
    "    for select in [ 'AMT_ANNUITY', 'AMT_APPLICATION',\n",
    "       'AMT_CREDIT', 'AMT_DOWN_PAYMENT', 'AMT_GOODS_PRICE',\n",
    "       'HOUR_APPR_PROCESS_START', 'NFLAG_LAST_APPL_IN_DAY',\n",
    "       'RATE_DOWN_PAYMENT', 'RATE_INTEREST_PRIMARY',\n",
    "       'RATE_INTEREST_PRIVILEGED', 'DAYS_DECISION', 'SELLERPLACE_AREA',\n",
    "       'CNT_PAYMENT', 'DAYS_FIRST_DRAWING', 'DAYS_FIRST_DUE',\n",
    "       'DAYS_LAST_DUE_1ST_VERSION', 'DAYS_LAST_DUE', 'DAYS_TERMINATION',\n",
    "       'NFLAG_INSURED_ON_APPROVAL', 'AMT_CREDIT_to_AMT_ANNUITY_ratio',\n",
    "       'AMT_CREDIT_to_AMT_GOODS_PRICE_ratio', 'APP_CREDIT_PERC'\n",
    "                   ]:\n",
    "        previous_application_agg_RECIPIES.append((select, agg))\n",
    "previous_application_agg_RECIPIES = [(['SK_ID_CURR'], previous_application_agg_RECIPIES)]\n",
    "groupby_aggregate_names = []\n",
    "for groupby_cols, specs in tqdm(previous_application_agg_RECIPIES):\n",
    "    group_object = previous_application.groupby(groupby_cols)\n",
    "    for select, agg in tqdm(specs):\n",
    "        groupby_aggregate_name = '{}_{}_{}'.format('_'.join(groupby_cols), agg, select)\n",
    "        all_data = all_data.merge(group_object[select]\n",
    "                              .agg(agg)\n",
    "                              .reset_index()\n",
    "                              .rename(index=str,\n",
    "                                      columns={select: groupby_aggregate_name})\n",
    "                              [groupby_cols + [groupby_aggregate_name]],\n",
    "                              on=groupby_cols,\n",
    "                              how='left')\n",
    "        groupby_aggregate_names.append(groupby_aggregate_name)"
   ]
  },
  {
   "cell_type": "code",
   "execution_count": 36,
   "metadata": {},
   "outputs": [
    {
     "data": {
      "application/vnd.jupyter.widget-view+json": {
       "model_id": "2a280e1ebbb14308ab83f32f9ab0f02b"
      }
     },
     "metadata": {},
     "output_type": "display_data"
    },
    {
     "data": {
      "application/vnd.jupyter.widget-view+json": {
       "model_id": "069823767eb44111952b442cab21ae60"
      }
     },
     "metadata": {},
     "output_type": "display_data"
    },
    {
     "name": "stdout",
     "output_type": "stream",
     "text": [
      "\n"
     ]
    }
   ],
   "source": [
    "previous_application_agg_RECIPIES = []\n",
    "for agg in [ 'mean','max']:\n",
    "    for select in ['WEEKDAY_APPR_PROCESS_START_mean_AMT_ANNUITY',\n",
    "       'WEEKDAY_APPR_PROCESS_START_mean_AMT_APPLICATION',\n",
    "       'WEEKDAY_APPR_PROCESS_START_mean_AMT_CREDIT',\n",
    "       'WEEKDAY_APPR_PROCESS_START_mean_AMT_DOWN_PAYMENT',\n",
    "       'WEEKDAY_APPR_PROCESS_START_mean_DAYS_LAST_DUE_1ST_VERSION',\n",
    "       'WEEKDAY_APPR_PROCESS_START_mean_DAYS_TERMINATION',\n",
    "       'WEEKDAY_APPR_PROCESS_START_mean_AMT_GOODS_PRICE',\n",
    "       'WEEKDAY_APPR_PROCESS_START_mean_CNT_PAYMENT',\n",
    "       'WEEKDAY_APPR_PROCESS_START_mean_DAYS_DECISION',\n",
    "       'WEEKDAY_APPR_PROCESS_START_mean_HOUR_APPR_PROCESS_START',\n",
    "       'WEEKDAY_APPR_PROCESS_START_mean_RATE_DOWN_PAYMENT',\n",
    "       'NAME_GOODS_CATEGORY_mean_AMT_ANNUITY_x',\n",
    "       'NAME_GOODS_CATEGORY_mean_AMT_APPLICATION_x',\n",
    "       'NAME_GOODS_CATEGORY_mean_AMT_CREDIT_x',\n",
    "       'NAME_GOODS_CATEGORY_mean_AMT_DOWN_PAYMENT_x',\n",
    "       'NAME_GOODS_CATEGORY_mean_DAYS_LAST_DUE_1ST_VERSION_x',\n",
    "       'NAME_GOODS_CATEGORY_mean_DAYS_TERMINATION_x',\n",
    "       'NAME_GOODS_CATEGORY_mean_AMT_GOODS_PRICE_x',\n",
    "       'NAME_GOODS_CATEGORY_mean_CNT_PAYMENT_x',\n",
    "       'NAME_GOODS_CATEGORY_mean_DAYS_DECISION_x',\n",
    "       'NAME_GOODS_CATEGORY_mean_HOUR_APPR_PROCESS_START_x',\n",
    "       'NAME_GOODS_CATEGORY_mean_RATE_DOWN_PAYMENT_x',\n",
    "       'CODE_REJECT_REASON_mean_AMT_ANNUITY',\n",
    "       'CODE_REJECT_REASON_mean_AMT_APPLICATION',\n",
    "       'CODE_REJECT_REASON_mean_AMT_CREDIT',\n",
    "       'CODE_REJECT_REASON_mean_AMT_DOWN_PAYMENT',\n",
    "       'CODE_REJECT_REASON_mean_DAYS_LAST_DUE_1ST_VERSION',\n",
    "       'CODE_REJECT_REASON_mean_DAYS_TERMINATION',\n",
    "       'CODE_REJECT_REASON_mean_AMT_GOODS_PRICE',\n",
    "       'CODE_REJECT_REASON_mean_CNT_PAYMENT',\n",
    "       'CODE_REJECT_REASON_mean_DAYS_DECISION',\n",
    "       'CODE_REJECT_REASON_mean_HOUR_APPR_PROCESS_START',\n",
    "       'CODE_REJECT_REASON_mean_RATE_DOWN_PAYMENT',\n",
    "       'NAME_GOODS_CATEGORY_mean_AMT_ANNUITY_y',\n",
    "       'NAME_GOODS_CATEGORY_mean_AMT_APPLICATION_y',\n",
    "       'NAME_GOODS_CATEGORY_mean_AMT_CREDIT_y',\n",
    "       'NAME_GOODS_CATEGORY_mean_AMT_DOWN_PAYMENT_y',\n",
    "       'NAME_GOODS_CATEGORY_mean_DAYS_LAST_DUE_1ST_VERSION_y',\n",
    "       'NAME_GOODS_CATEGORY_mean_DAYS_TERMINATION_y',\n",
    "       'NAME_GOODS_CATEGORY_mean_AMT_GOODS_PRICE_y',\n",
    "       'NAME_GOODS_CATEGORY_mean_CNT_PAYMENT_y',\n",
    "       'NAME_GOODS_CATEGORY_mean_DAYS_DECISION_y',\n",
    "       'NAME_GOODS_CATEGORY_mean_HOUR_APPR_PROCESS_START_y',\n",
    "       'NAME_GOODS_CATEGORY_mean_RATE_DOWN_PAYMENT_y',\n",
    "       'NFLAG_INSURED_ON_APPROVAL_mean_AMT_ANNUITY',\n",
    "       'NFLAG_INSURED_ON_APPROVAL_mean_AMT_APPLICATION',\n",
    "       'NFLAG_INSURED_ON_APPROVAL_mean_AMT_CREDIT',\n",
    "       'NFLAG_INSURED_ON_APPROVAL_mean_AMT_DOWN_PAYMENT',\n",
    "       'NFLAG_INSURED_ON_APPROVAL_mean_DAYS_LAST_DUE_1ST_VERSION',\n",
    "       'NFLAG_INSURED_ON_APPROVAL_mean_DAYS_TERMINATION',\n",
    "       'NFLAG_INSURED_ON_APPROVAL_mean_AMT_GOODS_PRICE',\n",
    "       'NFLAG_INSURED_ON_APPROVAL_mean_CNT_PAYMENT',\n",
    "       'NFLAG_INSURED_ON_APPROVAL_mean_DAYS_DECISION',\n",
    "       'NFLAG_INSURED_ON_APPROVAL_mean_HOUR_APPR_PROCESS_START',\n",
    "       'NFLAG_INSURED_ON_APPROVAL_mean_RATE_DOWN_PAYMENT',\n",
    "       'NAME_TYPE_SUITE_mean_AMT_ANNUITY',\n",
    "       'NAME_TYPE_SUITE_mean_AMT_APPLICATION',\n",
    "       'NAME_TYPE_SUITE_mean_AMT_CREDIT',\n",
    "       'NAME_TYPE_SUITE_mean_AMT_DOWN_PAYMENT',\n",
    "       'NAME_TYPE_SUITE_mean_AMT_GOODS_PRICE',\n",
    "       'NAME_TYPE_SUITE_mean_CNT_PAYMENT',\n",
    "       'NAME_TYPE_SUITE_mean_DAYS_DECISION',\n",
    "       'NAME_TYPE_SUITE_mean_DAYS_LAST_DUE_1ST_VERSION',\n",
    "       'NAME_TYPE_SUITE_mean_DAYS_TERMINATION',\n",
    "       'NAME_TYPE_SUITE_mean_HOUR_APPR_PROCESS_START',\n",
    "       'NAME_TYPE_SUITE_mean_RATE_DOWN_PAYMENT',\n",
    "       'NAME_PRODUCT_TYPE_mean_AMT_ANNUITY',\n",
    "       'NAME_PRODUCT_TYPE_mean_AMT_APPLICATION',\n",
    "       'NAME_PRODUCT_TYPE_mean_AMT_CREDIT',\n",
    "       'NAME_PRODUCT_TYPE_mean_AMT_DOWN_PAYMENT',\n",
    "       'NAME_PRODUCT_TYPE_mean_AMT_GOODS_PRICE',\n",
    "       'NAME_PRODUCT_TYPE_mean_CNT_PAYMENT',\n",
    "       'NAME_PRODUCT_TYPE_mean_DAYS_DECISION',\n",
    "       'NAME_PRODUCT_TYPE_mean_DAYS_LAST_DUE_1ST_VERSION',\n",
    "       'NAME_PRODUCT_TYPE_mean_DAYS_TERMINATION',\n",
    "       'NAME_PRODUCT_TYPE_mean_HOUR_APPR_PROCESS_START',\n",
    "       'NAME_PRODUCT_TYPE_mean_RATE_DOWN_PAYMENT',\n",
    "       'CHANNEL_TYPE_mean_AMT_ANNUITY',\n",
    "       'CHANNEL_TYPE_mean_AMT_APPLICATION',\n",
    "       'CHANNEL_TYPE_mean_AMT_CREDIT',\n",
    "       'CHANNEL_TYPE_mean_AMT_DOWN_PAYMENT',\n",
    "       'CHANNEL_TYPE_mean_AMT_GOODS_PRICE',\n",
    "       'CHANNEL_TYPE_mean_DAYS_LAST_DUE_1ST_VERSION',\n",
    "       'CHANNEL_TYPE_mean_DAYS_TERMINATION',\n",
    "       'CHANNEL_TYPE_mean_CNT_PAYMENT', 'CHANNEL_TYPE_mean_DAYS_DECISION',\n",
    "       'CHANNEL_TYPE_mean_HOUR_APPR_PROCESS_START',\n",
    "       'CHANNEL_TYPE_mean_RATE_DOWN_PAYMENT',\n",
    "       'FLAG_LAST_APPL_PER_CONTRACT_mean_AMT_ANNUITY',\n",
    "       'FLAG_LAST_APPL_PER_CONTRACT_mean_AMT_APPLICATION',\n",
    "       'FLAG_LAST_APPL_PER_CONTRACT_mean_AMT_CREDIT',\n",
    "       'FLAG_LAST_APPL_PER_CONTRACT_mean_AMT_DOWN_PAYMENT',\n",
    "       'FLAG_LAST_APPL_PER_CONTRACT_mean_AMT_GOODS_PRICE',\n",
    "       'FLAG_LAST_APPL_PER_CONTRACT_mean_CNT_PAYMENT',\n",
    "       'FLAG_LAST_APPL_PER_CONTRACT_mean_DAYS_LAST_DUE_1ST_VERSION',\n",
    "       'FLAG_LAST_APPL_PER_CONTRACT_mean_DAYS_TERMINATION',\n",
    "       'FLAG_LAST_APPL_PER_CONTRACT_mean_DAYS_DECISION',\n",
    "       'FLAG_LAST_APPL_PER_CONTRACT_mean_HOUR_APPR_PROCESS_START',\n",
    "       'FLAG_LAST_APPL_PER_CONTRACT_mean_RATE_DOWN_PAYMENT',\n",
    "       'NAME_CASH_LOAN_PURPOSE_mean_AMT_ANNUITY',\n",
    "       'NAME_CASH_LOAN_PURPOSE_mean_AMT_APPLICATION',\n",
    "       'NAME_CASH_LOAN_PURPOSE_mean_AMT_CREDIT',\n",
    "       'NAME_CASH_LOAN_PURPOSE_mean_AMT_DOWN_PAYMENT',\n",
    "       'NAME_CASH_LOAN_PURPOSE_mean_AMT_GOODS_PRICE',\n",
    "       'NAME_CASH_LOAN_PURPOSE_mean_CNT_PAYMENT',\n",
    "       'NAME_CASH_LOAN_PURPOSE_mean_DAYS_DECISION',\n",
    "       'NAME_CASH_LOAN_PURPOSE_mean_DAYS_LAST_DUE_1ST_VERSION',\n",
    "       'NAME_CASH_LOAN_PURPOSE_mean_DAYS_TERMINATION',\n",
    "       'NAME_CASH_LOAN_PURPOSE_mean_HOUR_APPR_PROCESS_START',\n",
    "       'NAME_CASH_LOAN_PURPOSE_mean_RATE_DOWN_PAYMENT',\n",
    "       'NAME_CLIENT_TYPE_mean_AMT_ANNUITY',\n",
    "       'NAME_CLIENT_TYPE_mean_AMT_APPLICATION',\n",
    "       'NAME_CLIENT_TYPE_mean_AMT_CREDIT',\n",
    "       'NAME_CLIENT_TYPE_mean_AMT_DOWN_PAYMENT',\n",
    "       'NAME_CLIENT_TYPE_mean_DAYS_LAST_DUE_1ST_VERSION',\n",
    "       'NAME_CLIENT_TYPE_mean_DAYS_TERMINATION',\n",
    "       'NAME_CLIENT_TYPE_mean_AMT_GOODS_PRICE',\n",
    "       'NAME_CLIENT_TYPE_mean_CNT_PAYMENT',\n",
    "       'NAME_CLIENT_TYPE_mean_DAYS_DECISION',\n",
    "       'NAME_CLIENT_TYPE_mean_HOUR_APPR_PROCESS_START',\n",
    "       'NAME_CLIENT_TYPE_mean_RATE_DOWN_PAYMENT',\n",
    "       'NAME_YIELD_GROUP_mean_AMT_ANNUITY',\n",
    "       'NAME_YIELD_GROUP_mean_AMT_APPLICATION',\n",
    "       'NAME_YIELD_GROUP_mean_AMT_CREDIT',\n",
    "       'NAME_YIELD_GROUP_mean_AMT_DOWN_PAYMENT',\n",
    "       'NAME_YIELD_GROUP_mean_DAYS_LAST_DUE_1ST_VERSION',\n",
    "       'NAME_YIELD_GROUP_mean_DAYS_TERMINATION',\n",
    "       'NAME_YIELD_GROUP_mean_AMT_GOODS_PRICE',\n",
    "       'NAME_YIELD_GROUP_mean_CNT_PAYMENT',\n",
    "       'NAME_YIELD_GROUP_mean_DAYS_DECISION',\n",
    "       'NAME_YIELD_GROUP_mean_HOUR_APPR_PROCESS_START',\n",
    "       'NAME_YIELD_GROUP_mean_RATE_DOWN_PAYMENT',\n",
    "       'PRODUCT_COMBINATION_mean_AMT_ANNUITY',\n",
    "       'PRODUCT_COMBINATION_mean_AMT_APPLICATION',\n",
    "       'PRODUCT_COMBINATION_mean_AMT_CREDIT',\n",
    "       'PRODUCT_COMBINATION_mean_AMT_DOWN_PAYMENT',\n",
    "       'PRODUCT_COMBINATION_mean_DAYS_LAST_DUE_1ST_VERSION',\n",
    "       'PRODUCT_COMBINATION_mean_DAYS_TERMINATION',\n",
    "       'PRODUCT_COMBINATION_mean_AMT_GOODS_PRICE',\n",
    "       'PRODUCT_COMBINATION_mean_CNT_PAYMENT',\n",
    "       'PRODUCT_COMBINATION_mean_DAYS_DECISION',\n",
    "       'PRODUCT_COMBINATION_mean_HOUR_APPR_PROCESS_START',\n",
    "       'PRODUCT_COMBINATION_mean_RATE_DOWN_PAYMENT'\n",
    "                   ]:\n",
    "        previous_application_agg_RECIPIES.append((select, agg))\n",
    "previous_application_agg_RECIPIES = [(['SK_ID_CURR'], previous_application_agg_RECIPIES)]\n",
    "groupby_aggregate_names = []\n",
    "for groupby_cols, specs in tqdm(previous_application_agg_RECIPIES):\n",
    "    group_object = previous_application.groupby(groupby_cols)\n",
    "    for select, agg in tqdm(specs):\n",
    "        groupby_aggregate_name = '{}_{}_{}'.format('_'.join(groupby_cols), agg, select)\n",
    "        all_data = all_data.merge(group_object[select]\n",
    "                              .agg(agg)\n",
    "                              .reset_index()\n",
    "                              .rename(index=str,\n",
    "                                      columns={select: groupby_aggregate_name})\n",
    "                              [groupby_cols + [groupby_aggregate_name]],\n",
    "                              on=groupby_cols,\n",
    "                              how='left')\n",
    "        groupby_aggregate_names.append(groupby_aggregate_name)"
   ]
  },
  {
   "cell_type": "code",
   "execution_count": 35,
   "metadata": {},
   "outputs": [
    {
     "data": {
      "text/plain": [
       "array(['NAME_CONTRACT_TYPE', 'WEEKDAY_APPR_PROCESS_START',\n",
       "       'FLAG_LAST_APPL_PER_CONTRACT', 'NAME_CASH_LOAN_PURPOSE',\n",
       "       'NAME_CONTRACT_STATUS', 'NAME_PAYMENT_TYPE', 'CODE_REJECT_REASON',\n",
       "       'NAME_TYPE_SUITE', 'NAME_CLIENT_TYPE', 'NAME_GOODS_CATEGORY',\n",
       "       'NAME_PORTFOLIO', 'NAME_PRODUCT_TYPE', 'CHANNEL_TYPE',\n",
       "       'NAME_SELLER_INDUSTRY', 'NAME_YIELD_GROUP', 'PRODUCT_COMBINATION'],\n",
       "      dtype=object)"
      ]
     },
     "execution_count": 35,
     "metadata": {},
     "output_type": "execute_result"
    }
   ],
   "source": [
    "previous_application.select_dtypes(include=['object']).columns.values\n"
   ]
  },
  {
   "cell_type": "code",
   "execution_count": 37,
   "metadata": {
    "collapsed": true
   },
   "outputs": [],
   "source": [
    "previous_application = previous_application[['SK_ID_CURR','NAME_CONTRACT_TYPE','FLAG_LAST_APPL_PER_CONTRACT', 'NAME_PRODUCT_TYPE','NAME_CASH_LOAN_PURPOSE','CODE_REJECT_REASON']]"
   ]
  },
  {
   "cell_type": "code",
   "execution_count": 38,
   "metadata": {
    "collapsed": true
   },
   "outputs": [],
   "source": [
    "previous_application = pd.get_dummies(previous_application)"
   ]
  },
  {
   "cell_type": "code",
   "execution_count": 38,
   "metadata": {},
   "outputs": [
    {
     "data": {
      "text/plain": [
       "array(['SK_ID_CURR', 'NAME_CONTRACT_TYPE_Cash loans',\n",
       "       'NAME_CONTRACT_TYPE_Consumer loans',\n",
       "       'NAME_CONTRACT_TYPE_Revolving loans', 'NAME_CONTRACT_TYPE_XNA',\n",
       "       'FLAG_LAST_APPL_PER_CONTRACT_N', 'FLAG_LAST_APPL_PER_CONTRACT_Y',\n",
       "       'NAME_PRODUCT_TYPE_XNA', 'NAME_PRODUCT_TYPE_walk-in',\n",
       "       'NAME_PRODUCT_TYPE_x-sell',\n",
       "       'NAME_CASH_LOAN_PURPOSE_Building a house or an annex',\n",
       "       'NAME_CASH_LOAN_PURPOSE_Business development',\n",
       "       'NAME_CASH_LOAN_PURPOSE_Buying a garage',\n",
       "       'NAME_CASH_LOAN_PURPOSE_Buying a holiday home / land',\n",
       "       'NAME_CASH_LOAN_PURPOSE_Buying a home',\n",
       "       'NAME_CASH_LOAN_PURPOSE_Buying a new car',\n",
       "       'NAME_CASH_LOAN_PURPOSE_Buying a used car',\n",
       "       'NAME_CASH_LOAN_PURPOSE_Car repairs',\n",
       "       'NAME_CASH_LOAN_PURPOSE_Education',\n",
       "       'NAME_CASH_LOAN_PURPOSE_Everyday expenses',\n",
       "       'NAME_CASH_LOAN_PURPOSE_Furniture',\n",
       "       'NAME_CASH_LOAN_PURPOSE_Gasification / water supply',\n",
       "       'NAME_CASH_LOAN_PURPOSE_Hobby', 'NAME_CASH_LOAN_PURPOSE_Journey',\n",
       "       'NAME_CASH_LOAN_PURPOSE_Medicine',\n",
       "       'NAME_CASH_LOAN_PURPOSE_Money for a third person',\n",
       "       'NAME_CASH_LOAN_PURPOSE_Other',\n",
       "       'NAME_CASH_LOAN_PURPOSE_Payments on other loans',\n",
       "       'NAME_CASH_LOAN_PURPOSE_Purchase of electronic equipment',\n",
       "       'NAME_CASH_LOAN_PURPOSE_Refusal to name the goal',\n",
       "       'NAME_CASH_LOAN_PURPOSE_Repairs',\n",
       "       'NAME_CASH_LOAN_PURPOSE_Urgent needs',\n",
       "       'NAME_CASH_LOAN_PURPOSE_Wedding / gift / holiday',\n",
       "       'NAME_CASH_LOAN_PURPOSE_XAP', 'NAME_CASH_LOAN_PURPOSE_XNA',\n",
       "       'CODE_REJECT_REASON_CLIENT', 'CODE_REJECT_REASON_HC',\n",
       "       'CODE_REJECT_REASON_LIMIT', 'CODE_REJECT_REASON_SCO',\n",
       "       'CODE_REJECT_REASON_SCOFR', 'CODE_REJECT_REASON_SYSTEM',\n",
       "       'CODE_REJECT_REASON_VERIF', 'CODE_REJECT_REASON_XAP',\n",
       "       'CODE_REJECT_REASON_XNA'], dtype=object)"
      ]
     },
     "execution_count": 38,
     "metadata": {},
     "output_type": "execute_result"
    }
   ],
   "source": [
    "previous_application.columns.values"
   ]
  },
  {
   "cell_type": "code",
   "execution_count": 39,
   "metadata": {},
   "outputs": [
    {
     "data": {
      "application/vnd.jupyter.widget-view+json": {
       "model_id": "f093939dc963493a9f6347a417a1af5f"
      }
     },
     "metadata": {},
     "output_type": "display_data"
    },
    {
     "data": {
      "application/vnd.jupyter.widget-view+json": {
       "model_id": "a8b42cca9de74859ab5b536b9d813159"
      }
     },
     "metadata": {},
     "output_type": "display_data"
    },
    {
     "name": "stdout",
     "output_type": "stream",
     "text": [
      "\n"
     ]
    }
   ],
   "source": [
    "previous_application_agg_RECIPIES = []\n",
    "for agg in [ 'mean','min', 'max', 'sum', 'var']:\n",
    "    for select in ['NAME_CONTRACT_TYPE_Cash loans',\n",
    "       'NAME_CONTRACT_TYPE_Consumer loans',\n",
    "       'NAME_CONTRACT_TYPE_Revolving loans', 'NAME_CONTRACT_TYPE_XNA',\n",
    "       'FLAG_LAST_APPL_PER_CONTRACT_N', 'FLAG_LAST_APPL_PER_CONTRACT_Y',\n",
    "       'NAME_PRODUCT_TYPE_XNA', 'NAME_PRODUCT_TYPE_walk-in',\n",
    "       'NAME_PRODUCT_TYPE_x-sell',\n",
    "       'NAME_CASH_LOAN_PURPOSE_Building a house or an annex',\n",
    "       'NAME_CASH_LOAN_PURPOSE_Business development',\n",
    "       'NAME_CASH_LOAN_PURPOSE_Buying a garage',\n",
    "       'NAME_CASH_LOAN_PURPOSE_Buying a holiday home / land',\n",
    "       'NAME_CASH_LOAN_PURPOSE_Buying a home',\n",
    "       'NAME_CASH_LOAN_PURPOSE_Buying a new car',\n",
    "       'NAME_CASH_LOAN_PURPOSE_Buying a used car',\n",
    "       'NAME_CASH_LOAN_PURPOSE_Car repairs',\n",
    "       'NAME_CASH_LOAN_PURPOSE_Education',\n",
    "       'NAME_CASH_LOAN_PURPOSE_Everyday expenses',\n",
    "       'NAME_CASH_LOAN_PURPOSE_Furniture',\n",
    "       'NAME_CASH_LOAN_PURPOSE_Gasification / water supply',\n",
    "       'NAME_CASH_LOAN_PURPOSE_Hobby', 'NAME_CASH_LOAN_PURPOSE_Journey',\n",
    "       'NAME_CASH_LOAN_PURPOSE_Medicine',\n",
    "       'NAME_CASH_LOAN_PURPOSE_Money for a third person',\n",
    "       'NAME_CASH_LOAN_PURPOSE_Other',\n",
    "       'NAME_CASH_LOAN_PURPOSE_Payments on other loans',\n",
    "       'NAME_CASH_LOAN_PURPOSE_Purchase of electronic equipment',\n",
    "       'NAME_CASH_LOAN_PURPOSE_Refusal to name the goal',\n",
    "       'NAME_CASH_LOAN_PURPOSE_Repairs',\n",
    "       'NAME_CASH_LOAN_PURPOSE_Urgent needs',\n",
    "       'NAME_CASH_LOAN_PURPOSE_Wedding / gift / holiday',\n",
    "       'NAME_CASH_LOAN_PURPOSE_XAP', 'NAME_CASH_LOAN_PURPOSE_XNA',\n",
    "       'CODE_REJECT_REASON_CLIENT', 'CODE_REJECT_REASON_HC',\n",
    "       'CODE_REJECT_REASON_LIMIT', 'CODE_REJECT_REASON_SCO',\n",
    "       'CODE_REJECT_REASON_SCOFR', 'CODE_REJECT_REASON_SYSTEM',\n",
    "       'CODE_REJECT_REASON_VERIF', 'CODE_REJECT_REASON_XAP',\n",
    "       'CODE_REJECT_REASON_XNA'\n",
    "                   ]:\n",
    "        previous_application_agg_RECIPIES.append((select, agg))\n",
    "previous_application_agg_RECIPIES = [(['SK_ID_CURR'], previous_application_agg_RECIPIES)]\n",
    "groupby_aggregate_names = []\n",
    "for groupby_cols, specs in tqdm(previous_application_agg_RECIPIES):\n",
    "    group_object = previous_application.groupby(groupby_cols)\n",
    "    for select, agg in tqdm(specs):\n",
    "        groupby_aggregate_name = '{}_{}_{}'.format('_'.join(groupby_cols), agg, select)\n",
    "        all_data = all_data.merge(group_object[select]\n",
    "                              .agg(agg)\n",
    "                              .reset_index()\n",
    "                              .rename(index=str,\n",
    "                                      columns={select: groupby_aggregate_name})\n",
    "                              [groupby_cols + [groupby_aggregate_name]],\n",
    "                              on=groupby_cols,\n",
    "                              how='left')\n",
    "        groupby_aggregate_names.append(groupby_aggregate_name)"
   ]
  },
  {
   "cell_type": "code",
   "execution_count": 40,
   "metadata": {
    "collapsed": true
   },
   "outputs": [],
   "source": [
    "del previous_application"
   ]
  },
  {
   "cell_type": "code",
   "execution_count": 41,
   "metadata": {},
   "outputs": [
    {
     "data": {
      "text/plain": [
       "(1716428, 18)"
      ]
     },
     "execution_count": 41,
     "metadata": {},
     "output_type": "execute_result"
    }
   ],
   "source": [
    "bureau.shape"
   ]
  },
  {
   "cell_type": "code",
   "execution_count": 42,
   "metadata": {},
   "outputs": [
    {
     "data": {
      "text/plain": [
       "<bound method DataFrame.head of         SK_ID_BUREAU  bureau_balance_MONTHS_BALANCE_mean  \\\n",
       "0            5001709                               -48.0   \n",
       "1            5001710                               -41.0   \n",
       "2            5001711                                -1.5   \n",
       "3            5001712                                -9.0   \n",
       "4            5001713                               -10.5   \n",
       "5            5001714                                -7.0   \n",
       "6            5001715                               -29.5   \n",
       "7            5001716                               -42.5   \n",
       "8            5001717                               -10.5   \n",
       "9            5001718                               -19.0   \n",
       "10           5001719                               -21.0   \n",
       "11           5001720                               -17.5   \n",
       "12           5001721                               -42.0   \n",
       "13           5001722                               -42.5   \n",
       "14           5001723                               -15.0   \n",
       "15           5001724                               -15.0   \n",
       "16           5001725                                -3.5   \n",
       "17           5001726                               -19.0   \n",
       "18           5001727                               -47.0   \n",
       "19           5001728                                 0.0   \n",
       "20           5001729                                -3.0   \n",
       "21           5001730                               -30.0   \n",
       "22           5001731                                -5.0   \n",
       "23           5001732                               -17.5   \n",
       "24           5001733                                -5.0   \n",
       "25           5001734                                -1.0   \n",
       "26           5001735                               -11.5   \n",
       "27           5001736                               -11.5   \n",
       "28           5001737                               -10.5   \n",
       "29           5001738                               -21.5   \n",
       "...              ...                                 ...   \n",
       "817365       6842859                               -17.5   \n",
       "817366       6842860                               -17.5   \n",
       "817367       6842861                               -17.5   \n",
       "817368       6842862                               -34.0   \n",
       "817369       6842863                               -39.0   \n",
       "817370       6842864                               -17.0   \n",
       "817371       6842865                                -9.0   \n",
       "817372       6842866                                -2.0   \n",
       "817373       6842867                                -7.0   \n",
       "817374       6842868                               -27.5   \n",
       "817375       6842869                               -13.0   \n",
       "817376       6842870                               -17.5   \n",
       "817377       6842871                                -9.0   \n",
       "817378       6842872                               -43.5   \n",
       "817379       6842873                               -27.5   \n",
       "817380       6842874                               -44.5   \n",
       "817381       6842875                               -38.0   \n",
       "817382       6842876                               -12.5   \n",
       "817383       6842877                               -20.0   \n",
       "817384       6842878                               -14.5   \n",
       "817385       6842879                               -19.0   \n",
       "817386       6842880                               -28.5   \n",
       "817387       6842881                               -15.5   \n",
       "817388       6842882                                -3.5   \n",
       "817389       6842883                               -18.0   \n",
       "817390       6842884                               -23.5   \n",
       "817391       6842885                               -11.5   \n",
       "817392       6842886                               -16.0   \n",
       "817393       6842887                               -18.0   \n",
       "817394       6842888                               -30.5   \n",
       "\n",
       "        bureau_balance_MONTHS_BALANCE_sum  bureau_balance_STATUS_0_mean  \\\n",
       "0                                   -4656                      0.000000   \n",
       "1                                   -3403                      0.060241   \n",
       "2                                      -6                      0.750000   \n",
       "3                                    -171                      0.526316   \n",
       "4                                    -231                      0.000000   \n",
       "5                                    -105                      0.000000   \n",
       "6                                   -1770                      0.000000   \n",
       "7                                   -3655                      0.313953   \n",
       "8                                    -231                      0.772727   \n",
       "9                                    -741                      0.615385   \n",
       "10                                   -903                      0.046512   \n",
       "11                                   -630                      0.805556   \n",
       "12                                  -3570                      0.152941   \n",
       "13                                  -3655                      0.313953   \n",
       "14                                   -465                      0.258065   \n",
       "15                                   -465                      0.000000   \n",
       "16                                    -28                      0.875000   \n",
       "17                                   -741                      0.153846   \n",
       "18                                  -4465                      0.242105   \n",
       "19                                      0                      1.000000   \n",
       "20                                    -21                      0.857143   \n",
       "21                                  -1830                      0.081967   \n",
       "22                                    -55                      0.000000   \n",
       "23                                   -630                      0.000000   \n",
       "24                                    -55                      0.000000   \n",
       "25                                     -3                      1.000000   \n",
       "26                                   -276                      0.041667   \n",
       "27                                   -276                      0.166667   \n",
       "28                                   -231                      0.545455   \n",
       "29                                   -946                      0.272727   \n",
       "...                                   ...                           ...   \n",
       "817365                               -630                      0.166667   \n",
       "817366                               -630                      0.805556   \n",
       "817367                               -630                      0.638889   \n",
       "817368                              -2346                      0.246377   \n",
       "817369                              -3081                      0.012658   \n",
       "817370                               -595                      0.457143   \n",
       "817371                               -171                      1.000000   \n",
       "817372                                -10                      1.000000   \n",
       "817373                               -105                      1.000000   \n",
       "817374                              -1540                      0.071429   \n",
       "817375                               -351                      0.074074   \n",
       "817376                               -630                      0.111111   \n",
       "817377                               -171                      0.631579   \n",
       "817378                              -3828                      0.079545   \n",
       "817379                              -1540                      0.071429   \n",
       "817380                              -4005                      0.088889   \n",
       "817381                              -2926                      0.311688   \n",
       "817382                               -325                      0.038462   \n",
       "817383                               -820                      0.975610   \n",
       "817384                               -435                      0.166667   \n",
       "817385                               -741                      0.153846   \n",
       "817386                              -1653                      0.120690   \n",
       "817387                               -496                      0.625000   \n",
       "817388                                -28                      0.500000   \n",
       "817389                               -666                      0.027027   \n",
       "817390                              -1128                      0.187500   \n",
       "817391                               -276                      0.500000   \n",
       "817392                               -528                      0.242424   \n",
       "817393                               -666                      0.162162   \n",
       "817394                              -1891                      0.145161   \n",
       "\n",
       "        bureau_balance_STATUS_0_sum  bureau_balance_STATUS_1_mean  \\\n",
       "0                                 0                      0.000000   \n",
       "1                                 5                      0.000000   \n",
       "2                                 3                      0.000000   \n",
       "3                                10                      0.000000   \n",
       "4                                 0                      0.000000   \n",
       "5                                 0                      0.000000   \n",
       "6                                 0                      0.000000   \n",
       "7                                27                      0.000000   \n",
       "8                                17                      0.000000   \n",
       "9                                24                      0.051282   \n",
       "10                                2                      0.000000   \n",
       "11                               29                      0.194444   \n",
       "12                               13                      0.000000   \n",
       "13                               27                      0.232558   \n",
       "14                                8                      0.000000   \n",
       "15                                0                      0.000000   \n",
       "16                                7                      0.000000   \n",
       "17                                6                      0.000000   \n",
       "18                               23                      0.000000   \n",
       "19                                1                      0.000000   \n",
       "20                                6                      0.000000   \n",
       "21                                5                      0.000000   \n",
       "22                                0                      0.000000   \n",
       "23                                0                      0.000000   \n",
       "24                                0                      0.000000   \n",
       "25                                3                      0.000000   \n",
       "26                                1                      0.000000   \n",
       "27                                4                      0.000000   \n",
       "28                               12                      0.000000   \n",
       "29                               12                      0.000000   \n",
       "...                             ...                           ...   \n",
       "817365                            6                      0.000000   \n",
       "817366                           29                      0.000000   \n",
       "817367                           23                      0.000000   \n",
       "817368                           17                      0.000000   \n",
       "817369                            1                      0.000000   \n",
       "817370                           16                      0.000000   \n",
       "817371                           19                      0.000000   \n",
       "817372                            5                      0.000000   \n",
       "817373                           15                      0.000000   \n",
       "817374                            4                      0.000000   \n",
       "817375                            2                      0.000000   \n",
       "817376                            4                      0.000000   \n",
       "817377                           12                      0.000000   \n",
       "817378                            7                      0.000000   \n",
       "817379                            4                      0.000000   \n",
       "817380                            8                      0.011111   \n",
       "817381                           24                      0.000000   \n",
       "817382                            1                      0.000000   \n",
       "817383                           40                      0.000000   \n",
       "817384                            5                      0.000000   \n",
       "817385                            6                      0.000000   \n",
       "817386                            7                      0.034483   \n",
       "817387                           20                      0.000000   \n",
       "817388                            4                      0.000000   \n",
       "817389                            1                      0.000000   \n",
       "817390                            9                      0.000000   \n",
       "817391                           12                      0.000000   \n",
       "817392                            8                      0.000000   \n",
       "817393                            6                      0.000000   \n",
       "817394                            9                      0.016129   \n",
       "\n",
       "        bureau_balance_STATUS_1_sum  bureau_balance_STATUS_2_mean  \\\n",
       "0                                 0                           0.0   \n",
       "1                                 0                           0.0   \n",
       "2                                 0                           0.0   \n",
       "3                                 0                           0.0   \n",
       "4                                 0                           0.0   \n",
       "5                                 0                           0.0   \n",
       "6                                 0                           0.0   \n",
       "7                                 0                           0.0   \n",
       "8                                 0                           0.0   \n",
       "9                                 2                           0.0   \n",
       "10                                0                           0.0   \n",
       "11                                7                           0.0   \n",
       "12                                0                           0.0   \n",
       "13                               20                           0.0   \n",
       "14                                0                           0.0   \n",
       "15                                0                           0.0   \n",
       "16                                0                           0.0   \n",
       "17                                0                           0.0   \n",
       "18                                0                           0.0   \n",
       "19                                0                           0.0   \n",
       "20                                0                           0.0   \n",
       "21                                0                           0.0   \n",
       "22                                0                           0.0   \n",
       "23                                0                           0.0   \n",
       "24                                0                           0.0   \n",
       "25                                0                           0.0   \n",
       "26                                0                           0.0   \n",
       "27                                0                           0.0   \n",
       "28                                0                           0.0   \n",
       "29                                0                           0.0   \n",
       "...                             ...                           ...   \n",
       "817365                            0                           0.0   \n",
       "817366                            0                           0.0   \n",
       "817367                            0                           0.0   \n",
       "817368                            0                           0.0   \n",
       "817369                            0                           0.0   \n",
       "817370                            0                           0.0   \n",
       "817371                            0                           0.0   \n",
       "817372                            0                           0.0   \n",
       "817373                            0                           0.0   \n",
       "817374                            0                           0.0   \n",
       "817375                            0                           0.0   \n",
       "817376                            0                           0.0   \n",
       "817377                            0                           0.0   \n",
       "817378                            0                           0.0   \n",
       "817379                            0                           0.0   \n",
       "817380                            1                           0.0   \n",
       "817381                            0                           0.0   \n",
       "817382                            0                           0.0   \n",
       "817383                            0                           0.0   \n",
       "817384                            0                           0.0   \n",
       "817385                            0                           0.0   \n",
       "817386                            2                           0.0   \n",
       "817387                            0                           0.0   \n",
       "817388                            0                           0.0   \n",
       "817389                            0                           0.0   \n",
       "817390                            0                           0.0   \n",
       "817391                            0                           0.0   \n",
       "817392                            0                           0.0   \n",
       "817393                            0                           0.0   \n",
       "817394                            1                           0.0   \n",
       "\n",
       "        bureau_balance_STATUS_2_sum  bureau_balance_STATUS_3_mean  \\\n",
       "0                                 0                           0.0   \n",
       "1                                 0                           0.0   \n",
       "2                                 0                           0.0   \n",
       "3                                 0                           0.0   \n",
       "4                                 0                           0.0   \n",
       "5                                 0                           0.0   \n",
       "6                                 0                           0.0   \n",
       "7                                 0                           0.0   \n",
       "8                                 0                           0.0   \n",
       "9                                 0                           0.0   \n",
       "10                                0                           0.0   \n",
       "11                                0                           0.0   \n",
       "12                                0                           0.0   \n",
       "13                                0                           0.0   \n",
       "14                                0                           0.0   \n",
       "15                                0                           0.0   \n",
       "16                                0                           0.0   \n",
       "17                                0                           0.0   \n",
       "18                                0                           0.0   \n",
       "19                                0                           0.0   \n",
       "20                                0                           0.0   \n",
       "21                                0                           0.0   \n",
       "22                                0                           0.0   \n",
       "23                                0                           0.0   \n",
       "24                                0                           0.0   \n",
       "25                                0                           0.0   \n",
       "26                                0                           0.0   \n",
       "27                                0                           0.0   \n",
       "28                                0                           0.0   \n",
       "29                                0                           0.0   \n",
       "...                             ...                           ...   \n",
       "817365                            0                           0.0   \n",
       "817366                            0                           0.0   \n",
       "817367                            0                           0.0   \n",
       "817368                            0                           0.0   \n",
       "817369                            0                           0.0   \n",
       "817370                            0                           0.0   \n",
       "817371                            0                           0.0   \n",
       "817372                            0                           0.0   \n",
       "817373                            0                           0.0   \n",
       "817374                            0                           0.0   \n",
       "817375                            0                           0.0   \n",
       "817376                            0                           0.0   \n",
       "817377                            0                           0.0   \n",
       "817378                            0                           0.0   \n",
       "817379                            0                           0.0   \n",
       "817380                            0                           0.0   \n",
       "817381                            0                           0.0   \n",
       "817382                            0                           0.0   \n",
       "817383                            0                           0.0   \n",
       "817384                            0                           0.0   \n",
       "817385                            0                           0.0   \n",
       "817386                            0                           0.0   \n",
       "817387                            0                           0.0   \n",
       "817388                            0                           0.0   \n",
       "817389                            0                           0.0   \n",
       "817390                            0                           0.0   \n",
       "817391                            0                           0.0   \n",
       "817392                            0                           0.0   \n",
       "817393                            0                           0.0   \n",
       "817394                            0                           0.0   \n",
       "\n",
       "        bureau_balance_STATUS_3_sum  bureau_balance_STATUS_4_mean  \\\n",
       "0                                 0                           0.0   \n",
       "1                                 0                           0.0   \n",
       "2                                 0                           0.0   \n",
       "3                                 0                           0.0   \n",
       "4                                 0                           0.0   \n",
       "5                                 0                           0.0   \n",
       "6                                 0                           0.0   \n",
       "7                                 0                           0.0   \n",
       "8                                 0                           0.0   \n",
       "9                                 0                           0.0   \n",
       "10                                0                           0.0   \n",
       "11                                0                           0.0   \n",
       "12                                0                           0.0   \n",
       "13                                0                           0.0   \n",
       "14                                0                           0.0   \n",
       "15                                0                           0.0   \n",
       "16                                0                           0.0   \n",
       "17                                0                           0.0   \n",
       "18                                0                           0.0   \n",
       "19                                0                           0.0   \n",
       "20                                0                           0.0   \n",
       "21                                0                           0.0   \n",
       "22                                0                           0.0   \n",
       "23                                0                           0.0   \n",
       "24                                0                           0.0   \n",
       "25                                0                           0.0   \n",
       "26                                0                           0.0   \n",
       "27                                0                           0.0   \n",
       "28                                0                           0.0   \n",
       "29                                0                           0.0   \n",
       "...                             ...                           ...   \n",
       "817365                            0                           0.0   \n",
       "817366                            0                           0.0   \n",
       "817367                            0                           0.0   \n",
       "817368                            0                           0.0   \n",
       "817369                            0                           0.0   \n",
       "817370                            0                           0.0   \n",
       "817371                            0                           0.0   \n",
       "817372                            0                           0.0   \n",
       "817373                            0                           0.0   \n",
       "817374                            0                           0.0   \n",
       "817375                            0                           0.0   \n",
       "817376                            0                           0.0   \n",
       "817377                            0                           0.0   \n",
       "817378                            0                           0.0   \n",
       "817379                            0                           0.0   \n",
       "817380                            0                           0.0   \n",
       "817381                            0                           0.0   \n",
       "817382                            0                           0.0   \n",
       "817383                            0                           0.0   \n",
       "817384                            0                           0.0   \n",
       "817385                            0                           0.0   \n",
       "817386                            0                           0.0   \n",
       "817387                            0                           0.0   \n",
       "817388                            0                           0.0   \n",
       "817389                            0                           0.0   \n",
       "817390                            0                           0.0   \n",
       "817391                            0                           0.0   \n",
       "817392                            0                           0.0   \n",
       "817393                            0                           0.0   \n",
       "817394                            0                           0.0   \n",
       "\n",
       "        bureau_balance_STATUS_4_sum  bureau_balance_STATUS_5_mean  \\\n",
       "0                                 0                           0.0   \n",
       "1                                 0                           0.0   \n",
       "2                                 0                           0.0   \n",
       "3                                 0                           0.0   \n",
       "4                                 0                           0.0   \n",
       "5                                 0                           0.0   \n",
       "6                                 0                           0.0   \n",
       "7                                 0                           0.0   \n",
       "8                                 0                           0.0   \n",
       "9                                 0                           0.0   \n",
       "10                                0                           0.0   \n",
       "11                                0                           0.0   \n",
       "12                                0                           0.0   \n",
       "13                                0                           0.0   \n",
       "14                                0                           0.0   \n",
       "15                                0                           0.0   \n",
       "16                                0                           0.0   \n",
       "17                                0                           0.0   \n",
       "18                                0                           0.0   \n",
       "19                                0                           0.0   \n",
       "20                                0                           0.0   \n",
       "21                                0                           0.0   \n",
       "22                                0                           0.0   \n",
       "23                                0                           0.0   \n",
       "24                                0                           0.0   \n",
       "25                                0                           0.0   \n",
       "26                                0                           0.0   \n",
       "27                                0                           0.0   \n",
       "28                                0                           0.0   \n",
       "29                                0                           0.0   \n",
       "...                             ...                           ...   \n",
       "817365                            0                           0.0   \n",
       "817366                            0                           0.0   \n",
       "817367                            0                           0.0   \n",
       "817368                            0                           0.0   \n",
       "817369                            0                           0.0   \n",
       "817370                            0                           0.0   \n",
       "817371                            0                           0.0   \n",
       "817372                            0                           0.0   \n",
       "817373                            0                           0.0   \n",
       "817374                            0                           0.0   \n",
       "817375                            0                           0.0   \n",
       "817376                            0                           0.0   \n",
       "817377                            0                           0.0   \n",
       "817378                            0                           0.0   \n",
       "817379                            0                           0.0   \n",
       "817380                            0                           0.0   \n",
       "817381                            0                           0.0   \n",
       "817382                            0                           0.0   \n",
       "817383                            0                           0.0   \n",
       "817384                            0                           0.0   \n",
       "817385                            0                           0.0   \n",
       "817386                            0                           0.0   \n",
       "817387                            0                           0.0   \n",
       "817388                            0                           0.0   \n",
       "817389                            0                           0.0   \n",
       "817390                            0                           0.0   \n",
       "817391                            0                           0.5   \n",
       "817392                            0                           0.0   \n",
       "817393                            0                           0.0   \n",
       "817394                            0                           0.0   \n",
       "\n",
       "        bureau_balance_STATUS_5_sum  bureau_balance_STATUS_C_mean  \\\n",
       "0                                 0                      0.886598   \n",
       "1                                 0                      0.578313   \n",
       "2                                 0                      0.000000   \n",
       "3                                 0                      0.473684   \n",
       "4                                 0                      0.000000   \n",
       "5                                 0                      0.000000   \n",
       "6                                 0                      0.000000   \n",
       "7                                 0                      0.453488   \n",
       "8                                 0                      0.227273   \n",
       "9                                 0                      0.076923   \n",
       "10                                0                      0.953488   \n",
       "11                                0                      0.000000   \n",
       "12                                0                      0.847059   \n",
       "13                                0                      0.453488   \n",
       "14                                0                      0.000000   \n",
       "15                                0                      0.709677   \n",
       "16                                0                      0.000000   \n",
       "17                                0                      0.846154   \n",
       "18                                0                      0.757895   \n",
       "19                                0                      0.000000   \n",
       "20                                0                      0.142857   \n",
       "21                                0                      0.918033   \n",
       "22                                0                      0.000000   \n",
       "23                                0                      0.000000   \n",
       "24                                0                      0.000000   \n",
       "25                                0                      0.000000   \n",
       "26                                0                      0.958333   \n",
       "27                                0                      0.833333   \n",
       "28                                0                      0.454545   \n",
       "29                                0                      0.727273   \n",
       "...                             ...                           ...   \n",
       "817365                            0                      0.833333   \n",
       "817366                            0                      0.000000   \n",
       "817367                            0                      0.055556   \n",
       "817368                            0                      0.217391   \n",
       "817369                            0                      0.556962   \n",
       "817370                            0                      0.000000   \n",
       "817371                            0                      0.000000   \n",
       "817372                            0                      0.000000   \n",
       "817373                            0                      0.000000   \n",
       "817374                            0                      0.928571   \n",
       "817375                            0                      0.925926   \n",
       "817376                            0                      0.833333   \n",
       "817377                            0                      0.000000   \n",
       "817378                            0                      0.886364   \n",
       "817379                            0                      0.928571   \n",
       "817380                            0                      0.888889   \n",
       "817381                            0                      0.675325   \n",
       "817382                            0                      0.000000   \n",
       "817383                            0                      0.000000   \n",
       "817384                            0                      0.766667   \n",
       "817385                            0                      0.512821   \n",
       "817386                            0                      0.620690   \n",
       "817387                            0                      0.000000   \n",
       "817388                            0                      0.000000   \n",
       "817389                            0                      0.945946   \n",
       "817390                            0                      0.416667   \n",
       "817391                           12                      0.000000   \n",
       "817392                            0                      0.757576   \n",
       "817393                            0                      0.837838   \n",
       "817394                            0                      0.838710   \n",
       "\n",
       "        bureau_balance_STATUS_C_sum  bureau_balance_STATUS_X_mean  \\\n",
       "0                                86                      0.113402   \n",
       "1                                48                      0.361446   \n",
       "2                                 0                      0.250000   \n",
       "3                                 9                      0.000000   \n",
       "4                                 0                      1.000000   \n",
       "5                                 0                      1.000000   \n",
       "6                                 0                      1.000000   \n",
       "7                                39                      0.232558   \n",
       "8                                 5                      0.000000   \n",
       "9                                 3                      0.256410   \n",
       "10                               41                      0.000000   \n",
       "11                                0                      0.000000   \n",
       "12                               72                      0.000000   \n",
       "13                               39                      0.000000   \n",
       "14                                0                      0.741935   \n",
       "15                               22                      0.290323   \n",
       "16                                0                      0.125000   \n",
       "17                               33                      0.000000   \n",
       "18                               72                      0.000000   \n",
       "19                                0                      0.000000   \n",
       "20                                1                      0.000000   \n",
       "21                               56                      0.000000   \n",
       "22                                0                      1.000000   \n",
       "23                                0                      1.000000   \n",
       "24                                0                      1.000000   \n",
       "25                                0                      0.000000   \n",
       "26                               23                      0.000000   \n",
       "27                               20                      0.000000   \n",
       "28                               10                      0.000000   \n",
       "29                               32                      0.000000   \n",
       "...                             ...                           ...   \n",
       "817365                           30                      0.000000   \n",
       "817366                            0                      0.194444   \n",
       "817367                            2                      0.305556   \n",
       "817368                           15                      0.536232   \n",
       "817369                           44                      0.430380   \n",
       "817370                            0                      0.542857   \n",
       "817371                            0                      0.000000   \n",
       "817372                            0                      0.000000   \n",
       "817373                            0                      0.000000   \n",
       "817374                           52                      0.000000   \n",
       "817375                           25                      0.000000   \n",
       "817376                           30                      0.055556   \n",
       "817377                            0                      0.368421   \n",
       "817378                           78                      0.034091   \n",
       "817379                           52                      0.000000   \n",
       "817380                           80                      0.011111   \n",
       "817381                           52                      0.012987   \n",
       "817382                            0                      0.961538   \n",
       "817383                            0                      0.024390   \n",
       "817384                           23                      0.066667   \n",
       "817385                           20                      0.333333   \n",
       "817386                           36                      0.224138   \n",
       "817387                            0                      0.375000   \n",
       "817388                            0                      0.500000   \n",
       "817389                           35                      0.027027   \n",
       "817390                           20                      0.395833   \n",
       "817391                            0                      0.000000   \n",
       "817392                           25                      0.000000   \n",
       "817393                           31                      0.000000   \n",
       "817394                           52                      0.000000   \n",
       "\n",
       "        bureau_balance_STATUS_X_sum  \n",
       "0                                11  \n",
       "1                                30  \n",
       "2                                 1  \n",
       "3                                 0  \n",
       "4                                22  \n",
       "5                                15  \n",
       "6                                60  \n",
       "7                                20  \n",
       "8                                 0  \n",
       "9                                10  \n",
       "10                                0  \n",
       "11                                0  \n",
       "12                                0  \n",
       "13                                0  \n",
       "14                               23  \n",
       "15                                9  \n",
       "16                                1  \n",
       "17                                0  \n",
       "18                                0  \n",
       "19                                0  \n",
       "20                                0  \n",
       "21                                0  \n",
       "22                               11  \n",
       "23                               36  \n",
       "24                               11  \n",
       "25                                0  \n",
       "26                                0  \n",
       "27                                0  \n",
       "28                                0  \n",
       "29                                0  \n",
       "...                             ...  \n",
       "817365                            0  \n",
       "817366                            7  \n",
       "817367                           11  \n",
       "817368                           37  \n",
       "817369                           34  \n",
       "817370                           19  \n",
       "817371                            0  \n",
       "817372                            0  \n",
       "817373                            0  \n",
       "817374                            0  \n",
       "817375                            0  \n",
       "817376                            2  \n",
       "817377                            7  \n",
       "817378                            3  \n",
       "817379                            0  \n",
       "817380                            1  \n",
       "817381                            1  \n",
       "817382                           25  \n",
       "817383                            1  \n",
       "817384                            2  \n",
       "817385                           13  \n",
       "817386                           13  \n",
       "817387                           12  \n",
       "817388                            4  \n",
       "817389                            1  \n",
       "817390                           19  \n",
       "817391                            0  \n",
       "817392                            0  \n",
       "817393                            0  \n",
       "817394                            0  \n",
       "\n",
       "[817395 rows x 19 columns]>"
      ]
     },
     "execution_count": 42,
     "metadata": {},
     "output_type": "execute_result"
    }
   ],
   "source": [
    "bureau_balance.shape\n",
    "bureau_balance = pd.get_dummies(bureau_balance)\n",
    "bureau_balance_agg = bureau_balance.groupby('SK_ID_BUREAU', as_index = False).agg([ 'mean', 'sum']).reset_index()\n",
    "bureau_balance_agg.head()\n",
    "# List of column names\n",
    "columns = ['SK_ID_BUREAU']\n",
    "\n",
    "# Iterate through the variables names\n",
    "for var in bureau_balance_agg.columns.levels[0]:\n",
    "    # Skip the id name\n",
    "    if var != 'SK_ID_BUREAU':\n",
    "        \n",
    "        # Iterate through the stat names\n",
    "        for stat in bureau_balance_agg.columns.levels[1][:-1]:\n",
    "            # Make a new column name for the variable and stat\n",
    "            columns.append('bureau_balance_%s_%s' % (var, stat))\n",
    "bureau_balance_agg.columns = columns\n",
    "bureau_balance_agg.head "
   ]
  },
  {
   "cell_type": "code",
   "execution_count": 43,
   "metadata": {
    "collapsed": true
   },
   "outputs": [],
   "source": [
    "bureau = bureau.merge(bureau_balance_agg, on = 'SK_ID_BUREAU', how = 'left')"
   ]
  },
  {
   "cell_type": "code",
   "execution_count": 45,
   "metadata": {},
   "outputs": [
    {
     "data": {
      "text/plain": [
       "array(['SK_ID_CURR', 'SK_ID_BUREAU', 'CREDIT_ACTIVE', 'CREDIT_CURRENCY',\n",
       "       'DAYS_CREDIT', 'CREDIT_DAY_OVERDUE', 'DAYS_CREDIT_ENDDATE',\n",
       "       'DAYS_ENDDATE_FACT', 'AMT_CREDIT_MAX_OVERDUE',\n",
       "       'CNT_CREDIT_PROLONG', 'AMT_CREDIT_SUM', 'AMT_CREDIT_SUM_DEBT',\n",
       "       'AMT_CREDIT_SUM_LIMIT', 'AMT_CREDIT_SUM_OVERDUE', 'CREDIT_TYPE',\n",
       "       'DAYS_CREDIT_UPDATE', 'AMT_ANNUITY', 'DAYS_DIFF',\n",
       "       'bureau_balance_MONTHS_BALANCE_mean',\n",
       "       'bureau_balance_MONTHS_BALANCE_sum',\n",
       "       'bureau_balance_STATUS_0_mean', 'bureau_balance_STATUS_0_sum',\n",
       "       'bureau_balance_STATUS_1_mean', 'bureau_balance_STATUS_1_sum',\n",
       "       'bureau_balance_STATUS_2_mean', 'bureau_balance_STATUS_2_sum',\n",
       "       'bureau_balance_STATUS_3_mean', 'bureau_balance_STATUS_3_sum',\n",
       "       'bureau_balance_STATUS_4_mean', 'bureau_balance_STATUS_4_sum',\n",
       "       'bureau_balance_STATUS_5_mean', 'bureau_balance_STATUS_5_sum',\n",
       "       'bureau_balance_STATUS_C_mean', 'bureau_balance_STATUS_C_sum',\n",
       "       'bureau_balance_STATUS_X_mean', 'bureau_balance_STATUS_X_sum'],\n",
       "      dtype=object)"
      ]
     },
     "execution_count": 45,
     "metadata": {},
     "output_type": "execute_result"
    }
   ],
   "source": [
    "bureau.columns.values"
   ]
  },
  {
   "cell_type": "code",
   "execution_count": 46,
   "metadata": {},
   "outputs": [
    {
     "data": {
      "text/plain": [
       "array(['SK_ID_CURR', 'SK_ID_BUREAU', 'DAYS_CREDIT', 'CREDIT_DAY_OVERDUE',\n",
       "       'DAYS_CREDIT_ENDDATE', 'DAYS_ENDDATE_FACT',\n",
       "       'AMT_CREDIT_MAX_OVERDUE', 'CNT_CREDIT_PROLONG', 'AMT_CREDIT_SUM',\n",
       "       'AMT_CREDIT_SUM_DEBT', 'AMT_CREDIT_SUM_LIMIT',\n",
       "       'AMT_CREDIT_SUM_OVERDUE', 'DAYS_CREDIT_UPDATE', 'AMT_ANNUITY',\n",
       "       'DAYS_DIFF', 'bureau_balance_MONTHS_BALANCE_mean',\n",
       "       'bureau_balance_MONTHS_BALANCE_sum',\n",
       "       'bureau_balance_STATUS_0_mean', 'bureau_balance_STATUS_0_sum',\n",
       "       'bureau_balance_STATUS_1_mean', 'bureau_balance_STATUS_1_sum',\n",
       "       'bureau_balance_STATUS_2_mean', 'bureau_balance_STATUS_2_sum',\n",
       "       'bureau_balance_STATUS_3_mean', 'bureau_balance_STATUS_3_sum',\n",
       "       'bureau_balance_STATUS_4_mean', 'bureau_balance_STATUS_4_sum',\n",
       "       'bureau_balance_STATUS_5_mean', 'bureau_balance_STATUS_5_sum',\n",
       "       'bureau_balance_STATUS_C_mean', 'bureau_balance_STATUS_C_sum',\n",
       "       'bureau_balance_STATUS_X_mean', 'bureau_balance_STATUS_X_sum'],\n",
       "      dtype=object)"
      ]
     },
     "execution_count": 46,
     "metadata": {},
     "output_type": "execute_result"
    }
   ],
   "source": [
    "bureau.select_dtypes(exclude=['object']).columns.values"
   ]
  },
  {
   "cell_type": "code",
   "execution_count": 44,
   "metadata": {},
   "outputs": [
    {
     "data": {
      "application/vnd.jupyter.widget-view+json": {
       "model_id": "56b63520e6ce4b8e80524827faa396d4"
      }
     },
     "metadata": {},
     "output_type": "display_data"
    },
    {
     "data": {
      "application/vnd.jupyter.widget-view+json": {
       "model_id": "169ebdd42b3c41bb93255205610d07db"
      }
     },
     "metadata": {},
     "output_type": "display_data"
    },
    {
     "data": {
      "application/vnd.jupyter.widget-view+json": {
       "model_id": "d3f522489f5e4a6ea37111d4fdae1e58"
      }
     },
     "metadata": {},
     "output_type": "display_data"
    },
    {
     "name": "stdout",
     "output_type": "stream",
     "text": [
      "\n"
     ]
    }
   ],
   "source": [
    "AGGREGATION_RECIPIES = [\n",
    "\n",
    "    (['CREDIT_TYPE'], [('AMT_ANNUITY', 'mean'),\n",
    "                           ('CREDIT_DAY_OVERDUE', 'mean'),\n",
    "                           ('AMT_CREDIT_MAX_OVERDUE', 'mean'),\n",
    "                           ('DAYS_CREDIT_ENDDATE', 'mean'),\n",
    "                           ('AMT_CREDIT_SUM_OVERDUE', 'mean'),\n",
    "                       ('bureau_balance_MONTHS_BALANCE_sum', 'mean'),\n",
    "                           ('AMT_CREDIT_SUM_LIMIT', 'mean')]),\n",
    "        (['CREDIT_ACTIVE'], [('AMT_ANNUITY', 'mean'),\n",
    "                           ('CREDIT_DAY_OVERDUE', 'mean'),\n",
    "                             ('bureau_balance_MONTHS_BALANCE_sum', 'mean'),\n",
    "                           ('AMT_CREDIT_MAX_OVERDUE', 'mean'),\n",
    "                           ('DAYS_CREDIT_ENDDATE', 'mean'),\n",
    "                           ('AMT_CREDIT_SUM_OVERDUE', 'mean'),\n",
    "                           ('AMT_CREDIT_SUM_LIMIT', 'mean')]),\n",
    "]\n",
    "groupby_aggregate_names = []\n",
    "for groupby_cols, specs in tqdm(AGGREGATION_RECIPIES):\n",
    "    group_object = bureau.groupby(groupby_cols)\n",
    "    for select, agg in tqdm(specs):\n",
    "        groupby_aggregate_name = '{}_{}_{}'.format('_'.join(groupby_cols), agg, select)\n",
    "        bureau = bureau.merge(group_object[select]\n",
    "                              .agg(agg)\n",
    "                              .reset_index()\n",
    "                              .rename(index=str,\n",
    "                                      columns={select: groupby_aggregate_name})\n",
    "                              [groupby_cols + [groupby_aggregate_name]],\n",
    "                              on=groupby_cols,\n",
    "                              how='left')\n",
    "        groupby_aggregate_names.append(groupby_aggregate_name)"
   ]
  },
  {
   "cell_type": "code",
   "execution_count": 45,
   "metadata": {
    "collapsed": true
   },
   "outputs": [],
   "source": [
    "bureau = bureau.drop(columns = ['CREDIT_CURRENCY','CREDIT_TYPE','SK_ID_BUREAU'] )\n",
    "bureau = pd.get_dummies(bureau)"
   ]
  },
  {
   "cell_type": "code",
   "execution_count": 46,
   "metadata": {},
   "outputs": [
    {
     "data": {
      "text/plain": [
       "array(['SK_ID_CURR', 'bureau_DAYS_CREDIT_mean', 'bureau_DAYS_CREDIT_max',\n",
       "       'bureau_DAYS_CREDIT_min', 'bureau_DAYS_CREDIT_sum',\n",
       "       'bureau_CREDIT_DAY_OVERDUE_mean', 'bureau_CREDIT_DAY_OVERDUE_max',\n",
       "       'bureau_CREDIT_DAY_OVERDUE_min', 'bureau_CREDIT_DAY_OVERDUE_sum',\n",
       "       'bureau_DAYS_CREDIT_ENDDATE_mean',\n",
       "       'bureau_DAYS_CREDIT_ENDDATE_max', 'bureau_DAYS_CREDIT_ENDDATE_min',\n",
       "       'bureau_DAYS_CREDIT_ENDDATE_sum', 'bureau_DAYS_ENDDATE_FACT_mean',\n",
       "       'bureau_DAYS_ENDDATE_FACT_max', 'bureau_DAYS_ENDDATE_FACT_min',\n",
       "       'bureau_DAYS_ENDDATE_FACT_sum',\n",
       "       'bureau_AMT_CREDIT_MAX_OVERDUE_mean',\n",
       "       'bureau_AMT_CREDIT_MAX_OVERDUE_max',\n",
       "       'bureau_AMT_CREDIT_MAX_OVERDUE_min',\n",
       "       'bureau_AMT_CREDIT_MAX_OVERDUE_sum',\n",
       "       'bureau_CNT_CREDIT_PROLONG_mean', 'bureau_CNT_CREDIT_PROLONG_max',\n",
       "       'bureau_CNT_CREDIT_PROLONG_min', 'bureau_CNT_CREDIT_PROLONG_sum',\n",
       "       'bureau_AMT_CREDIT_SUM_mean', 'bureau_AMT_CREDIT_SUM_max',\n",
       "       'bureau_AMT_CREDIT_SUM_min', 'bureau_AMT_CREDIT_SUM_sum',\n",
       "       'bureau_AMT_CREDIT_SUM_DEBT_mean',\n",
       "       'bureau_AMT_CREDIT_SUM_DEBT_max', 'bureau_AMT_CREDIT_SUM_DEBT_min',\n",
       "       'bureau_AMT_CREDIT_SUM_DEBT_sum',\n",
       "       'bureau_AMT_CREDIT_SUM_LIMIT_mean',\n",
       "       'bureau_AMT_CREDIT_SUM_LIMIT_max',\n",
       "       'bureau_AMT_CREDIT_SUM_LIMIT_min',\n",
       "       'bureau_AMT_CREDIT_SUM_LIMIT_sum',\n",
       "       'bureau_AMT_CREDIT_SUM_OVERDUE_mean',\n",
       "       'bureau_AMT_CREDIT_SUM_OVERDUE_max',\n",
       "       'bureau_AMT_CREDIT_SUM_OVERDUE_min',\n",
       "       'bureau_AMT_CREDIT_SUM_OVERDUE_sum',\n",
       "       'bureau_DAYS_CREDIT_UPDATE_mean', 'bureau_DAYS_CREDIT_UPDATE_max',\n",
       "       'bureau_DAYS_CREDIT_UPDATE_min', 'bureau_DAYS_CREDIT_UPDATE_sum',\n",
       "       'bureau_AMT_ANNUITY_mean', 'bureau_AMT_ANNUITY_max',\n",
       "       'bureau_AMT_ANNUITY_min', 'bureau_AMT_ANNUITY_sum',\n",
       "       'bureau_DAYS_DIFF_mean', 'bureau_DAYS_DIFF_max',\n",
       "       'bureau_DAYS_DIFF_min', 'bureau_DAYS_DIFF_sum',\n",
       "       'bureau_bureau_balance_MONTHS_BALANCE_mean_mean',\n",
       "       'bureau_bureau_balance_MONTHS_BALANCE_mean_max',\n",
       "       'bureau_bureau_balance_MONTHS_BALANCE_mean_min',\n",
       "       'bureau_bureau_balance_MONTHS_BALANCE_mean_sum',\n",
       "       'bureau_bureau_balance_MONTHS_BALANCE_sum_mean',\n",
       "       'bureau_bureau_balance_MONTHS_BALANCE_sum_max',\n",
       "       'bureau_bureau_balance_MONTHS_BALANCE_sum_min',\n",
       "       'bureau_bureau_balance_MONTHS_BALANCE_sum_sum',\n",
       "       'bureau_bureau_balance_STATUS_0_mean_mean',\n",
       "       'bureau_bureau_balance_STATUS_0_mean_max',\n",
       "       'bureau_bureau_balance_STATUS_0_mean_min',\n",
       "       'bureau_bureau_balance_STATUS_0_mean_sum',\n",
       "       'bureau_bureau_balance_STATUS_0_sum_mean',\n",
       "       'bureau_bureau_balance_STATUS_0_sum_max',\n",
       "       'bureau_bureau_balance_STATUS_0_sum_min',\n",
       "       'bureau_bureau_balance_STATUS_0_sum_sum',\n",
       "       'bureau_bureau_balance_STATUS_1_mean_mean',\n",
       "       'bureau_bureau_balance_STATUS_1_mean_max',\n",
       "       'bureau_bureau_balance_STATUS_1_mean_min',\n",
       "       'bureau_bureau_balance_STATUS_1_mean_sum',\n",
       "       'bureau_bureau_balance_STATUS_1_sum_mean',\n",
       "       'bureau_bureau_balance_STATUS_1_sum_max',\n",
       "       'bureau_bureau_balance_STATUS_1_sum_min',\n",
       "       'bureau_bureau_balance_STATUS_1_sum_sum',\n",
       "       'bureau_bureau_balance_STATUS_2_mean_mean',\n",
       "       'bureau_bureau_balance_STATUS_2_mean_max',\n",
       "       'bureau_bureau_balance_STATUS_2_mean_min',\n",
       "       'bureau_bureau_balance_STATUS_2_mean_sum',\n",
       "       'bureau_bureau_balance_STATUS_2_sum_mean',\n",
       "       'bureau_bureau_balance_STATUS_2_sum_max',\n",
       "       'bureau_bureau_balance_STATUS_2_sum_min',\n",
       "       'bureau_bureau_balance_STATUS_2_sum_sum',\n",
       "       'bureau_bureau_balance_STATUS_3_mean_mean',\n",
       "       'bureau_bureau_balance_STATUS_3_mean_max',\n",
       "       'bureau_bureau_balance_STATUS_3_mean_min',\n",
       "       'bureau_bureau_balance_STATUS_3_mean_sum',\n",
       "       'bureau_bureau_balance_STATUS_3_sum_mean',\n",
       "       'bureau_bureau_balance_STATUS_3_sum_max',\n",
       "       'bureau_bureau_balance_STATUS_3_sum_min',\n",
       "       'bureau_bureau_balance_STATUS_3_sum_sum',\n",
       "       'bureau_bureau_balance_STATUS_4_mean_mean',\n",
       "       'bureau_bureau_balance_STATUS_4_mean_max',\n",
       "       'bureau_bureau_balance_STATUS_4_mean_min',\n",
       "       'bureau_bureau_balance_STATUS_4_mean_sum',\n",
       "       'bureau_bureau_balance_STATUS_4_sum_mean',\n",
       "       'bureau_bureau_balance_STATUS_4_sum_max',\n",
       "       'bureau_bureau_balance_STATUS_4_sum_min',\n",
       "       'bureau_bureau_balance_STATUS_4_sum_sum',\n",
       "       'bureau_bureau_balance_STATUS_5_mean_mean',\n",
       "       'bureau_bureau_balance_STATUS_5_mean_max',\n",
       "       'bureau_bureau_balance_STATUS_5_mean_min',\n",
       "       'bureau_bureau_balance_STATUS_5_mean_sum',\n",
       "       'bureau_bureau_balance_STATUS_5_sum_mean',\n",
       "       'bureau_bureau_balance_STATUS_5_sum_max',\n",
       "       'bureau_bureau_balance_STATUS_5_sum_min',\n",
       "       'bureau_bureau_balance_STATUS_5_sum_sum',\n",
       "       'bureau_bureau_balance_STATUS_C_mean_mean',\n",
       "       'bureau_bureau_balance_STATUS_C_mean_max',\n",
       "       'bureau_bureau_balance_STATUS_C_mean_min',\n",
       "       'bureau_bureau_balance_STATUS_C_mean_sum',\n",
       "       'bureau_bureau_balance_STATUS_C_sum_mean',\n",
       "       'bureau_bureau_balance_STATUS_C_sum_max',\n",
       "       'bureau_bureau_balance_STATUS_C_sum_min',\n",
       "       'bureau_bureau_balance_STATUS_C_sum_sum',\n",
       "       'bureau_bureau_balance_STATUS_X_mean_mean',\n",
       "       'bureau_bureau_balance_STATUS_X_mean_max',\n",
       "       'bureau_bureau_balance_STATUS_X_mean_min',\n",
       "       'bureau_bureau_balance_STATUS_X_mean_sum',\n",
       "       'bureau_bureau_balance_STATUS_X_sum_mean',\n",
       "       'bureau_bureau_balance_STATUS_X_sum_max',\n",
       "       'bureau_bureau_balance_STATUS_X_sum_min',\n",
       "       'bureau_bureau_balance_STATUS_X_sum_sum',\n",
       "       'bureau_CREDIT_TYPE_mean_AMT_ANNUITY_mean',\n",
       "       'bureau_CREDIT_TYPE_mean_AMT_ANNUITY_max',\n",
       "       'bureau_CREDIT_TYPE_mean_AMT_ANNUITY_min',\n",
       "       'bureau_CREDIT_TYPE_mean_AMT_ANNUITY_sum',\n",
       "       'bureau_CREDIT_TYPE_mean_CREDIT_DAY_OVERDUE_mean',\n",
       "       'bureau_CREDIT_TYPE_mean_CREDIT_DAY_OVERDUE_max',\n",
       "       'bureau_CREDIT_TYPE_mean_CREDIT_DAY_OVERDUE_min',\n",
       "       'bureau_CREDIT_TYPE_mean_CREDIT_DAY_OVERDUE_sum',\n",
       "       'bureau_CREDIT_TYPE_mean_AMT_CREDIT_MAX_OVERDUE_mean',\n",
       "       'bureau_CREDIT_TYPE_mean_AMT_CREDIT_MAX_OVERDUE_max',\n",
       "       'bureau_CREDIT_TYPE_mean_AMT_CREDIT_MAX_OVERDUE_min',\n",
       "       'bureau_CREDIT_TYPE_mean_AMT_CREDIT_MAX_OVERDUE_sum',\n",
       "       'bureau_CREDIT_TYPE_mean_DAYS_CREDIT_ENDDATE_mean',\n",
       "       'bureau_CREDIT_TYPE_mean_DAYS_CREDIT_ENDDATE_max',\n",
       "       'bureau_CREDIT_TYPE_mean_DAYS_CREDIT_ENDDATE_min',\n",
       "       'bureau_CREDIT_TYPE_mean_DAYS_CREDIT_ENDDATE_sum',\n",
       "       'bureau_CREDIT_TYPE_mean_AMT_CREDIT_SUM_OVERDUE_mean',\n",
       "       'bureau_CREDIT_TYPE_mean_AMT_CREDIT_SUM_OVERDUE_max',\n",
       "       'bureau_CREDIT_TYPE_mean_AMT_CREDIT_SUM_OVERDUE_min',\n",
       "       'bureau_CREDIT_TYPE_mean_AMT_CREDIT_SUM_OVERDUE_sum',\n",
       "       'bureau_CREDIT_TYPE_mean_bureau_balance_MONTHS_BALANCE_sum_mean',\n",
       "       'bureau_CREDIT_TYPE_mean_bureau_balance_MONTHS_BALANCE_sum_max',\n",
       "       'bureau_CREDIT_TYPE_mean_bureau_balance_MONTHS_BALANCE_sum_min',\n",
       "       'bureau_CREDIT_TYPE_mean_bureau_balance_MONTHS_BALANCE_sum_sum',\n",
       "       'bureau_CREDIT_TYPE_mean_AMT_CREDIT_SUM_LIMIT_mean',\n",
       "       'bureau_CREDIT_TYPE_mean_AMT_CREDIT_SUM_LIMIT_max',\n",
       "       'bureau_CREDIT_TYPE_mean_AMT_CREDIT_SUM_LIMIT_min',\n",
       "       'bureau_CREDIT_TYPE_mean_AMT_CREDIT_SUM_LIMIT_sum',\n",
       "       'bureau_CREDIT_ACTIVE_mean_AMT_ANNUITY_mean',\n",
       "       'bureau_CREDIT_ACTIVE_mean_AMT_ANNUITY_max',\n",
       "       'bureau_CREDIT_ACTIVE_mean_AMT_ANNUITY_min',\n",
       "       'bureau_CREDIT_ACTIVE_mean_AMT_ANNUITY_sum',\n",
       "       'bureau_CREDIT_ACTIVE_mean_CREDIT_DAY_OVERDUE_mean',\n",
       "       'bureau_CREDIT_ACTIVE_mean_CREDIT_DAY_OVERDUE_max',\n",
       "       'bureau_CREDIT_ACTIVE_mean_CREDIT_DAY_OVERDUE_min',\n",
       "       'bureau_CREDIT_ACTIVE_mean_CREDIT_DAY_OVERDUE_sum',\n",
       "       'bureau_CREDIT_ACTIVE_mean_bureau_balance_MONTHS_BALANCE_sum_mean',\n",
       "       'bureau_CREDIT_ACTIVE_mean_bureau_balance_MONTHS_BALANCE_sum_max',\n",
       "       'bureau_CREDIT_ACTIVE_mean_bureau_balance_MONTHS_BALANCE_sum_min',\n",
       "       'bureau_CREDIT_ACTIVE_mean_bureau_balance_MONTHS_BALANCE_sum_sum',\n",
       "       'bureau_CREDIT_ACTIVE_mean_AMT_CREDIT_MAX_OVERDUE_mean',\n",
       "       'bureau_CREDIT_ACTIVE_mean_AMT_CREDIT_MAX_OVERDUE_max',\n",
       "       'bureau_CREDIT_ACTIVE_mean_AMT_CREDIT_MAX_OVERDUE_min',\n",
       "       'bureau_CREDIT_ACTIVE_mean_AMT_CREDIT_MAX_OVERDUE_sum',\n",
       "       'bureau_CREDIT_ACTIVE_mean_DAYS_CREDIT_ENDDATE_mean',\n",
       "       'bureau_CREDIT_ACTIVE_mean_DAYS_CREDIT_ENDDATE_max',\n",
       "       'bureau_CREDIT_ACTIVE_mean_DAYS_CREDIT_ENDDATE_min',\n",
       "       'bureau_CREDIT_ACTIVE_mean_DAYS_CREDIT_ENDDATE_sum',\n",
       "       'bureau_CREDIT_ACTIVE_mean_AMT_CREDIT_SUM_OVERDUE_mean',\n",
       "       'bureau_CREDIT_ACTIVE_mean_AMT_CREDIT_SUM_OVERDUE_max',\n",
       "       'bureau_CREDIT_ACTIVE_mean_AMT_CREDIT_SUM_OVERDUE_min',\n",
       "       'bureau_CREDIT_ACTIVE_mean_AMT_CREDIT_SUM_OVERDUE_sum',\n",
       "       'bureau_CREDIT_ACTIVE_mean_AMT_CREDIT_SUM_LIMIT_mean',\n",
       "       'bureau_CREDIT_ACTIVE_mean_AMT_CREDIT_SUM_LIMIT_max',\n",
       "       'bureau_CREDIT_ACTIVE_mean_AMT_CREDIT_SUM_LIMIT_min',\n",
       "       'bureau_CREDIT_ACTIVE_mean_AMT_CREDIT_SUM_LIMIT_sum',\n",
       "       'bureau_CREDIT_ACTIVE_Active_mean',\n",
       "       'bureau_CREDIT_ACTIVE_Active_max',\n",
       "       'bureau_CREDIT_ACTIVE_Active_min',\n",
       "       'bureau_CREDIT_ACTIVE_Active_sum',\n",
       "       'bureau_CREDIT_ACTIVE_Bad debt_mean',\n",
       "       'bureau_CREDIT_ACTIVE_Bad debt_max',\n",
       "       'bureau_CREDIT_ACTIVE_Bad debt_min',\n",
       "       'bureau_CREDIT_ACTIVE_Bad debt_sum',\n",
       "       'bureau_CREDIT_ACTIVE_Closed_mean',\n",
       "       'bureau_CREDIT_ACTIVE_Closed_max',\n",
       "       'bureau_CREDIT_ACTIVE_Closed_min',\n",
       "       'bureau_CREDIT_ACTIVE_Closed_sum',\n",
       "       'bureau_CREDIT_ACTIVE_Sold_mean', 'bureau_CREDIT_ACTIVE_Sold_max',\n",
       "       'bureau_CREDIT_ACTIVE_Sold_min', 'bureau_CREDIT_ACTIVE_Sold_sum'],\n",
       "      dtype=object)"
      ]
     },
     "execution_count": 46,
     "metadata": {},
     "output_type": "execute_result"
    }
   ],
   "source": [
    "bureau_agg = bureau.groupby('SK_ID_CURR', as_index = False).agg([ 'mean', 'max', 'min', 'sum']).reset_index()\n",
    "bureau_agg.head()\n",
    "# List of column names\n",
    "columns = ['SK_ID_CURR']\n",
    "\n",
    "# Iterate through the variables names\n",
    "for var in bureau_agg.columns.levels[0]:\n",
    "    # Skip the id name\n",
    "    if var != 'SK_ID_CURR':\n",
    "        \n",
    "        # Iterate through the stat names\n",
    "        for stat in bureau_agg.columns.levels[1][:-1]:\n",
    "            # Make a new column name for the variable and stat\n",
    "            columns.append('bureau_%s_%s' % (var, stat))\n",
    "bureau_agg.columns = columns\n",
    "bureau_agg.columns.values "
   ]
  },
  {
   "cell_type": "code",
   "execution_count": 47,
   "metadata": {
    "collapsed": true
   },
   "outputs": [],
   "source": [
    "all_data = all_data.merge(bureau_agg, on = 'SK_ID_CURR', how = 'left')"
   ]
  },
  {
   "cell_type": "code",
   "execution_count": 48,
   "metadata": {},
   "outputs": [
    {
     "data": {
      "text/plain": [
       "(356255, 1082)"
      ]
     },
     "execution_count": 48,
     "metadata": {},
     "output_type": "execute_result"
    }
   ],
   "source": [
    "all_data.shape"
   ]
  },
  {
   "cell_type": "code",
   "execution_count": 49,
   "metadata": {
    "collapsed": true
   },
   "outputs": [],
   "source": [
    "del bureau_agg\n",
    "del bureau\n",
    "del bureau_balance_agg\n",
    "del bureau_balance"
   ]
  },
  {
   "cell_type": "code",
   "execution_count": 50,
   "metadata": {},
   "outputs": [
    {
     "data": {
      "text/plain": [
       "array(['SK_ID_PREV', 'SK_ID_CURR', 'MONTHS_BALANCE', 'CNT_INSTALMENT',\n",
       "       'CNT_INSTALMENT_FUTURE', 'SK_DPD', 'SK_DPD_DEF',\n",
       "       'pos_cash_paid_late', 'pos_cash_paid_late_with_tolerance'],\n",
       "      dtype=object)"
      ]
     },
     "execution_count": 50,
     "metadata": {},
     "output_type": "execute_result"
    }
   ],
   "source": [
    "POS_CASH_balance.select_dtypes(exclude=['object']).columns.values"
   ]
  },
  {
   "cell_type": "code",
   "execution_count": 51,
   "metadata": {},
   "outputs": [
    {
     "data": {
      "text/plain": [
       "array(['SK_ID_PREV', 'SK_ID_CURR', 'MONTHS_BALANCE', 'CNT_INSTALMENT',\n",
       "       'CNT_INSTALMENT_FUTURE', 'NAME_CONTRACT_STATUS', 'SK_DPD',\n",
       "       'SK_DPD_DEF', 'pos_cash_paid_late',\n",
       "       'pos_cash_paid_late_with_tolerance'], dtype=object)"
      ]
     },
     "execution_count": 51,
     "metadata": {},
     "output_type": "execute_result"
    }
   ],
   "source": [
    "POS_CASH_balance.columns.values"
   ]
  },
  {
   "cell_type": "code",
   "execution_count": 52,
   "metadata": {},
   "outputs": [
    {
     "data": {
      "application/vnd.jupyter.widget-view+json": {
       "model_id": "e66d177e508f4b66a0130814dcf6f886"
      }
     },
     "metadata": {},
     "output_type": "display_data"
    },
    {
     "data": {
      "application/vnd.jupyter.widget-view+json": {
       "model_id": "1faeac7d1d4a4dd695abb6ff24cbbcd7"
      }
     },
     "metadata": {},
     "output_type": "display_data"
    },
    {
     "name": "stdout",
     "output_type": "stream",
     "text": [
      "\n"
     ]
    }
   ],
   "source": [
    "AGGREGATION_RECIPIES = [\n",
    "\n",
    "    (['NAME_CONTRACT_STATUS'], [('CNT_INSTALMENT', 'mean'),\n",
    "                           ('CNT_INSTALMENT_FUTURE', 'mean'),\n",
    "                           ('SK_DPD', 'mean'),\n",
    "                           ('SK_DPD_DEF', 'mean')\n",
    "                           ]),\n",
    "]\n",
    "groupby_aggregate_names = []\n",
    "for groupby_cols, specs in tqdm(AGGREGATION_RECIPIES):\n",
    "    group_object = POS_CASH_balance.groupby(groupby_cols)\n",
    "    for select, agg in tqdm(specs):\n",
    "        groupby_aggregate_name = '{}_{}_{}'.format('_'.join(groupby_cols), agg, select)\n",
    "        POS_CASH_balance = POS_CASH_balance.merge(group_object[select]\n",
    "                              .agg(agg)\n",
    "                              .reset_index()\n",
    "                              .rename(index=str,\n",
    "                                      columns={select: groupby_aggregate_name})\n",
    "                              [groupby_cols + [groupby_aggregate_name]],\n",
    "                              on=groupby_cols,\n",
    "                              how='left')\n",
    "        groupby_aggregate_names.append(groupby_aggregate_name)"
   ]
  },
  {
   "cell_type": "code",
   "execution_count": 53,
   "metadata": {},
   "outputs": [
    {
     "data": {
      "text/plain": [
       "array(['SK_ID_PREV', 'SK_ID_CURR', 'MONTHS_BALANCE', 'CNT_INSTALMENT',\n",
       "       'CNT_INSTALMENT_FUTURE', 'NAME_CONTRACT_STATUS', 'SK_DPD',\n",
       "       'SK_DPD_DEF', 'pos_cash_paid_late',\n",
       "       'pos_cash_paid_late_with_tolerance',\n",
       "       'NAME_CONTRACT_STATUS_mean_CNT_INSTALMENT',\n",
       "       'NAME_CONTRACT_STATUS_mean_CNT_INSTALMENT_FUTURE',\n",
       "       'NAME_CONTRACT_STATUS_mean_SK_DPD',\n",
       "       'NAME_CONTRACT_STATUS_mean_SK_DPD_DEF'], dtype=object)"
      ]
     },
     "execution_count": 53,
     "metadata": {},
     "output_type": "execute_result"
    }
   ],
   "source": [
    "POS_CASH_balance.columns.values"
   ]
  },
  {
   "cell_type": "code",
   "execution_count": 54,
   "metadata": {},
   "outputs": [
    {
     "data": {
      "text/plain": [
       "array(['SK_ID_CURR', 'POS_CASH_MONTHS_BALANCE_mean',\n",
       "       'POS_CASH_MONTHS_BALANCE_max', 'POS_CASH_MONTHS_BALANCE_min',\n",
       "       'POS_CASH_MONTHS_BALANCE_sum', 'POS_CASH_CNT_INSTALMENT_mean',\n",
       "       'POS_CASH_CNT_INSTALMENT_max', 'POS_CASH_CNT_INSTALMENT_min',\n",
       "       'POS_CASH_CNT_INSTALMENT_sum',\n",
       "       'POS_CASH_CNT_INSTALMENT_FUTURE_mean',\n",
       "       'POS_CASH_CNT_INSTALMENT_FUTURE_max',\n",
       "       'POS_CASH_CNT_INSTALMENT_FUTURE_min',\n",
       "       'POS_CASH_CNT_INSTALMENT_FUTURE_sum', 'POS_CASH_SK_DPD_mean',\n",
       "       'POS_CASH_SK_DPD_max', 'POS_CASH_SK_DPD_min',\n",
       "       'POS_CASH_SK_DPD_sum', 'POS_CASH_SK_DPD_DEF_mean',\n",
       "       'POS_CASH_SK_DPD_DEF_max', 'POS_CASH_SK_DPD_DEF_min',\n",
       "       'POS_CASH_SK_DPD_DEF_sum', 'POS_CASH_pos_cash_paid_late_mean',\n",
       "       'POS_CASH_pos_cash_paid_late_max',\n",
       "       'POS_CASH_pos_cash_paid_late_min',\n",
       "       'POS_CASH_pos_cash_paid_late_sum',\n",
       "       'POS_CASH_pos_cash_paid_late_with_tolerance_mean',\n",
       "       'POS_CASH_pos_cash_paid_late_with_tolerance_max',\n",
       "       'POS_CASH_pos_cash_paid_late_with_tolerance_min',\n",
       "       'POS_CASH_pos_cash_paid_late_with_tolerance_sum',\n",
       "       'POS_CASH_NAME_CONTRACT_STATUS_mean_CNT_INSTALMENT_mean',\n",
       "       'POS_CASH_NAME_CONTRACT_STATUS_mean_CNT_INSTALMENT_max',\n",
       "       'POS_CASH_NAME_CONTRACT_STATUS_mean_CNT_INSTALMENT_min',\n",
       "       'POS_CASH_NAME_CONTRACT_STATUS_mean_CNT_INSTALMENT_sum',\n",
       "       'POS_CASH_NAME_CONTRACT_STATUS_mean_CNT_INSTALMENT_FUTURE_mean',\n",
       "       'POS_CASH_NAME_CONTRACT_STATUS_mean_CNT_INSTALMENT_FUTURE_max',\n",
       "       'POS_CASH_NAME_CONTRACT_STATUS_mean_CNT_INSTALMENT_FUTURE_min',\n",
       "       'POS_CASH_NAME_CONTRACT_STATUS_mean_CNT_INSTALMENT_FUTURE_sum',\n",
       "       'POS_CASH_NAME_CONTRACT_STATUS_mean_SK_DPD_mean',\n",
       "       'POS_CASH_NAME_CONTRACT_STATUS_mean_SK_DPD_max',\n",
       "       'POS_CASH_NAME_CONTRACT_STATUS_mean_SK_DPD_min',\n",
       "       'POS_CASH_NAME_CONTRACT_STATUS_mean_SK_DPD_sum',\n",
       "       'POS_CASH_NAME_CONTRACT_STATUS_mean_SK_DPD_DEF_mean',\n",
       "       'POS_CASH_NAME_CONTRACT_STATUS_mean_SK_DPD_DEF_max',\n",
       "       'POS_CASH_NAME_CONTRACT_STATUS_mean_SK_DPD_DEF_min',\n",
       "       'POS_CASH_NAME_CONTRACT_STATUS_mean_SK_DPD_DEF_sum',\n",
       "       'POS_CASH_NAME_CONTRACT_STATUS_Active_mean',\n",
       "       'POS_CASH_NAME_CONTRACT_STATUS_Active_max',\n",
       "       'POS_CASH_NAME_CONTRACT_STATUS_Active_min',\n",
       "       'POS_CASH_NAME_CONTRACT_STATUS_Active_sum',\n",
       "       'POS_CASH_NAME_CONTRACT_STATUS_Amortized debt_mean',\n",
       "       'POS_CASH_NAME_CONTRACT_STATUS_Amortized debt_max',\n",
       "       'POS_CASH_NAME_CONTRACT_STATUS_Amortized debt_min',\n",
       "       'POS_CASH_NAME_CONTRACT_STATUS_Amortized debt_sum',\n",
       "       'POS_CASH_NAME_CONTRACT_STATUS_Approved_mean',\n",
       "       'POS_CASH_NAME_CONTRACT_STATUS_Approved_max',\n",
       "       'POS_CASH_NAME_CONTRACT_STATUS_Approved_min',\n",
       "       'POS_CASH_NAME_CONTRACT_STATUS_Approved_sum',\n",
       "       'POS_CASH_NAME_CONTRACT_STATUS_Canceled_mean',\n",
       "       'POS_CASH_NAME_CONTRACT_STATUS_Canceled_max',\n",
       "       'POS_CASH_NAME_CONTRACT_STATUS_Canceled_min',\n",
       "       'POS_CASH_NAME_CONTRACT_STATUS_Canceled_sum',\n",
       "       'POS_CASH_NAME_CONTRACT_STATUS_Completed_mean',\n",
       "       'POS_CASH_NAME_CONTRACT_STATUS_Completed_max',\n",
       "       'POS_CASH_NAME_CONTRACT_STATUS_Completed_min',\n",
       "       'POS_CASH_NAME_CONTRACT_STATUS_Completed_sum',\n",
       "       'POS_CASH_NAME_CONTRACT_STATUS_Demand_mean',\n",
       "       'POS_CASH_NAME_CONTRACT_STATUS_Demand_max',\n",
       "       'POS_CASH_NAME_CONTRACT_STATUS_Demand_min',\n",
       "       'POS_CASH_NAME_CONTRACT_STATUS_Demand_sum',\n",
       "       'POS_CASH_NAME_CONTRACT_STATUS_Returned to the store_mean',\n",
       "       'POS_CASH_NAME_CONTRACT_STATUS_Returned to the store_max',\n",
       "       'POS_CASH_NAME_CONTRACT_STATUS_Returned to the store_min',\n",
       "       'POS_CASH_NAME_CONTRACT_STATUS_Returned to the store_sum',\n",
       "       'POS_CASH_NAME_CONTRACT_STATUS_Signed_mean',\n",
       "       'POS_CASH_NAME_CONTRACT_STATUS_Signed_max',\n",
       "       'POS_CASH_NAME_CONTRACT_STATUS_Signed_min',\n",
       "       'POS_CASH_NAME_CONTRACT_STATUS_Signed_sum',\n",
       "       'POS_CASH_NAME_CONTRACT_STATUS_XNA_mean',\n",
       "       'POS_CASH_NAME_CONTRACT_STATUS_XNA_max',\n",
       "       'POS_CASH_NAME_CONTRACT_STATUS_XNA_min',\n",
       "       'POS_CASH_NAME_CONTRACT_STATUS_XNA_sum'], dtype=object)"
      ]
     },
     "execution_count": 54,
     "metadata": {},
     "output_type": "execute_result"
    }
   ],
   "source": [
    "POS_CASH_balance = pd.get_dummies(POS_CASH_balance)\n",
    "\n",
    "POS_CASH_balance_agg = POS_CASH_balance.drop(columns = ['SK_ID_PREV']).groupby('SK_ID_CURR', as_index = False).agg([ 'mean', 'max', 'min', 'sum']).reset_index()\n",
    "POS_CASH_balance_agg.head()\n",
    "# List of column names\n",
    "columns = ['SK_ID_CURR']\n",
    "\n",
    "# Iterate through the variables names\n",
    "for var in POS_CASH_balance_agg.columns.levels[0]:\n",
    "    # Skip the id name\n",
    "    if var != 'SK_ID_CURR':\n",
    "        \n",
    "        # Iterate through the stat names\n",
    "        for stat in POS_CASH_balance_agg.columns.levels[1][:-1]:\n",
    "            # Make a new column name for the variable and stat\n",
    "            columns.append('POS_CASH_%s_%s' % (var, stat))\n",
    "POS_CASH_balance_agg.columns = columns\n",
    "POS_CASH_balance_agg.columns.values"
   ]
  },
  {
   "cell_type": "code",
   "execution_count": 55,
   "metadata": {
    "collapsed": true
   },
   "outputs": [],
   "source": [
    "all_data= all_data.merge(POS_CASH_balance_agg, on = 'SK_ID_CURR', how = 'left')"
   ]
  },
  {
   "cell_type": "code",
   "execution_count": 54,
   "metadata": {},
   "outputs": [
    {
     "data": {
      "text/plain": [
       "(356255, 1159)"
      ]
     },
     "execution_count": 54,
     "metadata": {},
     "output_type": "execute_result"
    }
   ],
   "source": [
    "all_data.shape"
   ]
  },
  {
   "cell_type": "code",
   "execution_count": 56,
   "metadata": {
    "collapsed": true
   },
   "outputs": [],
   "source": [
    "del POS_CASH_balance_agg\n",
    "del POS_CASH_balance"
   ]
  },
  {
   "cell_type": "code",
   "execution_count": 60,
   "metadata": {},
   "outputs": [
    {
     "data": {
      "text/plain": [
       "array(['SK_ID_PREV', 'SK_ID_CURR', 'NUM_INSTALMENT_VERSION',\n",
       "       'NUM_INSTALMENT_NUMBER', 'DAYS_INSTALMENT', 'DAYS_ENTRY_PAYMENT',\n",
       "       'AMT_INSTALMENT', 'AMT_PAYMENT', 'instalment_paid_late_in_days',\n",
       "       'instalment_paid_late', 'instalment_paid_over_amount',\n",
       "       'instalment_paid_over'], dtype=object)"
      ]
     },
     "execution_count": 60,
     "metadata": {},
     "output_type": "execute_result"
    }
   ],
   "source": [
    "installments_payments.select_dtypes(exclude=['object']).columns.values"
   ]
  },
  {
   "cell_type": "code",
   "execution_count": 57,
   "metadata": {
    "collapsed": true
   },
   "outputs": [],
   "source": [
    "\n",
    "\n",
    "installments_payments['PAYMENT_PERC'] = installments_payments['AMT_PAYMENT'] / installments_payments['AMT_INSTALMENT']\n",
    "\n",
    "\n",
    "installments_payments['DBD'] = installments_payments['DAYS_INSTALMENT'] - installments_payments['DAYS_ENTRY_PAYMENT']\n",
    "installments_payments['instalment_paid_late_in_days'] = installments_payments['instalment_paid_late_in_days'].apply(lambda x: x if x > 0 else 0)\n",
    "installments_payments['DBD'] = installments_payments['DBD'].apply(lambda x: x if x > 0 else 0)"
   ]
  },
  {
   "cell_type": "code",
   "execution_count": 58,
   "metadata": {},
   "outputs": [
    {
     "data": {
      "text/plain": [
       "array(['SK_ID_CURR', 'install_NUM_INSTALMENT_VERSION_mean',\n",
       "       'install_NUM_INSTALMENT_VERSION_max',\n",
       "       'install_NUM_INSTALMENT_VERSION_min',\n",
       "       'install_NUM_INSTALMENT_VERSION_sum',\n",
       "       'install_NUM_INSTALMENT_VERSION_std',\n",
       "       'install_NUM_INSTALMENT_NUMBER_mean',\n",
       "       'install_NUM_INSTALMENT_NUMBER_max',\n",
       "       'install_NUM_INSTALMENT_NUMBER_min',\n",
       "       'install_NUM_INSTALMENT_NUMBER_sum',\n",
       "       'install_NUM_INSTALMENT_NUMBER_std',\n",
       "       'install_DAYS_INSTALMENT_mean', 'install_DAYS_INSTALMENT_max',\n",
       "       'install_DAYS_INSTALMENT_min', 'install_DAYS_INSTALMENT_sum',\n",
       "       'install_DAYS_INSTALMENT_std', 'install_DAYS_ENTRY_PAYMENT_mean',\n",
       "       'install_DAYS_ENTRY_PAYMENT_max', 'install_DAYS_ENTRY_PAYMENT_min',\n",
       "       'install_DAYS_ENTRY_PAYMENT_sum', 'install_DAYS_ENTRY_PAYMENT_std',\n",
       "       'install_AMT_INSTALMENT_mean', 'install_AMT_INSTALMENT_max',\n",
       "       'install_AMT_INSTALMENT_min', 'install_AMT_INSTALMENT_sum',\n",
       "       'install_AMT_INSTALMENT_std', 'install_AMT_PAYMENT_mean',\n",
       "       'install_AMT_PAYMENT_max', 'install_AMT_PAYMENT_min',\n",
       "       'install_AMT_PAYMENT_sum', 'install_AMT_PAYMENT_std',\n",
       "       'install_instalment_paid_late_in_days_mean',\n",
       "       'install_instalment_paid_late_in_days_max',\n",
       "       'install_instalment_paid_late_in_days_min',\n",
       "       'install_instalment_paid_late_in_days_sum',\n",
       "       'install_instalment_paid_late_in_days_std',\n",
       "       'install_instalment_paid_late_mean',\n",
       "       'install_instalment_paid_late_max',\n",
       "       'install_instalment_paid_late_min',\n",
       "       'install_instalment_paid_late_sum',\n",
       "       'install_instalment_paid_late_std',\n",
       "       'install_instalment_paid_over_amount_mean',\n",
       "       'install_instalment_paid_over_amount_max',\n",
       "       'install_instalment_paid_over_amount_min',\n",
       "       'install_instalment_paid_over_amount_sum',\n",
       "       'install_instalment_paid_over_amount_std',\n",
       "       'install_instalment_paid_over_mean',\n",
       "       'install_instalment_paid_over_max',\n",
       "       'install_instalment_paid_over_min',\n",
       "       'install_instalment_paid_over_sum',\n",
       "       'install_instalment_paid_over_std', 'install_PAYMENT_PERC_mean',\n",
       "       'install_PAYMENT_PERC_max', 'install_PAYMENT_PERC_min',\n",
       "       'install_PAYMENT_PERC_sum', 'install_PAYMENT_PERC_std',\n",
       "       'install_DBD_mean', 'install_DBD_max', 'install_DBD_min',\n",
       "       'install_DBD_sum', 'install_DBD_std'], dtype=object)"
      ]
     },
     "execution_count": 58,
     "metadata": {},
     "output_type": "execute_result"
    }
   ],
   "source": [
    "installments_payments_agg = installments_payments.drop(columns = ['SK_ID_PREV']).groupby('SK_ID_CURR', as_index = False).agg([ 'mean', 'max', 'min', 'sum','std']).reset_index()\n",
    "installments_payments_agg.head()\n",
    "# List of column names\n",
    "columns = ['SK_ID_CURR']\n",
    "\n",
    "# Iterate through the variables names\n",
    "for var in installments_payments_agg.columns.levels[0]:\n",
    "    # Skip the id name\n",
    "    if var != 'SK_ID_CURR':\n",
    "        \n",
    "        # Iterate through the stat names\n",
    "        for stat in installments_payments_agg.columns.levels[1][:-1]:\n",
    "            # Make a new column name for the variable and stat\n",
    "            columns.append('install_%s_%s' % (var, stat))\n",
    "installments_payments_agg.columns = columns\n",
    "installments_payments_agg.columns.values"
   ]
  },
  {
   "cell_type": "code",
   "execution_count": 59,
   "metadata": {
    "collapsed": true
   },
   "outputs": [],
   "source": [
    "all_data= all_data.merge(installments_payments_agg, on = 'SK_ID_CURR', how = 'left')"
   ]
  },
  {
   "cell_type": "code",
   "execution_count": 60,
   "metadata": {},
   "outputs": [
    {
     "data": {
      "text/plain": [
       "(356255, 1222)"
      ]
     },
     "execution_count": 60,
     "metadata": {},
     "output_type": "execute_result"
    }
   ],
   "source": [
    "all_data.shape"
   ]
  },
  {
   "cell_type": "code",
   "execution_count": 61,
   "metadata": {
    "collapsed": true
   },
   "outputs": [],
   "source": [
    "del installments_payments_agg\n",
    "del installments_payments"
   ]
  },
  {
   "cell_type": "code",
   "execution_count": 62,
   "metadata": {},
   "outputs": [
    {
     "data": {
      "text/plain": [
       "array(['SK_ID_PREV', 'SK_ID_CURR', 'MONTHS_BALANCE', 'AMT_BALANCE',\n",
       "       'AMT_CREDIT_LIMIT_ACTUAL', 'AMT_DRAWINGS_ATM_CURRENT',\n",
       "       'AMT_DRAWINGS_CURRENT', 'AMT_DRAWINGS_OTHER_CURRENT',\n",
       "       'AMT_DRAWINGS_POS_CURRENT', 'AMT_INST_MIN_REGULARITY',\n",
       "       'AMT_PAYMENT_CURRENT', 'AMT_PAYMENT_TOTAL_CURRENT',\n",
       "       'AMT_RECEIVABLE_PRINCIPAL', 'AMT_RECIVABLE',\n",
       "       'AMT_TOTAL_RECEIVABLE', 'CNT_DRAWINGS_ATM_CURRENT',\n",
       "       'CNT_DRAWINGS_CURRENT', 'CNT_DRAWINGS_OTHER_CURRENT',\n",
       "       'CNT_DRAWINGS_POS_CURRENT', 'CNT_INSTALMENT_MATURE_CUM',\n",
       "       'NAME_CONTRACT_STATUS', 'SK_DPD', 'SK_DPD_DEF'], dtype=object)"
      ]
     },
     "execution_count": 62,
     "metadata": {},
     "output_type": "execute_result"
    }
   ],
   "source": [
    "credit_card_balance.columns.values"
   ]
  },
  {
   "cell_type": "code",
   "execution_count": 63,
   "metadata": {},
   "outputs": [
    {
     "data": {
      "text/plain": [
       "array(['SK_ID_PREV', 'SK_ID_CURR', 'MONTHS_BALANCE', 'AMT_BALANCE',\n",
       "       'AMT_CREDIT_LIMIT_ACTUAL', 'AMT_DRAWINGS_ATM_CURRENT',\n",
       "       'AMT_DRAWINGS_CURRENT', 'AMT_DRAWINGS_OTHER_CURRENT',\n",
       "       'AMT_DRAWINGS_POS_CURRENT', 'AMT_INST_MIN_REGULARITY',\n",
       "       'AMT_PAYMENT_CURRENT', 'AMT_PAYMENT_TOTAL_CURRENT',\n",
       "       'AMT_RECEIVABLE_PRINCIPAL', 'AMT_RECIVABLE',\n",
       "       'AMT_TOTAL_RECEIVABLE', 'CNT_DRAWINGS_ATM_CURRENT',\n",
       "       'CNT_DRAWINGS_CURRENT', 'CNT_DRAWINGS_OTHER_CURRENT',\n",
       "       'CNT_DRAWINGS_POS_CURRENT', 'CNT_INSTALMENT_MATURE_CUM', 'SK_DPD',\n",
       "       'SK_DPD_DEF'], dtype=object)"
      ]
     },
     "execution_count": 63,
     "metadata": {},
     "output_type": "execute_result"
    }
   ],
   "source": [
    "credit_card_balance.select_dtypes(exclude=['object']).columns.values"
   ]
  },
  {
   "cell_type": "code",
   "execution_count": 64,
   "metadata": {},
   "outputs": [
    {
     "data": {
      "application/vnd.jupyter.widget-view+json": {
       "model_id": "412e253b69564b03969d538b9cfec694"
      }
     },
     "metadata": {},
     "output_type": "display_data"
    },
    {
     "data": {
      "application/vnd.jupyter.widget-view+json": {
       "model_id": "68864af7c7624d439bf96b5095d0bb02"
      }
     },
     "metadata": {},
     "output_type": "display_data"
    },
    {
     "name": "stdout",
     "output_type": "stream",
     "text": [
      "\n"
     ]
    }
   ],
   "source": [
    "AGGREGATION_RECIPIES = [\n",
    "\n",
    "    (['NAME_CONTRACT_STATUS'], [('AMT_BALANCE', 'mean'),\n",
    "                           ('AMT_PAYMENT_TOTAL_CURRENT', 'mean'),\n",
    "                           ('AMT_PAYMENT_CURRENT', 'mean'),\n",
    "                           ('CNT_INSTALMENT_MATURE_CUM', 'mean'),\n",
    "                           ('SK_DPD_DEF', 'mean'),\n",
    "                           ('SK_DPD', 'mean'),\n",
    "                           ('AMT_CREDIT_LIMIT_ACTUAL', 'mean')]),\n",
    "]\n",
    "groupby_aggregate_names = []\n",
    "for groupby_cols, specs in tqdm(AGGREGATION_RECIPIES):\n",
    "    group_object = credit_card_balance.groupby(groupby_cols)\n",
    "    for select, agg in tqdm(specs):\n",
    "        groupby_aggregate_name = '{}_{}_{}'.format('_'.join(groupby_cols), agg, select)\n",
    "        credit_card_balance = credit_card_balance.merge(group_object[select]\n",
    "                              .agg(agg)\n",
    "                              .reset_index()\n",
    "                              .rename(index=str,\n",
    "                                      columns={select: groupby_aggregate_name})\n",
    "                              [groupby_cols + [groupby_aggregate_name]],\n",
    "                              on=groupby_cols,\n",
    "                              how='left')\n",
    "        groupby_aggregate_names.append(groupby_aggregate_name)"
   ]
  },
  {
   "cell_type": "code",
   "execution_count": 29,
   "metadata": {},
   "outputs": [
    {
     "data": {
      "text/plain": [
       "array(['SK_ID_PREV', 'SK_ID_CURR', 'MONTHS_BALANCE', 'AMT_BALANCE',\n",
       "       'AMT_CREDIT_LIMIT_ACTUAL', 'AMT_DRAWINGS_ATM_CURRENT',\n",
       "       'AMT_DRAWINGS_CURRENT', 'AMT_DRAWINGS_OTHER_CURRENT',\n",
       "       'AMT_DRAWINGS_POS_CURRENT', 'AMT_INST_MIN_REGULARITY',\n",
       "       'AMT_PAYMENT_CURRENT', 'AMT_PAYMENT_TOTAL_CURRENT',\n",
       "       'AMT_RECEIVABLE_PRINCIPAL', 'AMT_RECIVABLE',\n",
       "       'AMT_TOTAL_RECEIVABLE', 'CNT_DRAWINGS_ATM_CURRENT',\n",
       "       'CNT_DRAWINGS_CURRENT', 'CNT_DRAWINGS_OTHER_CURRENT',\n",
       "       'CNT_DRAWINGS_POS_CURRENT', 'CNT_INSTALMENT_MATURE_CUM',\n",
       "       'NAME_CONTRACT_STATUS', 'SK_DPD', 'SK_DPD_DEF',\n",
       "       'NAME_CONTRACT_STATUS_mean_AMT_BALANCE',\n",
       "       'NAME_CONTRACT_STATUS_mean_AMT_PAYMENT_TOTAL_CURRENT',\n",
       "       'NAME_CONTRACT_STATUS_mean_AMT_PAYMENT_CURRENT',\n",
       "       'NAME_CONTRACT_STATUS_mean_CNT_INSTALMENT_MATURE_CUM',\n",
       "       'NAME_CONTRACT_STATUS_mean_SK_DPD_DEF',\n",
       "       'NAME_CONTRACT_STATUS_mean_SK_DPD',\n",
       "       'NAME_CONTRACT_STATUS_mean_AMT_CREDIT_LIMIT_ACTUAL'], dtype=object)"
      ]
     },
     "execution_count": 29,
     "metadata": {},
     "output_type": "execute_result"
    }
   ],
   "source": [
    "credit_card_balance.columns.values"
   ]
  },
  {
   "cell_type": "code",
   "execution_count": 65,
   "metadata": {},
   "outputs": [
    {
     "data": {
      "text/plain": [
       "array(['SK_ID_CURR', 'credit_card_MONTHS_BALANCE_mean',\n",
       "       'credit_card_MONTHS_BALANCE_max', 'credit_card_MONTHS_BALANCE_min',\n",
       "       'credit_card_MONTHS_BALANCE_sum', 'credit_card_MONTHS_BALANCE_var',\n",
       "       'credit_card_AMT_BALANCE_mean', 'credit_card_AMT_BALANCE_max',\n",
       "       'credit_card_AMT_BALANCE_min', 'credit_card_AMT_BALANCE_sum',\n",
       "       'credit_card_AMT_BALANCE_var',\n",
       "       'credit_card_AMT_CREDIT_LIMIT_ACTUAL_mean',\n",
       "       'credit_card_AMT_CREDIT_LIMIT_ACTUAL_max',\n",
       "       'credit_card_AMT_CREDIT_LIMIT_ACTUAL_min',\n",
       "       'credit_card_AMT_CREDIT_LIMIT_ACTUAL_sum',\n",
       "       'credit_card_AMT_CREDIT_LIMIT_ACTUAL_var',\n",
       "       'credit_card_AMT_DRAWINGS_ATM_CURRENT_mean',\n",
       "       'credit_card_AMT_DRAWINGS_ATM_CURRENT_max',\n",
       "       'credit_card_AMT_DRAWINGS_ATM_CURRENT_min',\n",
       "       'credit_card_AMT_DRAWINGS_ATM_CURRENT_sum',\n",
       "       'credit_card_AMT_DRAWINGS_ATM_CURRENT_var',\n",
       "       'credit_card_AMT_DRAWINGS_CURRENT_mean',\n",
       "       'credit_card_AMT_DRAWINGS_CURRENT_max',\n",
       "       'credit_card_AMT_DRAWINGS_CURRENT_min',\n",
       "       'credit_card_AMT_DRAWINGS_CURRENT_sum',\n",
       "       'credit_card_AMT_DRAWINGS_CURRENT_var',\n",
       "       'credit_card_AMT_DRAWINGS_OTHER_CURRENT_mean',\n",
       "       'credit_card_AMT_DRAWINGS_OTHER_CURRENT_max',\n",
       "       'credit_card_AMT_DRAWINGS_OTHER_CURRENT_min',\n",
       "       'credit_card_AMT_DRAWINGS_OTHER_CURRENT_sum',\n",
       "       'credit_card_AMT_DRAWINGS_OTHER_CURRENT_var',\n",
       "       'credit_card_AMT_DRAWINGS_POS_CURRENT_mean',\n",
       "       'credit_card_AMT_DRAWINGS_POS_CURRENT_max',\n",
       "       'credit_card_AMT_DRAWINGS_POS_CURRENT_min',\n",
       "       'credit_card_AMT_DRAWINGS_POS_CURRENT_sum',\n",
       "       'credit_card_AMT_DRAWINGS_POS_CURRENT_var',\n",
       "       'credit_card_AMT_INST_MIN_REGULARITY_mean',\n",
       "       'credit_card_AMT_INST_MIN_REGULARITY_max',\n",
       "       'credit_card_AMT_INST_MIN_REGULARITY_min',\n",
       "       'credit_card_AMT_INST_MIN_REGULARITY_sum',\n",
       "       'credit_card_AMT_INST_MIN_REGULARITY_var',\n",
       "       'credit_card_AMT_PAYMENT_CURRENT_mean',\n",
       "       'credit_card_AMT_PAYMENT_CURRENT_max',\n",
       "       'credit_card_AMT_PAYMENT_CURRENT_min',\n",
       "       'credit_card_AMT_PAYMENT_CURRENT_sum',\n",
       "       'credit_card_AMT_PAYMENT_CURRENT_var',\n",
       "       'credit_card_AMT_PAYMENT_TOTAL_CURRENT_mean',\n",
       "       'credit_card_AMT_PAYMENT_TOTAL_CURRENT_max',\n",
       "       'credit_card_AMT_PAYMENT_TOTAL_CURRENT_min',\n",
       "       'credit_card_AMT_PAYMENT_TOTAL_CURRENT_sum',\n",
       "       'credit_card_AMT_PAYMENT_TOTAL_CURRENT_var',\n",
       "       'credit_card_AMT_RECEIVABLE_PRINCIPAL_mean',\n",
       "       'credit_card_AMT_RECEIVABLE_PRINCIPAL_max',\n",
       "       'credit_card_AMT_RECEIVABLE_PRINCIPAL_min',\n",
       "       'credit_card_AMT_RECEIVABLE_PRINCIPAL_sum',\n",
       "       'credit_card_AMT_RECEIVABLE_PRINCIPAL_var',\n",
       "       'credit_card_AMT_RECIVABLE_mean', 'credit_card_AMT_RECIVABLE_max',\n",
       "       'credit_card_AMT_RECIVABLE_min', 'credit_card_AMT_RECIVABLE_sum',\n",
       "       'credit_card_AMT_RECIVABLE_var',\n",
       "       'credit_card_AMT_TOTAL_RECEIVABLE_mean',\n",
       "       'credit_card_AMT_TOTAL_RECEIVABLE_max',\n",
       "       'credit_card_AMT_TOTAL_RECEIVABLE_min',\n",
       "       'credit_card_AMT_TOTAL_RECEIVABLE_sum',\n",
       "       'credit_card_AMT_TOTAL_RECEIVABLE_var',\n",
       "       'credit_card_CNT_DRAWINGS_ATM_CURRENT_mean',\n",
       "       'credit_card_CNT_DRAWINGS_ATM_CURRENT_max',\n",
       "       'credit_card_CNT_DRAWINGS_ATM_CURRENT_min',\n",
       "       'credit_card_CNT_DRAWINGS_ATM_CURRENT_sum',\n",
       "       'credit_card_CNT_DRAWINGS_ATM_CURRENT_var',\n",
       "       'credit_card_CNT_DRAWINGS_CURRENT_mean',\n",
       "       'credit_card_CNT_DRAWINGS_CURRENT_max',\n",
       "       'credit_card_CNT_DRAWINGS_CURRENT_min',\n",
       "       'credit_card_CNT_DRAWINGS_CURRENT_sum',\n",
       "       'credit_card_CNT_DRAWINGS_CURRENT_var',\n",
       "       'credit_card_CNT_DRAWINGS_OTHER_CURRENT_mean',\n",
       "       'credit_card_CNT_DRAWINGS_OTHER_CURRENT_max',\n",
       "       'credit_card_CNT_DRAWINGS_OTHER_CURRENT_min',\n",
       "       'credit_card_CNT_DRAWINGS_OTHER_CURRENT_sum',\n",
       "       'credit_card_CNT_DRAWINGS_OTHER_CURRENT_var',\n",
       "       'credit_card_CNT_DRAWINGS_POS_CURRENT_mean',\n",
       "       'credit_card_CNT_DRAWINGS_POS_CURRENT_max',\n",
       "       'credit_card_CNT_DRAWINGS_POS_CURRENT_min',\n",
       "       'credit_card_CNT_DRAWINGS_POS_CURRENT_sum',\n",
       "       'credit_card_CNT_DRAWINGS_POS_CURRENT_var',\n",
       "       'credit_card_CNT_INSTALMENT_MATURE_CUM_mean',\n",
       "       'credit_card_CNT_INSTALMENT_MATURE_CUM_max',\n",
       "       'credit_card_CNT_INSTALMENT_MATURE_CUM_min',\n",
       "       'credit_card_CNT_INSTALMENT_MATURE_CUM_sum',\n",
       "       'credit_card_CNT_INSTALMENT_MATURE_CUM_var',\n",
       "       'credit_card_SK_DPD_mean', 'credit_card_SK_DPD_max',\n",
       "       'credit_card_SK_DPD_min', 'credit_card_SK_DPD_sum',\n",
       "       'credit_card_SK_DPD_var', 'credit_card_SK_DPD_DEF_mean',\n",
       "       'credit_card_SK_DPD_DEF_max', 'credit_card_SK_DPD_DEF_min',\n",
       "       'credit_card_SK_DPD_DEF_sum', 'credit_card_SK_DPD_DEF_var',\n",
       "       'credit_card_NAME_CONTRACT_STATUS_mean_AMT_BALANCE_mean',\n",
       "       'credit_card_NAME_CONTRACT_STATUS_mean_AMT_BALANCE_max',\n",
       "       'credit_card_NAME_CONTRACT_STATUS_mean_AMT_BALANCE_min',\n",
       "       'credit_card_NAME_CONTRACT_STATUS_mean_AMT_BALANCE_sum',\n",
       "       'credit_card_NAME_CONTRACT_STATUS_mean_AMT_BALANCE_var',\n",
       "       'credit_card_NAME_CONTRACT_STATUS_mean_AMT_PAYMENT_TOTAL_CURRENT_mean',\n",
       "       'credit_card_NAME_CONTRACT_STATUS_mean_AMT_PAYMENT_TOTAL_CURRENT_max',\n",
       "       'credit_card_NAME_CONTRACT_STATUS_mean_AMT_PAYMENT_TOTAL_CURRENT_min',\n",
       "       'credit_card_NAME_CONTRACT_STATUS_mean_AMT_PAYMENT_TOTAL_CURRENT_sum',\n",
       "       'credit_card_NAME_CONTRACT_STATUS_mean_AMT_PAYMENT_TOTAL_CURRENT_var',\n",
       "       'credit_card_NAME_CONTRACT_STATUS_mean_AMT_PAYMENT_CURRENT_mean',\n",
       "       'credit_card_NAME_CONTRACT_STATUS_mean_AMT_PAYMENT_CURRENT_max',\n",
       "       'credit_card_NAME_CONTRACT_STATUS_mean_AMT_PAYMENT_CURRENT_min',\n",
       "       'credit_card_NAME_CONTRACT_STATUS_mean_AMT_PAYMENT_CURRENT_sum',\n",
       "       'credit_card_NAME_CONTRACT_STATUS_mean_AMT_PAYMENT_CURRENT_var',\n",
       "       'credit_card_NAME_CONTRACT_STATUS_mean_CNT_INSTALMENT_MATURE_CUM_mean',\n",
       "       'credit_card_NAME_CONTRACT_STATUS_mean_CNT_INSTALMENT_MATURE_CUM_max',\n",
       "       'credit_card_NAME_CONTRACT_STATUS_mean_CNT_INSTALMENT_MATURE_CUM_min',\n",
       "       'credit_card_NAME_CONTRACT_STATUS_mean_CNT_INSTALMENT_MATURE_CUM_sum',\n",
       "       'credit_card_NAME_CONTRACT_STATUS_mean_CNT_INSTALMENT_MATURE_CUM_var',\n",
       "       'credit_card_NAME_CONTRACT_STATUS_mean_SK_DPD_DEF_mean',\n",
       "       'credit_card_NAME_CONTRACT_STATUS_mean_SK_DPD_DEF_max',\n",
       "       'credit_card_NAME_CONTRACT_STATUS_mean_SK_DPD_DEF_min',\n",
       "       'credit_card_NAME_CONTRACT_STATUS_mean_SK_DPD_DEF_sum',\n",
       "       'credit_card_NAME_CONTRACT_STATUS_mean_SK_DPD_DEF_var',\n",
       "       'credit_card_NAME_CONTRACT_STATUS_mean_SK_DPD_mean',\n",
       "       'credit_card_NAME_CONTRACT_STATUS_mean_SK_DPD_max',\n",
       "       'credit_card_NAME_CONTRACT_STATUS_mean_SK_DPD_min',\n",
       "       'credit_card_NAME_CONTRACT_STATUS_mean_SK_DPD_sum',\n",
       "       'credit_card_NAME_CONTRACT_STATUS_mean_SK_DPD_var',\n",
       "       'credit_card_NAME_CONTRACT_STATUS_mean_AMT_CREDIT_LIMIT_ACTUAL_mean',\n",
       "       'credit_card_NAME_CONTRACT_STATUS_mean_AMT_CREDIT_LIMIT_ACTUAL_max',\n",
       "       'credit_card_NAME_CONTRACT_STATUS_mean_AMT_CREDIT_LIMIT_ACTUAL_min',\n",
       "       'credit_card_NAME_CONTRACT_STATUS_mean_AMT_CREDIT_LIMIT_ACTUAL_sum',\n",
       "       'credit_card_NAME_CONTRACT_STATUS_mean_AMT_CREDIT_LIMIT_ACTUAL_var',\n",
       "       'credit_card_NAME_CONTRACT_STATUS_Active_mean',\n",
       "       'credit_card_NAME_CONTRACT_STATUS_Active_max',\n",
       "       'credit_card_NAME_CONTRACT_STATUS_Active_min',\n",
       "       'credit_card_NAME_CONTRACT_STATUS_Active_sum',\n",
       "       'credit_card_NAME_CONTRACT_STATUS_Active_var',\n",
       "       'credit_card_NAME_CONTRACT_STATUS_Approved_mean',\n",
       "       'credit_card_NAME_CONTRACT_STATUS_Approved_max',\n",
       "       'credit_card_NAME_CONTRACT_STATUS_Approved_min',\n",
       "       'credit_card_NAME_CONTRACT_STATUS_Approved_sum',\n",
       "       'credit_card_NAME_CONTRACT_STATUS_Approved_var',\n",
       "       'credit_card_NAME_CONTRACT_STATUS_Completed_mean',\n",
       "       'credit_card_NAME_CONTRACT_STATUS_Completed_max',\n",
       "       'credit_card_NAME_CONTRACT_STATUS_Completed_min',\n",
       "       'credit_card_NAME_CONTRACT_STATUS_Completed_sum',\n",
       "       'credit_card_NAME_CONTRACT_STATUS_Completed_var',\n",
       "       'credit_card_NAME_CONTRACT_STATUS_Demand_mean',\n",
       "       'credit_card_NAME_CONTRACT_STATUS_Demand_max',\n",
       "       'credit_card_NAME_CONTRACT_STATUS_Demand_min',\n",
       "       'credit_card_NAME_CONTRACT_STATUS_Demand_sum',\n",
       "       'credit_card_NAME_CONTRACT_STATUS_Demand_var',\n",
       "       'credit_card_NAME_CONTRACT_STATUS_Refused_mean',\n",
       "       'credit_card_NAME_CONTRACT_STATUS_Refused_max',\n",
       "       'credit_card_NAME_CONTRACT_STATUS_Refused_min',\n",
       "       'credit_card_NAME_CONTRACT_STATUS_Refused_sum',\n",
       "       'credit_card_NAME_CONTRACT_STATUS_Refused_var',\n",
       "       'credit_card_NAME_CONTRACT_STATUS_Sent proposal_mean',\n",
       "       'credit_card_NAME_CONTRACT_STATUS_Sent proposal_max',\n",
       "       'credit_card_NAME_CONTRACT_STATUS_Sent proposal_min',\n",
       "       'credit_card_NAME_CONTRACT_STATUS_Sent proposal_sum',\n",
       "       'credit_card_NAME_CONTRACT_STATUS_Sent proposal_var',\n",
       "       'credit_card_NAME_CONTRACT_STATUS_Signed_mean',\n",
       "       'credit_card_NAME_CONTRACT_STATUS_Signed_max',\n",
       "       'credit_card_NAME_CONTRACT_STATUS_Signed_min',\n",
       "       'credit_card_NAME_CONTRACT_STATUS_Signed_sum',\n",
       "       'credit_card_NAME_CONTRACT_STATUS_Signed_var'], dtype=object)"
      ]
     },
     "execution_count": 65,
     "metadata": {},
     "output_type": "execute_result"
    }
   ],
   "source": [
    "credit_card_balance = pd.get_dummies(credit_card_balance)\n",
    "credit_card_balance_agg = credit_card_balance.drop(columns = ['SK_ID_PREV']).groupby('SK_ID_CURR', as_index = False).agg([ 'mean', 'max', 'min', 'sum','var']).reset_index()\n",
    "\n",
    "# List of column names\n",
    "columns = ['SK_ID_CURR']\n",
    "\n",
    "# Iterate through the variables names\n",
    "for var in credit_card_balance_agg.columns.levels[0]:\n",
    "    # Skip the id name\n",
    "    if var != 'SK_ID_CURR':\n",
    "        \n",
    "        # Iterate through the stat names\n",
    "        for stat in credit_card_balance_agg.columns.levels[1][:-1]:\n",
    "            # Make a new column name for the variable and stat\n",
    "            columns.append('credit_card_%s_%s' % (var, stat))\n",
    "credit_card_balance_agg.columns = columns\n",
    "credit_card_balance_agg.columns.values"
   ]
  },
  {
   "cell_type": "code",
   "execution_count": 66,
   "metadata": {
    "collapsed": true
   },
   "outputs": [],
   "source": [
    "credit_card_balance_agg = credit_card_balance_agg.drop(columns = [\n",
    "       'credit_card_NAME_CONTRACT_STATUS_Active_min',\n",
    "\n",
    "       'credit_card_NAME_CONTRACT_STATUS_Active_var',\n",
    "\n",
    "       'credit_card_NAME_CONTRACT_STATUS_Approved_min',\n",
    "\n",
    "       'credit_card_NAME_CONTRACT_STATUS_Approved_var',\n",
    "\n",
    "       'credit_card_NAME_CONTRACT_STATUS_Completed_min',\n",
    "\n",
    "       'credit_card_NAME_CONTRACT_STATUS_Completed_var',\n",
    "\n",
    "       'credit_card_NAME_CONTRACT_STATUS_Demand_min',\n",
    "\n",
    "\n",
    "       'credit_card_NAME_CONTRACT_STATUS_Refused_min',\n",
    "\n",
    "       'credit_card_NAME_CONTRACT_STATUS_Refused_var',\n",
    "\n",
    "       'credit_card_NAME_CONTRACT_STATUS_Sent proposal_min',\n",
    "  \n",
    "       'credit_card_NAME_CONTRACT_STATUS_Sent proposal_var',\n",
    "\n",
    "       'credit_card_NAME_CONTRACT_STATUS_Signed_min',\n",
    "\n",
    "       'credit_card_NAME_CONTRACT_STATUS_Signed_var']) "
   ]
  },
  {
   "cell_type": "code",
   "execution_count": 67,
   "metadata": {},
   "outputs": [
    {
     "data": {
      "text/plain": [
       "(356255, 1379)"
      ]
     },
     "execution_count": 67,
     "metadata": {},
     "output_type": "execute_result"
    }
   ],
   "source": [
    "all_data_try = all_data\n",
    "all_data_try = all_data_try.merge(credit_card_balance_agg, on = 'SK_ID_CURR', how = 'left')\n",
    "all_data_try.shape"
   ]
  },
  {
   "cell_type": "code",
   "execution_count": 68,
   "metadata": {
    "collapsed": true
   },
   "outputs": [],
   "source": [
    "del all_data"
   ]
  },
  {
   "cell_type": "code",
   "execution_count": 71,
   "metadata": {
    "collapsed": true
   },
   "outputs": [],
   "source": [
    "del credit_card_balance_agg\n",
    "del credit_card_balance"
   ]
  },
  {
   "cell_type": "code",
   "execution_count": 73,
   "metadata": {},
   "outputs": [
    {
     "data": {
      "text/plain": [
       "(356255, 1379)"
      ]
     },
     "execution_count": 73,
     "metadata": {},
     "output_type": "execute_result"
    }
   ],
   "source": [
    "all_data_try.shape"
   ]
  },
  {
   "cell_type": "code",
   "execution_count": 70,
   "metadata": {
    "collapsed": true
   },
   "outputs": [],
   "source": [
    "all_data_try.to_csv('all_data_try_v5.csv')\n",
    "#all_data_try = pd.read_csv('all_data_try_v2.csv')"
   ]
  },
  {
   "cell_type": "code",
   "execution_count": 2,
   "metadata": {
    "collapsed": true
   },
   "outputs": [],
   "source": [
    "all_data_try = pd.read_csv('all_data_try_v5.csv')"
   ]
  },
  {
   "cell_type": "code",
   "execution_count": 3,
   "metadata": {
    "collapsed": true
   },
   "outputs": [],
   "source": [
    "all_data_try= pd.get_dummies(all_data_try)"
   ]
  },
  {
   "cell_type": "code",
   "execution_count": 6,
   "metadata": {
    "collapsed": true
   },
   "outputs": [],
   "source": [
    "all_data_try = all_data_try.drop(columns =['Unnamed: 0'])"
   ]
  },
  {
   "cell_type": "code",
   "execution_count": 5,
   "metadata": {
    "collapsed": true
   },
   "outputs": [],
   "source": [
    "corrs = all_data_try.corr()"
   ]
  },
  {
   "cell_type": "code",
   "execution_count": 6,
   "metadata": {},
   "outputs": [
    {
     "name": "stdout",
     "output_type": "stream",
     "text": [
      "('Number of columns to remove: ', 325)\n"
     ]
    }
   ],
   "source": [
    "\n",
    "threshold = 0.985\n",
    "\n",
    "# Empty dictionary to hold correlated variables\n",
    "above_threshold_vars = {}\n",
    "\n",
    "# For each column, record the variables that are above the threshold\n",
    "for col in corrs:\n",
    "    above_threshold_vars[col] = list(corrs.index[corrs[col] > threshold])\n",
    "    cols_to_remove = []\n",
    "cols_seen = []\n",
    "cols_to_remove_pair = []\n",
    "\n",
    "# Iterate through columns and correlated columns\n",
    "for key, value in above_threshold_vars.items():\n",
    "    # Keep track of columns already examined\n",
    "    cols_seen.append(key)\n",
    "    for x in value:\n",
    "        if x == key:\n",
    "            next\n",
    "        else:\n",
    "            # Only want to remove one in a pair\n",
    "            if x not in cols_seen:\n",
    "                cols_to_remove.append(x)\n",
    "                cols_to_remove_pair.append(key)\n",
    "            \n",
    "cols_to_remove = list(set(cols_to_remove))\n",
    "print('Number of columns to remove: ', len(cols_to_remove))"
   ]
  },
  {
   "cell_type": "code",
   "execution_count": 8,
   "metadata": {
    "collapsed": true
   },
   "outputs": [],
   "source": [
    "for col in cols_to_remove:\n",
    "    del all_data_try[col]"
   ]
  },
  {
   "cell_type": "code",
   "execution_count": 7,
   "metadata": {},
   "outputs": [
    {
     "data": {
      "text/plain": [
       "(356255, 1500)"
      ]
     },
     "execution_count": 7,
     "metadata": {},
     "output_type": "execute_result"
    }
   ],
   "source": [
    "all_data_try.shape"
   ]
  },
  {
   "cell_type": "code",
   "execution_count": 8,
   "metadata": {
    "collapsed": true
   },
   "outputs": [],
   "source": [
    "ntrain = 307511\n",
    "ntest = 48744\n",
    "test_ID = all_data_try[ntrain:]['SK_ID_CURR']\n",
    "\n",
    "\n",
    "#all_data_try = all_data_try.astype(float)\n",
    "train_data = all_data_try[:ntrain]\n",
    "test_data = all_data_try[ntrain:]\n",
    "del test_data['TARGET']\n",
    "y__train = train_data.TARGET.values\n",
    "del train_data['TARGET']"
   ]
  },
  {
   "cell_type": "code",
   "execution_count": 9,
   "metadata": {
    "collapsed": true
   },
   "outputs": [],
   "source": [
    "import lightgbm as lgb\n",
    "from sklearn.model_selection import train_test_split"
   ]
  },
  {
   "cell_type": "code",
   "execution_count": 28,
   "metadata": {},
   "outputs": [
    {
     "data": {
      "text/plain": [
       "20.00000000000001"
      ]
     },
     "execution_count": 28,
     "metadata": {},
     "output_type": "execute_result"
    }
   ],
   "source": [
    "train_data['NEW_DOC_IND_KURT'].max()\n"
   ]
  },
  {
   "cell_type": "code",
   "execution_count": 27,
   "metadata": {},
   "outputs": [
    {
     "data": {
      "text/plain": [
       "225000.0"
      ]
     },
     "execution_count": 27,
     "metadata": {},
     "output_type": "execute_result"
    }
   ],
   "source": [
    "train_data['NEW_INC_BY_ORG'].max()"
   ]
  },
  {
   "cell_type": "code",
   "execution_count": 10,
   "metadata": {
    "collapsed": true
   },
   "outputs": [],
   "source": [
    "#y_train=application_train.TARGET.values\n",
    "x_train, x_val, y_train, y_val = train_test_split(train_data, y__train, test_size=0.2, random_state=18)\n",
    "lgb_train = lgb.Dataset(data=x_train, label=y_train)\n",
    "lgb_eval = lgb.Dataset(data=x_val, label=y_val)\n"
   ]
  },
  {
   "cell_type": "code",
   "execution_count": 11,
   "metadata": {
    "collapsed": true
   },
   "outputs": [],
   "source": [
    "del x_train, x_val, y_train, y_val,all_data_try"
   ]
  },
  {
   "cell_type": "code",
   "execution_count": 12,
   "metadata": {},
   "outputs": [
    {
     "data": {
      "text/plain": [
       "74"
      ]
     },
     "execution_count": 12,
     "metadata": {},
     "output_type": "execute_result"
    }
   ],
   "source": [
    "import gc\n",
    "gc.collect()"
   ]
  },
  {
   "cell_type": "code",
   "execution_count": 14,
   "metadata": {},
   "outputs": [
    {
     "name": "stdout",
     "output_type": "stream",
     "text": [
      "Training until validation scores don't improve for 300 rounds.\n",
      "[200]\tvalid_0's auc: 0.766512\n",
      "[400]\tvalid_0's auc: 0.77623\n",
      "[600]\tvalid_0's auc: 0.781249\n",
      "[800]\tvalid_0's auc: 0.784899\n",
      "[1000]\tvalid_0's auc: 0.787266\n",
      "[1200]\tvalid_0's auc: 0.78907\n",
      "[1400]\tvalid_0's auc: 0.790284\n",
      "[1600]\tvalid_0's auc: 0.791135\n",
      "[1800]\tvalid_0's auc: 0.791758\n",
      "[2000]\tvalid_0's auc: 0.792435\n",
      "[2200]\tvalid_0's auc: 0.792931\n",
      "[2400]\tvalid_0's auc: 0.793237\n",
      "[2600]\tvalid_0's auc: 0.793484\n",
      "[2800]\tvalid_0's auc: 0.793612\n",
      "[3000]\tvalid_0's auc: 0.79386\n",
      "[3200]\tvalid_0's auc: 0.793958\n",
      "[3400]\tvalid_0's auc: 0.794048\n",
      "[3600]\tvalid_0's auc: 0.794115\n",
      "[3800]\tvalid_0's auc: 0.794227\n",
      "[4000]\tvalid_0's auc: 0.794254\n",
      "Early stopping, best iteration is:\n",
      "[3869]\tvalid_0's auc: 0.794274\n"
     ]
    }
   ],
   "source": [
    "params = {'task': 'train', 'boosting_type': 'gbdt', 'objective': 'binary', 'metric': 'auc', \n",
    "          'learning_rate': 0.01, 'num_leaves': 32, 'num_iteration': 10000, 'verbose': -1 ,'silent':-1,\n",
    "          'colsample_bytree':0.05, 'subsample':1, 'max_depth':8, 'reg_alpha':0.04, 'reg_lambda':0.073, \n",
    "          'min_split_gain':0.02, 'min_child_weight':40,'scale_pos_weight': 1}\n",
    "\n",
    "model = lgb.train(params, lgb_train, valid_sets=lgb_eval,verbose_eval=200,early_stopping_rounds=300)"
   ]
  },
  {
   "cell_type": "code",
   "execution_count": 73,
   "metadata": {},
   "outputs": [
    {
     "name": "stdout",
     "output_type": "stream",
     "text": [
      "Training until validation scores don't improve for 300 rounds.\n",
      "[200]\tvalid_0's auc: 0.764339\n",
      "[400]\tvalid_0's auc: 0.772416\n",
      "[600]\tvalid_0's auc: 0.777903\n",
      "[800]\tvalid_0's auc: 0.781338\n",
      "[1000]\tvalid_0's auc: 0.784136\n",
      "[1200]\tvalid_0's auc: 0.786093\n",
      "[1400]\tvalid_0's auc: 0.787703\n",
      "[1600]\tvalid_0's auc: 0.788912\n",
      "[1800]\tvalid_0's auc: 0.789965\n",
      "[2000]\tvalid_0's auc: 0.790784\n",
      "[2200]\tvalid_0's auc: 0.79143\n",
      "[2400]\tvalid_0's auc: 0.791957\n",
      "[2600]\tvalid_0's auc: 0.792492\n",
      "[2800]\tvalid_0's auc: 0.792812\n",
      "[3000]\tvalid_0's auc: 0.793091\n",
      "[3200]\tvalid_0's auc: 0.793318\n",
      "[3400]\tvalid_0's auc: 0.793491\n",
      "[3600]\tvalid_0's auc: 0.793727\n",
      "[3800]\tvalid_0's auc: 0.793815\n",
      "[4000]\tvalid_0's auc: 0.793898\n",
      "[4200]\tvalid_0's auc: 0.793998\n",
      "[4400]\tvalid_0's auc: 0.794073\n",
      "[4600]\tvalid_0's auc: 0.794239\n",
      "[4800]\tvalid_0's auc: 0.794293\n",
      "[5000]\tvalid_0's auc: 0.794285\n",
      "[5200]\tvalid_0's auc: 0.794343\n",
      "[5400]\tvalid_0's auc: 0.794359\n",
      "[5600]\tvalid_0's auc: 0.794388\n",
      "[5800]\tvalid_0's auc: 0.794396\n",
      "[6000]\tvalid_0's auc: 0.794394\n",
      "Early stopping, best iteration is:\n",
      "[5894]\tvalid_0's auc: 0.794423\n"
     ]
    }
   ],
   "source": [
    "y_train=application_train.TARGET.values\n",
    "x_train, x_val, y_train, y_val = train_test_split(train_data, y_train, test_size=0.2, random_state=18)\n",
    "lgb_train = lgb.Dataset(data=x_train, label=y_train)\n",
    "lgb_eval = lgb.Dataset(data=x_val, label=y_val)\n",
    "params = {'task': 'train', 'boosting_type': 'gbdt', 'objective': 'binary', 'metric': 'auc', \n",
    "          'learning_rate': 0.01,'num_leaves': 32, 'num_iteration': 10000, 'verbose': -1 ,'silent':-1,\n",
    "          'colsample_bytree':0.05, 'subsample':0.5, 'max_depth':8, 'reg_alpha':0, 'reg_lambda':100, \n",
    "          'min_split_gain':0.5, 'min_child_weight':40,'scale_pos_weight': 1}\n",
    "model = lgb.train(params, lgb_train, valid_sets=lgb_eval,verbose_eval=200,early_stopping_rounds=300)"
   ]
  },
  {
   "cell_type": "code",
   "execution_count": 19,
   "metadata": {},
   "outputs": [
    {
     "name": "stdout",
     "output_type": "stream",
     "text": [
      "[200]\tcv_agg's auc: 0.762927 + 0.00433614\n",
      "[400]\tcv_agg's auc: 0.772544 + 0.00388293\n",
      "[600]\tcv_agg's auc: 0.778535 + 0.00345367\n",
      "[800]\tcv_agg's auc: 0.782512 + 0.0033181\n",
      "[1000]\tcv_agg's auc: 0.785235 + 0.00321738\n",
      "[1200]\tcv_agg's auc: 0.787099 + 0.00309384\n",
      "[1400]\tcv_agg's auc: 0.788518 + 0.00302637\n",
      "[1600]\tcv_agg's auc: 0.789696 + 0.00294613\n",
      "[1800]\tcv_agg's auc: 0.790536 + 0.00290679\n",
      "[2000]\tcv_agg's auc: 0.79123 + 0.00290265\n",
      "[2200]\tcv_agg's auc: 0.791771 + 0.00289328\n",
      "[2400]\tcv_agg's auc: 0.792221 + 0.00288357\n",
      "[2600]\tcv_agg's auc: 0.792609 + 0.00287585\n",
      "[2800]\tcv_agg's auc: 0.792928 + 0.00288487\n",
      "[3000]\tcv_agg's auc: 0.793232 + 0.00287129\n",
      "[3200]\tcv_agg's auc: 0.793462 + 0.00285051\n",
      "[3400]\tcv_agg's auc: 0.793658 + 0.00285222\n",
      "[3600]\tcv_agg's auc: 0.793812 + 0.00285635\n",
      "[3800]\tcv_agg's auc: 0.793949 + 0.0028537\n",
      "[4000]\tcv_agg's auc: 0.79403 + 0.002892\n",
      "[4200]\tcv_agg's auc: 0.794104 + 0.0028686\n",
      "[4400]\tcv_agg's auc: 0.794164 + 0.00289012\n",
      "[4600]\tcv_agg's auc: 0.794225 + 0.00289657\n",
      "[4800]\tcv_agg's auc: 0.794302 + 0.00289421\n",
      "[5000]\tcv_agg's auc: 0.794325 + 0.00291921\n",
      "[5200]\tcv_agg's auc: 0.794386 + 0.00295149\n",
      "[5400]\tcv_agg's auc: 0.794403 + 0.00296371\n",
      "[5600]\tcv_agg's auc: 0.794434 + 0.00297333\n",
      "[5800]\tcv_agg's auc: 0.794405 + 0.00298132\n"
     ]
    }
   ],
   "source": [
    "\n",
    "lgb_train = lgb.Dataset(data=train_data, label=y__train)\n",
    "params ={'task': 'train', 'boosting_type': 'gbdt', 'objective': 'binary', 'metric': 'auc', \n",
    "          'learning_rate': 0.01, 'num_leaves': 32, 'num_iteration': 10000, 'verbose': -1 ,'silent':-1,\n",
    "          'colsample_bytree':0.1, 'subsample':0.5, 'max_depth':8, 'reg_alpha':0, 'reg_lambda':100, \n",
    "          'min_split_gain':0.2, 'min_child_weight':40,'scale_pos_weight': 1}\n",
    "model = lgb.cv(params, lgb_train,verbose_eval=200,early_stopping_rounds=300)"
   ]
  },
  {
   "cell_type": "code",
   "execution_count": null,
   "metadata": {
    "collapsed": true
   },
   "outputs": [],
   "source": []
  },
  {
   "cell_type": "code",
   "execution_count": null,
   "metadata": {
    "collapsed": true
   },
   "outputs": [],
   "source": []
  },
  {
   "cell_type": "code",
   "execution_count": null,
   "metadata": {
    "collapsed": true
   },
   "outputs": [],
   "source": []
  },
  {
   "cell_type": "code",
   "execution_count": 21,
   "metadata": {},
   "outputs": [
    {
     "data": {
      "text/html": [
       "<div>\n",
       "<style scoped>\n",
       "    .dataframe tbody tr th:only-of-type {\n",
       "        vertical-align: middle;\n",
       "    }\n",
       "\n",
       "    .dataframe tbody tr th {\n",
       "        vertical-align: top;\n",
       "    }\n",
       "\n",
       "    .dataframe thead th {\n",
       "        text-align: right;\n",
       "    }\n",
       "</style>\n",
       "<table border=\"1\" class=\"dataframe\">\n",
       "  <thead>\n",
       "    <tr style=\"text-align: right;\">\n",
       "      <th></th>\n",
       "      <th>SK_ID_CURR</th>\n",
       "      <th>TARGET</th>\n",
       "    </tr>\n",
       "  </thead>\n",
       "  <tbody>\n",
       "    <tr>\n",
       "      <th>307511</th>\n",
       "      <td>100001</td>\n",
       "      <td>0.035204</td>\n",
       "    </tr>\n",
       "    <tr>\n",
       "      <th>307512</th>\n",
       "      <td>100005</td>\n",
       "      <td>0.180012</td>\n",
       "    </tr>\n",
       "    <tr>\n",
       "      <th>307513</th>\n",
       "      <td>100013</td>\n",
       "      <td>0.023314</td>\n",
       "    </tr>\n",
       "    <tr>\n",
       "      <th>307514</th>\n",
       "      <td>100028</td>\n",
       "      <td>0.052763</td>\n",
       "    </tr>\n",
       "    <tr>\n",
       "      <th>307515</th>\n",
       "      <td>100038</td>\n",
       "      <td>0.119242</td>\n",
       "    </tr>\n",
       "  </tbody>\n",
       "</table>\n",
       "</div>"
      ],
      "text/plain": [
       "        SK_ID_CURR    TARGET\n",
       "307511      100001  0.035204\n",
       "307512      100005  0.180012\n",
       "307513      100013  0.023314\n",
       "307514      100028  0.052763\n",
       "307515      100038  0.119242"
      ]
     },
     "execution_count": 21,
     "metadata": {},
     "output_type": "execute_result"
    }
   ],
   "source": [
    "#y_train=application_train.TARGET.values\n",
    "lgb_train = lgb.Dataset(data=train_data, label=y__train)\n",
    "params ={'task': 'train', 'boosting_type': 'gbdt', 'objective': 'binary', 'metric': 'auc', \n",
    "          'learning_rate': 0.01, 'num_leaves': 32, 'num_iteration': 5700, 'verbose': -1 ,'silent':-1,\n",
    "          'colsample_bytree':0.1, 'subsample':0.5, 'max_depth':8, 'reg_alpha':0, 'reg_lambda':100, \n",
    "          'min_split_gain':0.2, 'min_child_weight':40,'scale_pos_weight': 1}\n",
    "model = lgb.train(params, lgb_train)\n",
    "preds = model.predict(test_data.values)\n",
    "sub_lgb = pd.DataFrame()\n",
    "sub_lgb['SK_ID_CURR'] = test_ID\n",
    "sub_lgb['TARGET'] = preds\n",
    "sub_lgb.to_csv(\"lgb_v10_5700.csv\", index=False)\n",
    "sub_lgb.head()"
   ]
  },
  {
   "cell_type": "code",
   "execution_count": 89,
   "metadata": {
    "collapsed": true
   },
   "outputs": [],
   "source": [
    "del lgb_train"
   ]
  },
  {
   "cell_type": "code",
   "execution_count": null,
   "metadata": {
    "collapsed": true
   },
   "outputs": [],
   "source": [
    "sub_lgb.head(50)"
   ]
  },
  {
   "cell_type": "code",
   "execution_count": 32,
   "metadata": {},
   "outputs": [
    {
     "data": {
      "text/html": [
       "<div>\n",
       "<style scoped>\n",
       "    .dataframe tbody tr th:only-of-type {\n",
       "        vertical-align: middle;\n",
       "    }\n",
       "\n",
       "    .dataframe tbody tr th {\n",
       "        vertical-align: top;\n",
       "    }\n",
       "\n",
       "    .dataframe thead th {\n",
       "        text-align: right;\n",
       "    }\n",
       "</style>\n",
       "<table border=\"1\" class=\"dataframe\">\n",
       "  <thead>\n",
       "    <tr style=\"text-align: right;\">\n",
       "      <th></th>\n",
       "      <th>SK_ID_CURR</th>\n",
       "      <th>TARGET</th>\n",
       "    </tr>\n",
       "  </thead>\n",
       "  <tbody>\n",
       "    <tr>\n",
       "      <th>0</th>\n",
       "      <td>100001</td>\n",
       "      <td>0.041611</td>\n",
       "    </tr>\n",
       "    <tr>\n",
       "      <th>1</th>\n",
       "      <td>100005</td>\n",
       "      <td>0.140239</td>\n",
       "    </tr>\n",
       "    <tr>\n",
       "      <th>2</th>\n",
       "      <td>100013</td>\n",
       "      <td>0.023746</td>\n",
       "    </tr>\n",
       "    <tr>\n",
       "      <th>3</th>\n",
       "      <td>100028</td>\n",
       "      <td>0.045194</td>\n",
       "    </tr>\n",
       "    <tr>\n",
       "      <th>4</th>\n",
       "      <td>100038</td>\n",
       "      <td>0.129658</td>\n",
       "    </tr>\n",
       "  </tbody>\n",
       "</table>\n",
       "</div>"
      ],
      "text/plain": [
       "   SK_ID_CURR    TARGET\n",
       "0      100001  0.041611\n",
       "1      100005  0.140239\n",
       "2      100013  0.023746\n",
       "3      100028  0.045194\n",
       "4      100038  0.129658"
      ]
     },
     "execution_count": 32,
     "metadata": {},
     "output_type": "execute_result"
    }
   ],
   "source": [
    "sub_lgb['SK_ID_CURR'] = application_test['SK_ID_CURR']\n",
    "sub_lgb['TARGET'] = preds\n",
    "sub_lgb.to_csv(\"lgb_clean_3400.csv\", index=False)\n",
    "sub_lgb.head()"
   ]
  },
  {
   "cell_type": "code",
   "execution_count": 31,
   "metadata": {
    "collapsed": true
   },
   "outputs": [],
   "source": [
    "application_test = pd.read_csv('application_test.csv')"
   ]
  },
  {
   "cell_type": "code",
   "execution_count": 13,
   "metadata": {
    "collapsed": true
   },
   "outputs": [],
   "source": [
    "sub_lgb.to_csv(\"lgb_baseline_3200.csv\", index=False)"
   ]
  },
  {
   "cell_type": "code",
   "execution_count": 5,
   "metadata": {
    "collapsed": true
   },
   "outputs": [],
   "source": [
    "import xgboost as xgb"
   ]
  },
  {
   "cell_type": "code",
   "execution_count": 6,
   "metadata": {
    "collapsed": true
   },
   "outputs": [],
   "source": [
    "from xgboost import XGBClassifier\n",
    "from sklearn.model_selection import KFold, StratifiedKFold\n",
    "from sklearn.model_selection import train_test_split"
   ]
  },
  {
   "cell_type": "code",
   "execution_count": 10,
   "metadata": {
    "collapsed": true
   },
   "outputs": [],
   "source": [
    "\n",
    "#y_train=application_train.TARGET.values\n",
    "x_train, x_val, y_train, y_val = train_test_split(train_data, y__train, test_size=0.2, random_state=18)\n",
    "model=XGBClassifier(learning_rate =0.01, n_estimators=10000, max_depth=8, min_child_weight=40, subsample=1, colsample_bytree=0.05, objective= 'binary:logistic', \n",
    "            nthread=-1, scale_pos_weight=1, reg_lambda = 100)\n",
    "  \n",
    "eval_set=[(x_val,y_val)]"
   ]
  },
  {
   "cell_type": "code",
   "execution_count": 11,
   "metadata": {},
   "outputs": [
    {
     "name": "stdout",
     "output_type": "stream",
     "text": [
      "[0]\tvalidation_0-auc:0.597057\n",
      "Will train until validation_0-auc hasn't improved in 300 rounds.\n",
      "[100]\tvalidation_0-auc:0.743774\n",
      "[200]\tvalidation_0-auc:0.755536\n",
      "[300]\tvalidation_0-auc:0.763625\n",
      "[400]\tvalidation_0-auc:0.768701\n",
      "[500]\tvalidation_0-auc:0.773178\n",
      "[600]\tvalidation_0-auc:0.776368\n",
      "[700]\tvalidation_0-auc:0.779031\n",
      "[800]\tvalidation_0-auc:0.781118\n",
      "[900]\tvalidation_0-auc:0.782877\n",
      "[1000]\tvalidation_0-auc:0.78433\n",
      "[1100]\tvalidation_0-auc:0.78573\n",
      "[1200]\tvalidation_0-auc:0.786816\n",
      "[1300]\tvalidation_0-auc:0.787688\n",
      "[1400]\tvalidation_0-auc:0.788457\n",
      "[1500]\tvalidation_0-auc:0.789178\n",
      "[1600]\tvalidation_0-auc:0.789764\n",
      "[1700]\tvalidation_0-auc:0.790266\n",
      "[1800]\tvalidation_0-auc:0.790777\n",
      "[1900]\tvalidation_0-auc:0.79128\n",
      "[2000]\tvalidation_0-auc:0.791671\n",
      "[2100]\tvalidation_0-auc:0.791983\n",
      "[2200]\tvalidation_0-auc:0.792283\n",
      "[2300]\tvalidation_0-auc:0.792605\n",
      "[2400]\tvalidation_0-auc:0.792817\n",
      "[2500]\tvalidation_0-auc:0.793003\n",
      "[2600]\tvalidation_0-auc:0.793202\n",
      "[2700]\tvalidation_0-auc:0.793429\n",
      "[2800]\tvalidation_0-auc:0.793643\n",
      "[2900]\tvalidation_0-auc:0.793893\n",
      "[3000]\tvalidation_0-auc:0.794038\n",
      "[3100]\tvalidation_0-auc:0.794245\n",
      "[3200]\tvalidation_0-auc:0.794283\n",
      "[3300]\tvalidation_0-auc:0.794424\n",
      "[3400]\tvalidation_0-auc:0.794545\n",
      "[3500]\tvalidation_0-auc:0.794594\n",
      "[3600]\tvalidation_0-auc:0.794674\n",
      "[3700]\tvalidation_0-auc:0.794792\n",
      "[3800]\tvalidation_0-auc:0.794831\n",
      "[3900]\tvalidation_0-auc:0.794919\n",
      "[4000]\tvalidation_0-auc:0.794923\n",
      "[4100]\tvalidation_0-auc:0.794919\n",
      "[4200]\tvalidation_0-auc:0.794958\n",
      "[4300]\tvalidation_0-auc:0.794966\n",
      "[4400]\tvalidation_0-auc:0.79499\n",
      "[4500]\tvalidation_0-auc:0.795024\n",
      "[4600]\tvalidation_0-auc:0.795057\n",
      "[4700]\tvalidation_0-auc:0.795067\n",
      "[4800]\tvalidation_0-auc:0.795066\n",
      "[4900]\tvalidation_0-auc:0.795053\n",
      "[5000]\tvalidation_0-auc:0.795026\n",
      "[5100]\tvalidation_0-auc:0.795027\n",
      "Stopping. Best iteration:\n",
      "[4838]\tvalidation_0-auc:0.795089\n",
      "\n"
     ]
    },
    {
     "data": {
      "text/plain": [
       "XGBClassifier(base_score=0.5, booster='gbtree', colsample_bylevel=1,\n",
       "       colsample_bytree=0.05, gamma=0, learning_rate=0.01,\n",
       "       max_delta_step=0, max_depth=8, min_child_weight=40, missing=None,\n",
       "       n_estimators=10000, n_jobs=1, nthread=-1,\n",
       "       objective='binary:logistic', random_state=0, reg_alpha=0,\n",
       "       reg_lambda=100, scale_pos_weight=1, seed=None, silent=True,\n",
       "       subsample=1)"
      ]
     },
     "execution_count": 11,
     "metadata": {},
     "output_type": "execute_result"
    }
   ],
   "source": [
    "\n",
    "model.fit(x_train,y_train,early_stopping_rounds=300,eval_metric=\"auc\",eval_set=eval_set,verbose=100)"
   ]
  },
  {
   "cell_type": "code",
   "execution_count": 12,
   "metadata": {
    "collapsed": true
   },
   "outputs": [],
   "source": [
    "import xgboost as xgb\n",
    "\n",
    "dtrain = xgb.DMatrix(train_data,y__train)\n",
    "\n",
    "\n",
    "# specify parameters via map, definition are same as c++ version\n",
    "param = {'scale_pos_weight':1,'max_depth':8, 'eta':0.01, 'lambda' :100,'silent':1,'min_child_weight':40,'subsample':1, 'objective':'binary:logistic','colsample_bytree':0.05,}\n",
    "\n",
    "\n",
    "num_round = 4838\n",
    "model = xgb.train(param, dtrain, num_round)"
   ]
  },
  {
   "cell_type": "code",
   "execution_count": 13,
   "metadata": {},
   "outputs": [
    {
     "data": {
      "text/html": [
       "<div>\n",
       "<style scoped>\n",
       "    .dataframe tbody tr th:only-of-type {\n",
       "        vertical-align: middle;\n",
       "    }\n",
       "\n",
       "    .dataframe tbody tr th {\n",
       "        vertical-align: top;\n",
       "    }\n",
       "\n",
       "    .dataframe thead th {\n",
       "        text-align: right;\n",
       "    }\n",
       "</style>\n",
       "<table border=\"1\" class=\"dataframe\">\n",
       "  <thead>\n",
       "    <tr style=\"text-align: right;\">\n",
       "      <th></th>\n",
       "      <th>SK_ID_CURR</th>\n",
       "      <th>TARGET</th>\n",
       "    </tr>\n",
       "  </thead>\n",
       "  <tbody>\n",
       "    <tr>\n",
       "      <th>307511</th>\n",
       "      <td>100001</td>\n",
       "      <td>0.042876</td>\n",
       "    </tr>\n",
       "    <tr>\n",
       "      <th>307512</th>\n",
       "      <td>100005</td>\n",
       "      <td>0.137632</td>\n",
       "    </tr>\n",
       "    <tr>\n",
       "      <th>307513</th>\n",
       "      <td>100013</td>\n",
       "      <td>0.019636</td>\n",
       "    </tr>\n",
       "    <tr>\n",
       "      <th>307514</th>\n",
       "      <td>100028</td>\n",
       "      <td>0.048132</td>\n",
       "    </tr>\n",
       "    <tr>\n",
       "      <th>307515</th>\n",
       "      <td>100038</td>\n",
       "      <td>0.123605</td>\n",
       "    </tr>\n",
       "  </tbody>\n",
       "</table>\n",
       "</div>"
      ],
      "text/plain": [
       "        SK_ID_CURR    TARGET\n",
       "307511      100001  0.042876\n",
       "307512      100005  0.137632\n",
       "307513      100013  0.019636\n",
       "307514      100028  0.048132\n",
       "307515      100038  0.123605"
      ]
     },
     "execution_count": 13,
     "metadata": {},
     "output_type": "execute_result"
    }
   ],
   "source": [
    "dtest = xgb.DMatrix(test_data)\n",
    "preds = model.predict(dtest)\n",
    "sub_xgb = pd.DataFrame()\n",
    "sub_xgb['SK_ID_CURR'] = test_ID\n",
    "sub_xgb['TARGET'] = preds\n",
    "sub_xgb.to_csv(\"xgb_v5_4838.csv\", index=False)\n",
    "sub_xgb.head()"
   ]
  },
  {
   "cell_type": "code",
   "execution_count": null,
   "metadata": {
    "collapsed": true
   },
   "outputs": [],
   "source": []
  }
 ],
 "metadata": {
  "kernelspec": {
   "display_name": "Python 2",
   "language": "python",
   "name": "python2"
  },
  "language_info": {
   "codemirror_mode": {
    "name": "ipython",
    "version": 2
   },
   "file_extension": ".py",
   "mimetype": "text/x-python",
   "name": "python",
   "nbconvert_exporter": "python",
   "pygments_lexer": "ipython2",
   "version": "2.7.13"
  }
 },
 "nbformat": 4,
 "nbformat_minor": 2
}
